{
 "cells": [
  {
   "cell_type": "code",
   "execution_count": 1,
   "metadata": {},
   "outputs": [
    {
     "name": "stdout",
     "output_type": "stream",
     "text": [
      "Solving environment: ...working... done\n",
      "\n",
      "\n",
      "==> WARNING: A newer version of conda exists. <==\n",
      "  current version: 4.4.10\n",
      "  latest version: 4.5.0\n",
      "\n",
      "Please update conda by running\n",
      "\n",
      "    $ conda update -n base conda\n",
      "\n",
      "\n",
      "\n",
      "## Package Plan ##\n",
      "\n",
      "  environment location: /opt/conda/envs/tl-detect\n",
      "\n",
      "  added / updated specs: \n",
      "    - pyyaml\n",
      "\n",
      "\n",
      "The following packages will be downloaded:\n",
      "\n",
      "    package                    |            build\n",
      "    ---------------------------|-----------------\n",
      "    pyyaml-3.12                |           py35_1         394 KB  conda-forge\n",
      "    yaml-0.1.7                 |                0         302 KB  conda-forge\n",
      "    ------------------------------------------------------------\n",
      "                                           Total:         696 KB\n",
      "\n",
      "The following NEW packages will be INSTALLED:\n",
      "\n",
      "    pyyaml: 3.12-py35_1 conda-forge\n",
      "    yaml:   0.1.7-0     conda-forge\n",
      "\n",
      "Preparing transaction: ...working... done\n",
      "Verifying transaction: ...working... done\n",
      "Executing transaction: ...working... done\n"
     ]
    }
   ],
   "source": [
    "!bash -c 'source activate tl-detect && conda install -qy -c conda-forge pyyaml'"
   ]
  },
  {
   "cell_type": "code",
   "execution_count": 2,
   "metadata": {},
   "outputs": [],
   "source": [
    "import yaml\n",
    "import pandas as pd\n",
    "import cv2\n",
    "import os\n",
    "import pathlib\n",
    "import numpy as np\n",
    "from matplotlib import pyplot as plt\n",
    "from IPython.display import clear_output, Image, display\n",
    "from io import BytesIO\n",
    "import PIL.Image\n",
    "\n",
    "# See https://gist.github.com/kylemcdonald/2f1b9a255993bf9b2629\n",
    "def showarray(a, fmt='jpeg'):\n",
    "    a = np.uint8(np.clip(a, 0, 255))\n",
    "    f = BytesIO()\n",
    "    PIL.Image.fromarray(a).save(f, fmt)\n",
    "    display(Image(data=f.getvalue()))"
   ]
  },
  {
   "cell_type": "code",
   "execution_count": 3,
   "metadata": {},
   "outputs": [],
   "source": [
    "# This is needed to display the images.\n",
    "%matplotlib inline"
   ]
  },
  {
   "cell_type": "code",
   "execution_count": 4,
   "metadata": {},
   "outputs": [],
   "source": [
    "def load_bosch(bosch_path, file):\n",
    "    with open(os.path.join(bosch_path, file), 'r') as f:\n",
    "        df = pd.io.json.json_normalize(yaml.load(f))\n",
    "    boxes_len = df['boxes'].apply(lambda x: len(x))\n",
    "    return df[boxes_len > 2]"
   ]
  },
  {
   "cell_type": "code",
   "execution_count": 6,
   "metadata": {},
   "outputs": [],
   "source": [
    "def extract_tl(boxes, img_path, bosch_path, output_dir):\n",
    "    src_dir, src_name = os.path.split(img_path)\n",
    "    img = cv2.imread(os.path.join(bosch_path, img_path))\n",
    "    if img is None:\n",
    "        raise ValueError('for file: ' + os.path.join(bosch_path, img_path) + ' found img type:' + str(type(img)))\n",
    "\n",
    "    for i, b in enumerate(boxes):\n",
    "        if not b['occluded']:\n",
    "            x_min = np.int(boxes[1]['x_min']-3)\n",
    "            x_max = np.int(boxes[1]['x_max']+3)\n",
    "            y_min = np.int(boxes[1]['y_min']-3)\n",
    "            y_max = np.int(boxes[1]['y_max']+3)\n",
    "            label = b['label']\n",
    "            dst_dir = os.path.join(output_dir, label)\n",
    "\n",
    "            if not os.path.exists(dst_dir):\n",
    "                pathlib.Path(dst_dir).mkdir(parents=True)\n",
    "\n",
    "            fn = src_name + str(i) + \".jpg\"\n",
    "            cv2.imwrite(os.path.join(dst_dir, fn), img[y_min:y_max,x_min:x_max])"
   ]
  },
  {
   "cell_type": "code",
   "execution_count": 7,
   "metadata": {},
   "outputs": [],
   "source": [
    "img_path = 'imgs/bosch/train'\n",
    "data = load_bosch(img_path, 'train.yaml')\n",
    "data.apply(lambda x: extract_tl(boxes=x[0], img_path=x[1], \n",
    "                                bosch_path=img_path,\n",
    "                                output_dir=os.path.join('imgs', 'training', 'bosch')), axis=1);"
   ]
  },
  {
   "cell_type": "code",
   "execution_count": 8,
   "metadata": {},
   "outputs": [
    {
     "data": {
      "image/jpeg": "[encoded data removed]",
      "text/plain": [
       "<IPython.core.display.Image object>"
      ]
     },
     "metadata": {},
     "output_type": "display_data"
    }
   ],
   "source": [
    "greenright = cv2.imread('imgs/training/bosch/GreenRight/10648.png0.jpg')\n",
    "\n",
    "showarray(greenright[..., ::-1])"
   ]
  },
  {
   "cell_type": "code",
   "execution_count": null,
   "metadata": {},
   "outputs": [],
   "source": []
  }
 ],
 "metadata": {
  "kernelspec": {
   "display_name": "Python 3",
   "language": "python",
   "name": "python3"
  },
  "language_info": {
   "codemirror_mode": {
    "name": "ipython",
    "version": 3
   },
   "file_extension": ".py",
   "mimetype": "text/x-python",
   "name": "python",
   "nbconvert_exporter": "python",
   "pygments_lexer": "ipython3",
   "version": "3.5.5"
  }
 },
 "nbformat": 4,
 "nbformat_minor": 2
}
