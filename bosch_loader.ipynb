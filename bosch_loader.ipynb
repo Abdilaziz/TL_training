{
 "cells": [
  {
   "cell_type": "code",
   "execution_count": 1,
   "metadata": {},
   "outputs": [
    {
     "name": "stdout",
     "output_type": "stream",
     "text": [
      "Solving environment: ...working... done\n",
      "\n",
      "\n",
      "==> WARNING: A newer version of conda exists. <==\n",
      "  current version: 4.4.10\n",
      "  latest version: 4.5.0\n",
      "\n",
      "Please update conda by running\n",
      "\n",
      "    $ conda update -n base conda\n",
      "\n",
      "\n",
      "\n",
      "# All requested packages already installed.\n",
      "\n"
     ]
    }
   ],
   "source": [
    "!bash -c 'source activate tl-detect && conda install -qy -c conda-forge pyyaml'"
   ]
  },
  {
   "cell_type": "code",
   "execution_count": 94,
   "metadata": {},
   "outputs": [],
   "source": [
    "import yaml\n",
    "import pandas as pd\n",
    "import cv2\n",
    "import os\n",
    "import pathlib\n",
    "import numpy as np\n",
    "from matplotlib import pyplot as plt\n",
    "from IPython.display import clear_output, Image, display\n",
    "from io import BytesIO\n",
    "import PIL.Image\n",
    "\n",
    "# See https://gist.github.com/kylemcdonald/2f1b9a255993bf9b2629\n",
    "def showarray(a, fmt='jpeg'):\n",
    "    a = np.uint8(np.clip(a, 0, 255))\n",
    "    f = BytesIO()\n",
    "    PIL.Image.fromarray(a).save(f, fmt)\n",
    "    display(Image(data=f.getvalue()))\n",
    "    "
   ]
  },
  {
   "cell_type": "code",
   "execution_count": 39,
   "metadata": {},
   "outputs": [],
   "source": [
    "# This is needed to display the images.\n",
    "%matplotlib inline"
   ]
  },
  {
   "cell_type": "code",
   "execution_count": 9,
   "metadata": {},
   "outputs": [],
   "source": [
    "BOSCH_BASE = 'imgs/bosch_dataset'\n",
    "BOSCH_FILE = 'train.yaml'\n",
    "OUTPUT_DIR = os.path.join('imgs', 'training', 'bosch')"
   ]
  },
  {
   "cell_type": "code",
   "execution_count": 105,
   "metadata": {},
   "outputs": [
    {
     "name": "stdout",
     "output_type": "stream",
     "text": [
      "(5093, 2)\n"
     ]
    }
   ],
   "source": [
    "def load_bosch(bosch_path, file):\n",
    "    with open(os.path.join(bosch_path, file), 'r') as f:\n",
    "        df = pd.io.json.json_normalize(yaml.load(f))\n",
    "    boxes_len = df['boxes'].apply(lambda x: len(x))\n",
    "    return df[boxes_len > 2]\n",
    "              \n",
    "data = load_bosch(BOSCH_BASE, BOSCH_FILE)"
   ]
  },
  {
   "cell_type": "code",
   "execution_count": 99,
   "metadata": {},
   "outputs": [],
   "source": [
    "def extract_tl(boxes, img_path):\n",
    "    src_dir, src_name = os.path.split(img_path)\n",
    "\n",
    "    for i, b in enumerate(boxes):\n",
    "        if not b['occluded']:\n",
    "            x_min = np.int(boxes[1]['x_min']-3)\n",
    "            x_max = np.int(boxes[1]['x_max']+3)\n",
    "            y_min = np.int(boxes[1]['y_min']-3)\n",
    "            y_max = np.int(boxes[1]['y_max']+3)\n",
    "            label = b['label']\n",
    "            dst_dir = os.path.join(OUTPUT_DIR, label)\n",
    "\n",
    "            if not os.path.exists(dst_dir):\n",
    "                pathlib.Path(dst_dir).mkdir(parents=True)\n",
    "\n",
    "            fn = src_name + str(i) + \".jpg\"\n",
    "            cv2.imwrite(os.path.join(dst_dir, fn), img[y_min:y_max,x_min:x_max])"
   ]
  },
  {
   "cell_type": "code",
   "execution_count": 108,
   "metadata": {},
   "outputs": [
    {
     "data": {
      "text/plain": [
       "2       None\n",
       "3       None\n",
       "4       None\n",
       "5       None\n",
       "6       None\n",
       "7       None\n",
       "8       None\n",
       "9       None\n",
       "10      None\n",
       "11      None\n",
       "12      None\n",
       "13      None\n",
       "14      None\n",
       "15      None\n",
       "16      None\n",
       "17      None\n",
       "18      None\n",
       "19      None\n",
       "20      None\n",
       "21      None\n",
       "22      None\n",
       "23      None\n",
       "24      None\n",
       "25      None\n",
       "26      None\n",
       "27      None\n",
       "28      None\n",
       "29      None\n",
       "31      None\n",
       "32      None\n",
       "        ... \n",
       "5019    None\n",
       "5020    None\n",
       "5037    None\n",
       "5038    None\n",
       "5039    None\n",
       "5040    None\n",
       "5041    None\n",
       "5042    None\n",
       "5044    None\n",
       "5045    None\n",
       "5046    None\n",
       "5047    None\n",
       "5052    None\n",
       "5053    None\n",
       "5054    None\n",
       "5055    None\n",
       "5056    None\n",
       "5057    None\n",
       "5067    None\n",
       "5069    None\n",
       "5070    None\n",
       "5072    None\n",
       "5073    None\n",
       "5074    None\n",
       "5075    None\n",
       "5076    None\n",
       "5077    None\n",
       "5087    None\n",
       "5088    None\n",
       "5089    None\n",
       "Length: 2214, dtype: object"
      ]
     },
     "execution_count": 108,
     "metadata": {},
     "output_type": "execute_result"
    }
   ],
   "source": [
    "data.apply(lambda x: extract_tl(boxes=x[0], img_path=x[1]), axis=1);\n"
   ]
  },
  {
   "cell_type": "code",
   "execution_count": null,
   "metadata": {},
   "outputs": [],
   "source": []
  }
 ],
 "metadata": {
  "kernelspec": {
   "display_name": "Python 3",
   "language": "python",
   "name": "python3"
  },
  "language_info": {
   "codemirror_mode": {
    "name": "ipython",
    "version": 3
   },
   "file_extension": ".py",
   "mimetype": "text/x-python",
   "name": "python",
   "nbconvert_exporter": "python",
   "pygments_lexer": "ipython3",
   "version": "3.5.5"
  }
 },
 "nbformat": 4,
 "nbformat_minor": 2
}
