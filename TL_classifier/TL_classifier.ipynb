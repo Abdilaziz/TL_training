{
 "cells": [
  {
   "cell_type": "code",
   "execution_count": 1,
   "metadata": {},
   "outputs": [
    {
     "name": "stdout",
     "output_type": "stream",
     "text": [
      "Solving environment: ...working... done\n",
      "\n",
      "\n",
      "==> WARNING: A newer version of conda exists. <==\n",
      "  current version: 4.4.10\n",
      "  latest version: 4.5.0\n",
      "\n",
      "Please update conda by running\n",
      "\n",
      "    $ conda update -n base conda\n",
      "\n",
      "\n",
      "\n",
      "# All requested packages already installed.\n",
      "\n"
     ]
    }
   ],
   "source": [
    "!bash -c 'source activate tl-detect && conda install -qy -c conda-forge scikit-learn'"
   ]
  },
  {
   "cell_type": "code",
   "execution_count": 2,
   "metadata": {},
   "outputs": [],
   "source": [
    "import matplotlib.pyplot as plt\n",
    "from matplotlib.colors import hsv_to_rgb\n",
    "# Visualizations will be shown in the notebook.\n",
    "%matplotlib inline"
   ]
  },
  {
   "cell_type": "code",
   "execution_count": 3,
   "metadata": {},
   "outputs": [],
   "source": [
    "UNKNOWN = 4\n",
    "GREEN = 2\n",
    "YELLOW = 1\n",
    "RED = 0"
   ]
  },
  {
   "cell_type": "code",
   "execution_count": 189,
   "metadata": {},
   "outputs": [],
   "source": [
    "import cv2\n",
    "import os\n",
    "import numpy as np\n",
    "import logging\n",
    "import pandas as pd"
   ]
  },
  {
   "cell_type": "code",
   "execution_count": 5,
   "metadata": {},
   "outputs": [
    {
     "name": "stderr",
     "output_type": "stream",
     "text": [
      "/opt/conda/envs/tl-detect/lib/python3.5/site-packages/h5py/__init__.py:36: FutureWarning: Conversion of the second argument of issubdtype from `float` to `np.floating` is deprecated. In future, it will be treated as `np.float64 == np.dtype(float).type`.\n",
      "  from ._conv import register_converters as _register_converters\n"
     ]
    }
   ],
   "source": [
    "import tensorflow as tf"
   ]
  },
  {
   "cell_type": "code",
   "execution_count": 146,
   "metadata": {},
   "outputs": [],
   "source": [
    "# dimensions of our images, we want three times three squares\n",
    "img_width, img_height = 3*20, 20\n",
    "\n",
    "\n",
    "def read_img(img_path, dim, colspace = 'BGR'):\n",
    "    if colspace != 'GRAY':\n",
    "        img = cv2.imread(img_path)\n",
    "    else:\n",
    "        img = cv2.imread(img_path, 0)\n",
    "    if img is None:\n",
    "        raise ValueError('Couldn\\'t read img: ' + img_path)\n",
    "    if colspace == 'HSV':\n",
    "        img = cv2.cvtColor(img, cv2.COLOR_BGR2HSV)\n",
    "    if colspace == 'HLS':\n",
    "        img = cv2.cvtColor(img, cv2.COLOR_BGR2HLS)\n",
    "\n",
    "        \n",
    "    return cv2.resize(img, dim, interpolation=cv2.INTER_CUBIC)\n",
    "\n",
    "def read_color(path, color, dim, colspace):\n",
    "    x = np.stack([read_img(path + f, dim, colspace) for f in os.listdir(path)], axis=0)\n",
    "    y = np.full(x.shape[0], color)\n",
    "    p = np.stack([f for f in os.listdir(path)])\n",
    "    return (x, y, p)\n",
    "\n",
    "def read_tl_dir(path, dim, colspace, lib='keras'):\n",
    "    x = []\n",
    "    y = []\n",
    "    p = []\n",
    "    for directory, color in zip(['Red/', 'Yellow/', 'Green/'], [RED, YELLOW, GREEN]): \n",
    "        x_img, y_img, f_path = read_color(os.path.join(path, directory), color, dim, colspace)\n",
    "        x.append(x_img)\n",
    "        y.append(y_img)\n",
    "        p.append(f_path)\n",
    "    \n",
    "    x = np.concatenate(x)\n",
    "    y = np.concatenate(y)\n",
    "    p = np.concatenate(p)\n",
    "    #x = x.astype('float32')\n",
    "    return x, y, p\n",
    "    \n",
    "\n",
    "def read_train_test_tl(train_path, test_path, dim, colspace, lib='keras'):\n",
    "    x_train, y_train, p_train = read_tl_dir(train_path, dim, colspace, lib)\n",
    "    x_test, y_test, p_test = read_tl_dir(test_path, dim, colspace, lib)\n",
    "\n",
    "    return x_train, y_train, p_train, x_test, y_test, p_test\n",
    "\n",
    "\n",
    "train_data_dir = '../imgs/training/'\n",
    "validation_data_dir = '../imgs/validation/'\n",
    "\n",
    "x_train, y_train, p_train, x_validation, y_validation, p_validation = read_train_test_tl(train_data_dir, \n",
    "                                                                                         validation_data_dir, \n",
    "                                                                                         dim=(img_height, img_width),\n",
    "                                                                                         colspace='YSL', lib='tf')\n",
    "\n",
    "assert x_train.shape != x_validation.shape\n",
    "assert x_train.shape[1:] == x_validation.shape[1:]"
   ]
  },
  {
   "cell_type": "code",
   "execution_count": 147,
   "metadata": {},
   "outputs": [],
   "source": [
    "x = np.concatenate([x_train, x_validation])\n",
    "y = np.concatenate([y_train, y_validation])\n",
    "p = np.concatenate([p_train, p_validation])"
   ]
  },
  {
   "cell_type": "code",
   "execution_count": 148,
   "metadata": {},
   "outputs": [],
   "source": [
    "def add_gaussian_noise(X_imgs):\n",
    "    gaussian_noise_imgs = []\n",
    "    channels = 3\n",
    "    if (len(X_imgs[0].shape) == 3):\n",
    "        row, col, _ = X_imgs[0].shape\n",
    "    else:\n",
    "        row, col = X_imgs[0].shape\n",
    "        channels = 1\n",
    "    # Gaussian distribution parameters\n",
    "    mean = 0\n",
    "    var = 0.1\n",
    "    sigma = var ** 0.5\n",
    "    print(row, col)\n",
    "    for X_img in X_imgs:\n",
    "        gaussian = np.random.random((row, col, 1)).astype(np.float32)\n",
    "        if channels == 3:\n",
    "            gaussian = np.concatenate((gaussian, gaussian, gaussian), axis=2)           \n",
    "        gaussian_img = cv2.addWeighted(X_img, 0.75, 0.25 * gaussian, 0.25, 0)\n",
    "        gaussian_noise_imgs.append(gaussian_img)\n",
    "    gaussian_noise_imgs = np.array(gaussian_noise_imgs, dtype=np.float32)\n",
    "    return gaussian_noise_imgs"
   ]
  },
  {
   "cell_type": "code",
   "execution_count": 149,
   "metadata": {},
   "outputs": [],
   "source": [
    "def augment_imgs(X_imgs):\n",
    "    np.random.seed(seed=42)\n",
    "    col_mod = add_gaussian_noise(X_imgs)\n",
    "    return col_mod\n",
    "\n",
    "def balance_data(X_imgs, label, target_amount=5000):\n",
    "    np.random.seed(seed=42)\n",
    "    x_bal = []\n",
    "    y_bal = []\n",
    "    for col in [RED, GREEN, YELLOW]:\n",
    "        aug_idx = np.random.choice(np.where(label==col)[0], target_amount, replace=True)\n",
    "        x_bal.append(X_imgs[aug_idx])\n",
    "        y_bal.append(label[aug_idx])\n",
    "\n",
    "    x_bal = np.concatenate(x_bal)\n",
    "    y_bal = np.concatenate(y_bal)\n",
    "    \n",
    "    return x_bal, y_bal"
   ]
  },
  {
   "cell_type": "code",
   "execution_count": 198,
   "metadata": {},
   "outputs": [],
   "source": [
    "from sklearn.model_selection import train_test_split\n",
    "X_train, X_test, y_train, y_test = train_test_split(x, y, test_size=0.2, random_state=42, stratify=y)\n",
    "\n",
    "#X_train, y_train = balance_data(X_train, y_train)\n",
    "#X_test, y_test = balance_data(X_test, y_test, target_amount=200)\n",
    "#X_train = augment_imgs(X_train)"
   ]
  },
  {
   "cell_type": "code",
   "execution_count": 199,
   "metadata": {},
   "outputs": [
    {
     "data": {
      "text/plain": [
       "<matplotlib.image.AxesImage at 0x7f94212a8ba8>"
      ]
     },
     "execution_count": 199,
     "metadata": {},
     "output_type": "execute_result"
    },
    {
     "data": {
      "image/png": "[encoded data removed]",
      "text/plain": [
       "<Figure size 432x288 with 1 Axes>"
      ]
     },
     "metadata": {},
     "output_type": "display_data"
    },
    {
     "data": {
      "image/png": "[encoded data removed]",
      "text/plain": [
       "<Figure size 432x288 with 1 Axes>"
      ]
     },
     "metadata": {},
     "output_type": "display_data"
    }
   ],
   "source": [
    "idx = 50\n",
    "plt.figure(1)\n",
    "plt.imshow(X_test[50])\n",
    "plt.figure(2)\n",
    "plt.imshow(X_test[2])\n"
   ]
  },
  {
   "cell_type": "code",
   "execution_count": 200,
   "metadata": {},
   "outputs": [
    {
     "data": {
      "text/plain": [
       "<matplotlib.image.AxesImage at 0x7f94212c7ba8>"
      ]
     },
     "execution_count": 200,
     "metadata": {},
     "output_type": "execute_result"
    },
    {
     "data": {
      "image/png": "[encoded data removed]",
      "text/plain": [
       "<Figure size 432x288 with 1 Axes>"
      ]
     },
     "metadata": {},
     "output_type": "display_data"
    }
   ],
   "source": [
    "img = X_test[50]\n",
    "box = 2\n",
    "img_sqr = img[box * 20 : (box + 1) * 20, :]\n",
    "img_sqr = cv2.GaussianBlur(img_sqr, (5, 5), 0)\n",
    "K = 5\n",
    "Z = img_sqr.reshape((-1,1))\n",
    "Z = np.float32(Z)\n",
    "# define criteria, number of clusters(K) and apply kmeans()\n",
    "criteria = (cv2.TERM_CRITERIA_EPS + cv2.TERM_CRITERIA_MAX_ITER, 10, 1.0)\n",
    "ret,label,center=cv2.kmeans(Z,K,None,criteria,10,cv2.KMEANS_RANDOM_CENTERS)\n",
    "\n",
    "# Now convert back into uint8, and make original image\n",
    "center = np.uint8(center)\n",
    "res = center[label.flatten()]\n",
    "res2 = res.reshape((img_sqr.shape))\n",
    "plt.imshow(res2)\n"
   ]
  },
  {
   "cell_type": "code",
   "execution_count": 201,
   "metadata": {},
   "outputs": [
    {
     "data": {
      "text/plain": [
       "<matplotlib.image.AxesImage at 0x7f9421271a20>"
      ]
     },
     "execution_count": 201,
     "metadata": {},
     "output_type": "execute_result"
    },
    {
     "data": {
      "image/png": "[encoded data removed]",
      "text/plain": [
       "<Figure size 432x288 with 1 Axes>"
      ]
     },
     "metadata": {},
     "output_type": "display_data"
    }
   ],
   "source": [
    "img = X_test[56]\n",
    "Z = img.reshape((-1,3))\n",
    "\n",
    "# convert to np.float32\n",
    "Z = np.float32(Z)\n",
    "\n",
    "# define criteria, number of clusters(K) and apply kmeans()\n",
    "criteria = (cv2.TERM_CRITERIA_EPS + cv2.TERM_CRITERIA_MAX_ITER, 10, 1.0)\n",
    "K = 10\n",
    "ret,label,center = cv2.kmeans(Z,K,None,criteria,10,cv2.KMEANS_RANDOM_CENTERS)\n",
    "\n",
    "# Now convert back into uint8, and make original image\n",
    "center = np.uint8(center)\n",
    "res = center[label.flatten()]\n",
    "res2 = res.reshape((img.shape))\n",
    "plt.imshow(res2)"
   ]
  },
  {
   "cell_type": "code",
   "execution_count": 202,
   "metadata": {},
   "outputs": [],
   "source": [
    "box = 0\n",
    "box1_mean = np.mean(img[box * 20 : ((box + 1) * 20 - 1), :])\n",
    "box = 1\n",
    "box2_mean = np.mean(img[box * 20 : ((box + 1) * 20 - 1), :])\n",
    "box = 2\n",
    "box3_mean = np.mean(img[box * 20 : ((box + 1) * 20 - 1), :])\n",
    "\n"
   ]
  },
  {
   "cell_type": "code",
   "execution_count": 203,
   "metadata": {},
   "outputs": [],
   "source": [
    "def tl_classifier(img):\n",
    "    highest_mean = 0\n",
    "    tl_col = UNKNOWN\n",
    "    for i, col in enumerate([RED, YELLOW, GREEN]):\n",
    "        box_mean = np.mean(img[i * 20 : ((i + 1) * 20 - 1), :])\n",
    "        if box_mean > highest_mean:\n",
    "            highest_mean = box_mean\n",
    "            tl_col = col\n",
    "            \n",
    "    return tl_col"
   ]
  },
  {
   "cell_type": "code",
   "execution_count": 209,
   "metadata": {},
   "outputs": [],
   "source": [
    "tl_predictions = np.array([tl_classifier(img) for img in x_validation])"
   ]
  },
  {
   "cell_type": "code",
   "execution_count": 210,
   "metadata": {},
   "outputs": [
    {
     "data": {
      "text/html": [
       "<div>\n",
       "<style scoped>\n",
       "    .dataframe tbody tr th:only-of-type {\n",
       "        vertical-align: middle;\n",
       "    }\n",
       "\n",
       "    .dataframe tbody tr th {\n",
       "        vertical-align: top;\n",
       "    }\n",
       "\n",
       "    .dataframe thead th {\n",
       "        text-align: right;\n",
       "    }\n",
       "</style>\n",
       "<table border=\"1\" class=\"dataframe\">\n",
       "  <thead>\n",
       "    <tr style=\"text-align: right;\">\n",
       "      <th>obs</th>\n",
       "      <th>0</th>\n",
       "      <th>1</th>\n",
       "      <th>2</th>\n",
       "    </tr>\n",
       "    <tr>\n",
       "      <th>pred</th>\n",
       "      <th></th>\n",
       "      <th></th>\n",
       "      <th></th>\n",
       "    </tr>\n",
       "  </thead>\n",
       "  <tbody>\n",
       "    <tr>\n",
       "      <th>0</th>\n",
       "      <td>398</td>\n",
       "      <td>0</td>\n",
       "      <td>0</td>\n",
       "    </tr>\n",
       "    <tr>\n",
       "      <th>1</th>\n",
       "      <td>3</td>\n",
       "      <td>150</td>\n",
       "      <td>0</td>\n",
       "    </tr>\n",
       "    <tr>\n",
       "      <th>2</th>\n",
       "      <td>0</td>\n",
       "      <td>0</td>\n",
       "      <td>342</td>\n",
       "    </tr>\n",
       "  </tbody>\n",
       "</table>\n",
       "</div>"
      ],
      "text/plain": [
       "obs     0    1    2\n",
       "pred               \n",
       "0     398    0    0\n",
       "1       3  150    0\n",
       "2       0    0  342"
      ]
     },
     "execution_count": 210,
     "metadata": {},
     "output_type": "execute_result"
    }
   ],
   "source": [
    "pd.crosstab(tl_predictions, y_validation, rownames=['pred'], colnames=['obs'])"
   ]
  },
  {
   "cell_type": "code",
   "execution_count": 206,
   "metadata": {},
   "outputs": [
    {
     "data": {
      "text/plain": [
       "(array([  16,   21,   24,   34,   44,   49,   53,   54,   56,   60,   71,\n",
       "          82,   83,   88,   95,  117,  130,  142,  153,  159,  166,  175,\n",
       "         181,  184,  188,  196,  199,  200,  209,  215,  217,  220,  223,\n",
       "         225,  227,  228,  233,  243,  257,  268,  281,  285,  305,  308,\n",
       "         323,  326,  337,  342,  349,  354,  360,  375,  384,  387,  392,\n",
       "         408,  424,  431,  435,  444,  452,  457,  458,  469,  471,  475,\n",
       "         480,  482,  485,  498,  500,  506,  510,  515,  516,  520,  524,\n",
       "         534,  537,  541,  554,  564,  565,  568,  570,  574,  583,  596,\n",
       "         604,  609,  629,  630,  637,  642,  652,  655,  663,  674,  676,\n",
       "         678,  706,  737,  742,  743,  747,  752,  758,  760,  792,  795,\n",
       "         797,  802,  804,  805,  806,  808,  809,  821,  825,  828,  860,\n",
       "         861,  871,  881,  883,  884,  896,  927,  934,  952,  958,  963,\n",
       "         972,  977,  978,  993,  999, 1001, 1009, 1010, 1032, 1049, 1063,\n",
       "        1078, 1091, 1100, 1107, 1111, 1119, 1120, 1121, 1125, 1147, 1152,\n",
       "        1161, 1175, 1190, 1191, 1199, 1209, 1213, 1217, 1233, 1237, 1239,\n",
       "        1248, 1266, 1271, 1274, 1278, 1290, 1292, 1295, 1298, 1301, 1304,\n",
       "        1315, 1321, 1341, 1358, 1365, 1370, 1396, 1398, 1406, 1413, 1414,\n",
       "        1415, 1418, 1438, 1443, 1445, 1446, 1449, 1458, 1465, 1484, 1488,\n",
       "        1495, 1498, 1514, 1515, 1530, 1533, 1559, 1570, 1572, 1579, 1595,\n",
       "        1625, 1626, 1649, 1655, 1663, 1667, 1677, 1678, 1683, 1686, 1691,\n",
       "        1692, 1698, 1702, 1705, 1707, 1715, 1737, 1741, 1747, 1751, 1755,\n",
       "        1756, 1761, 1766, 1772, 1783, 1789, 1791, 1804, 1808, 1810, 1853,\n",
       "        1865, 1878, 1882, 1884, 1898, 1911, 1912, 1923, 1928, 1937, 1938,\n",
       "        1953, 1957, 1965, 1976, 1979, 1990, 1993, 2000, 2002, 2006, 2012,\n",
       "        2013, 2017, 2029, 2032, 2037, 2039, 2050, 2051, 2089, 2092, 2097,\n",
       "        2099, 2100, 2105, 2123, 2124, 2126, 2127, 2138, 2147, 2167, 2168,\n",
       "        2170, 2171, 2195, 2207, 2210, 2221, 2237, 2245, 2264, 2271, 2280,\n",
       "        2290, 2291, 2301, 2316, 2317, 2324, 2329, 2341, 2342, 2355, 2360,\n",
       "        2364, 2368, 2369, 2372, 2392, 2394, 2395, 2402, 2406, 2407, 2423,\n",
       "        2427, 2440, 2455, 2460, 2471, 2485, 2486, 2493, 2496, 2497, 2506,\n",
       "        2511, 2516, 2519, 2540, 2542, 2551, 2560, 2567, 2599, 2605, 2609,\n",
       "        2612, 2642, 2657, 2658, 2663, 2669, 2673, 2678, 2688, 2689, 2702,\n",
       "        2708, 2723, 2727, 2756, 2760, 2765, 2770, 2774, 2788, 2791, 2798,\n",
       "        2802, 2809, 2820, 2822, 2826, 2839, 2846, 2847, 2848, 2853, 2878,\n",
       "        2884, 2885, 2892, 2913, 2915, 2931, 2942, 2945, 2959, 2966, 2972,\n",
       "        2990, 3009, 3010, 3046, 3048, 3064, 3067, 3073, 3076, 3084, 3085,\n",
       "        3087, 3090, 3102, 3110, 3116, 3137, 3146, 3150, 3151, 3174, 3181,\n",
       "        3205, 3231, 3236, 3239, 3242, 3261, 3271, 3273, 3278, 3279, 3284,\n",
       "        3290, 3303, 3311, 3336, 3358, 3359, 3370, 3379, 3384, 3415, 3422,\n",
       "        3451, 3457, 3469, 3472, 3485, 3488, 3493, 3496, 3506, 3509, 3512,\n",
       "        3517, 3521, 3524, 3529, 3533, 3536, 3541, 3549, 3553, 3554, 3556,\n",
       "        3562, 3564, 3575, 3585, 3589, 3602, 3603, 3617, 3623, 3633, 3634,\n",
       "        3637, 3639, 3641, 3649, 3650, 3666, 3676, 3679, 3689, 3695, 3724,\n",
       "        3733, 3745, 3755, 3761, 3770, 3779, 3780, 3788, 3804, 3807]),)"
      ]
     },
     "execution_count": 206,
     "metadata": {},
     "output_type": "execute_result"
    }
   ],
   "source": [
    "np.where(tl_predictions != y_train)"
   ]
  },
  {
   "cell_type": "code",
   "execution_count": 207,
   "metadata": {},
   "outputs": [
    {
     "data": {
      "text/plain": [
       "0"
      ]
     },
     "execution_count": 207,
     "metadata": {},
     "output_type": "execute_result"
    },
    {
     "data": {
      "image/png": "[encoded data removed]",
      "text/plain": [
       "<Figure size 432x288 with 1 Axes>"
      ]
     },
     "metadata": {},
     "output_type": "display_data"
    }
   ],
   "source": [
    "idx = 16\n",
    "plt.imshow(X_train[idx])\n",
    "tl_classifier(X_train[idx])"
   ]
  },
  {
   "cell_type": "code",
   "execution_count": 208,
   "metadata": {},
   "outputs": [
    {
     "data": {
      "text/plain": [
       "0"
      ]
     },
     "execution_count": 208,
     "metadata": {},
     "output_type": "execute_result"
    },
    {
     "data": {
      "image/png": "[encoded data removed]",
      "text/plain": [
       "<Figure size 432x288 with 1 Axes>"
      ]
     },
     "metadata": {},
     "output_type": "display_data"
    }
   ],
   "source": [
    "idx = 3807\n",
    "plt.imshow(X_train[idx])\n",
    "tl_classifier(X_train[idx])"
   ]
  },
  {
   "cell_type": "code",
   "execution_count": null,
   "metadata": {},
   "outputs": [],
   "source": []
  }
 ],
 "metadata": {
  "kernelspec": {
   "display_name": "Python 3",
   "language": "python",
   "name": "python3"
  },
  "language_info": {
   "codemirror_mode": {
    "name": "ipython",
    "version": 3
   },
   "file_extension": ".py",
   "mimetype": "text/x-python",
   "name": "python",
   "nbconvert_exporter": "python",
   "pygments_lexer": "ipython3",
   "version": "3.5.5"
  }
 },
 "nbformat": 4,
 "nbformat_minor": 2
}
