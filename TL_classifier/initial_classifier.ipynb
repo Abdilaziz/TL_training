{
 "cells": [
  {
   "cell_type": "code",
   "execution_count": 1,
   "metadata": {},
   "outputs": [
    {
     "name": "stdout",
     "output_type": "stream",
     "text": [
      "Solving environment: ...working... done\n",
      "\n",
      "\n",
      "==> WARNING: A newer version of conda exists. <==\n",
      "  current version: 4.4.10\n",
      "  latest version: 4.5.0\n",
      "\n",
      "Please update conda by running\n",
      "\n",
      "    $ conda update -n base conda\n",
      "\n",
      "\n",
      "\n",
      "## Package Plan ##\n",
      "\n",
      "  environment location: /opt/conda/envs/tl-detect\n",
      "\n",
      "  added / updated specs: \n",
      "    - keras\n",
      "\n",
      "\n",
      "The following packages will be downloaded:\n",
      "\n",
      "    package                    |            build\n",
      "    ---------------------------|-----------------\n",
      "    h5py-2.7.1                 |           py35_2         3.9 MB  conda-forge\n",
      "    keras-2.1.5                |           py35_0         498 KB  conda-forge\n",
      "    yaml-0.1.7                 |                0         302 KB  conda-forge\n",
      "    pygpu-0.7.5                |           py35_0         1.4 MB  conda-forge\n",
      "    mako-1.0.7                 |           py35_0         115 KB  conda-forge\n",
      "    scipy-1.0.1                |py35_blas_openblas_200        39.4 MB  conda-forge\n",
      "    markupsafe-1.0             |           py35_0          32 KB  conda-forge\n",
      "    theano-1.0.1               |           py35_1         3.7 MB  conda-forge\n",
      "    libgpuarray-0.7.5          |                0         247 KB  conda-forge\n",
      "    pyyaml-3.12                |           py35_1         394 KB  conda-forge\n",
      "    ------------------------------------------------------------\n",
      "                                           Total:        50.0 MB\n",
      "\n",
      "The following NEW packages will be INSTALLED:\n",
      "\n",
      "    h5py:        2.7.1-py35_2                 conda-forge\n",
      "    keras:       2.1.5-py35_0                 conda-forge\n",
      "    libgpuarray: 0.7.5-0                      conda-forge\n",
      "    mako:        1.0.7-py35_0                 conda-forge\n",
      "    markupsafe:  1.0-py35_0                   conda-forge\n",
      "    pygpu:       0.7.5-py35_0                 conda-forge\n",
      "    pyyaml:      3.12-py35_1                  conda-forge\n",
      "    scipy:       1.0.1-py35_blas_openblas_200 conda-forge [blas_openblas]\n",
      "    theano:      1.0.1-py35_1                 conda-forge\n",
      "    yaml:        0.1.7-0                      conda-forge\n",
      "\n",
      "Preparing transaction: ...working... done\n",
      "Verifying transaction: ...working... done\n",
      "Executing transaction: ...working... done\n"
     ]
    }
   ],
   "source": [
    "!bash -c 'source activate tl-detect && conda install -qy -c conda-forge keras'"
   ]
  },
  {
   "cell_type": "code",
   "execution_count": 29,
   "metadata": {},
   "outputs": [
    {
     "name": "stdout",
     "output_type": "stream",
     "text": [
      "{\n",
      "    \"backend\": \"tensorflow\",\n",
      "    \"image_data_format\": \"channels_last\",\n",
      "    \"epsilon\": 1e-07,\n",
      "    \"floatx\": \"float32\"\n",
      "}"
     ]
    }
   ],
   "source": [
    "!cat ~/.keras/keras.json"
   ]
  },
  {
   "cell_type": "code",
   "execution_count": 24,
   "metadata": {},
   "outputs": [
    {
     "name": "stdout",
     "output_type": "stream",
     "text": [
      "cp: cannot stat '../imgs/training/bosch/Green': No such file or directory\n"
     ]
    }
   ],
   "source": [
    "!cp -R ../imgs/training/bosch/Green ../imgs/training/ && cp -R ../imgs/training/bosch/Red ../imgs/training/ && cp -R ../imgs/training/bosch/Yellow ../imgs/training/  && mv ../imgs/training/bosch ../imgs/bosch_tl "
   ]
  },
  {
   "cell_type": "code",
   "execution_count": null,
   "metadata": {},
   "outputs": [],
   "source": [
    "! cd ../imgs/training && find . -size 0 -exec rm {} \\;"
   ]
  },
  {
   "cell_type": "code",
   "execution_count": 58,
   "metadata": {},
   "outputs": [],
   "source": [
    "from keras.preprocessing.image import ImageDataGenerator\n",
    "from keras.models import Sequential\n",
    "from keras.layers import Conv2D, MaxPooling2D\n",
    "from keras.layers import Activation, Dropout, Flatten, Dense\n",
    "from keras import backend as K\n",
    "\n",
    "# dimensions of our images.\n",
    "img_width, img_height = 75, 40\n"
   ]
  },
  {
   "cell_type": "code",
   "execution_count": 66,
   "metadata": {},
   "outputs": [],
   "source": [
    "UNKNOWN = 4\n",
    "GREEN = 2\n",
    "YELLOW = 1\n",
    "RED = 0"
   ]
  },
  {
   "cell_type": "code",
   "execution_count": 48,
   "metadata": {},
   "outputs": [],
   "source": [
    "import cv2\n",
    "import os\n",
    "import numpy as np"
   ]
  },
  {
   "cell_type": "code",
   "execution_count": 117,
   "metadata": {},
   "outputs": [],
   "source": [
    "def read_img(img_path, dim):\n",
    "    img = cv2.imread(img_path)\n",
    "    if img is None:\n",
    "        raise ValueError('Couldn\\'t read img: ' + img_path)\n",
    "    return cv2.resize(img, dim, interpolation=cv2.INTER_CUBIC)\n",
    "\n",
    "def read_color(path, color):\n",
    "    x = np.stack([read_img(path + f, (img_height, img_width)) for f in os.listdir(path)], axis=0)\n",
    "    y = np.full(x.shape[0], color)\n",
    "    return (x, y)\n",
    "\n",
    "x_train = []\n",
    "y_train = []\n",
    "for directory, color in zip(['Red/', 'Yellow/', 'Green/'], [RED, YELLOW, GREEN]):\n",
    "    x, y = read_color(os.path.join(train_data_dir, directory), color)\n",
    "    x_train.append(x)\n",
    "    y_train.append(y)\n",
    "\n",
    "x_train = np.concatenate(x_train)\n",
    "y_train = np.concatenate(y_train)\n",
    "\n",
    "x_validation = []\n",
    "y_validation = []\n",
    "for directory, color in zip(['Red/', 'Yellow/', 'Green/'], [RED, YELLOW, GREEN]):\n",
    "    x, y = read_color(os.path.join(validation_data_dir, directory), color)\n",
    "    x_validation.append(x)\n",
    "    y_validation.append(y)\n",
    "\n",
    "x_validation = np.concatenate(x_validation)\n",
    "y_validation = np.concatenate(y_validation)\n",
    "\n",
    "\n"
   ]
  },
  {
   "cell_type": "code",
   "execution_count": 118,
   "metadata": {},
   "outputs": [],
   "source": [
    "x_train = x_train.astype('float32')\n",
    "x_validation = x_validation.astype('float32')\n",
    "x_train /= 255\n",
    "x_validation /= 255\n",
    "NUM_CLASSES = 3\n",
    "\n",
    "# convert class vectors to binary class matrices\n",
    "y_train = keras.utils.to_categorical(y_train, NUM_CLASSES)\n",
    "y_validation = keras.utils.to_categorical(y_validation, NUM_CLASSES)\n"
   ]
  },
  {
   "cell_type": "code",
   "execution_count": 119,
   "metadata": {},
   "outputs": [
    {
     "data": {
      "text/plain": [
       "(7246, 75, 40, 3)"
      ]
     },
     "execution_count": 119,
     "metadata": {},
     "output_type": "execute_result"
    }
   ],
   "source": [
    "x_train.shape"
   ]
  },
  {
   "cell_type": "code",
   "execution_count": 123,
   "metadata": {},
   "outputs": [
    {
     "name": "stdout",
     "output_type": "stream",
     "text": [
      "Train on 7246 samples, validate on 893 samples\n",
      "Epoch 1/50\n",
      "7246/7246 [==============================] - 12s 2ms/step - loss: 0.6251 - acc: 0.7766 - val_loss: 1.0999 - val_acc: 0.7312\n",
      "Epoch 2/50\n",
      "7246/7246 [==============================] - 10s 1ms/step - loss: 0.5722 - acc: 0.7957 - val_loss: 1.2093 - val_acc: 0.3830\n",
      "Epoch 3/50\n",
      "7246/7246 [==============================] - 10s 1ms/step - loss: 0.5528 - acc: 0.8055 - val_loss: 1.3271 - val_acc: 0.4490\n",
      "Epoch 4/50\n",
      "7246/7246 [==============================] - 10s 1ms/step - loss: 0.5402 - acc: 0.8107 - val_loss: 1.0476 - val_acc: 0.4558\n",
      "Epoch 5/50\n",
      "7246/7246 [==============================] - 10s 1ms/step - loss: 0.5273 - acc: 0.8153 - val_loss: 1.0852 - val_acc: 0.3953\n",
      "Epoch 6/50\n",
      "7246/7246 [==============================] - 10s 1ms/step - loss: 0.5212 - acc: 0.8171 - val_loss: 0.9915 - val_acc: 0.5398\n",
      "Epoch 7/50\n",
      "7246/7246 [==============================] - 10s 1ms/step - loss: 0.5098 - acc: 0.8205 - val_loss: 1.1194 - val_acc: 0.4703\n",
      "Epoch 8/50\n",
      "7246/7246 [==============================] - 10s 1ms/step - loss: 0.4978 - acc: 0.8260 - val_loss: 1.0937 - val_acc: 0.3348\n",
      "Epoch 9/50\n",
      "7246/7246 [==============================] - 10s 1ms/step - loss: 0.4883 - acc: 0.8300 - val_loss: 1.1498 - val_acc: 0.2777\n",
      "Epoch 10/50\n",
      "7246/7246 [==============================] - 10s 1ms/step - loss: 0.4810 - acc: 0.8319 - val_loss: 1.0570 - val_acc: 0.5330\n",
      "Epoch 11/50\n",
      "7246/7246 [==============================] - 10s 1ms/step - loss: 0.4744 - acc: 0.8319 - val_loss: 1.0993 - val_acc: 0.3740\n",
      "Epoch 12/50\n",
      "7246/7246 [==============================] - 10s 1ms/step - loss: 0.4594 - acc: 0.8398 - val_loss: 0.8533 - val_acc: 0.6708\n",
      "Epoch 13/50\n",
      "7246/7246 [==============================] - 10s 1ms/step - loss: 0.4562 - acc: 0.8439 - val_loss: 1.3876 - val_acc: 0.3830\n",
      "Epoch 14/50\n",
      "7246/7246 [==============================] - 10s 1ms/step - loss: 0.4504 - acc: 0.8400 - val_loss: 1.3045 - val_acc: 0.2609\n",
      "Epoch 15/50\n",
      "7246/7246 [==============================] - 10s 1ms/step - loss: 0.4477 - acc: 0.8416 - val_loss: 1.2428 - val_acc: 0.2419\n",
      "Epoch 16/50\n",
      "7246/7246 [==============================] - 10s 1ms/step - loss: 0.4398 - acc: 0.8464 - val_loss: 1.2114 - val_acc: 0.1120\n",
      "Epoch 17/50\n",
      "7246/7246 [==============================] - 10s 1ms/step - loss: 0.4315 - acc: 0.8442 - val_loss: 1.0440 - val_acc: 0.4782\n",
      "Epoch 18/50\n",
      "7246/7246 [==============================] - 10s 1ms/step - loss: 0.4278 - acc: 0.8512 - val_loss: 1.1378 - val_acc: 0.3158\n",
      "Epoch 19/50\n",
      "7246/7246 [==============================] - 10s 1ms/step - loss: 0.4228 - acc: 0.8496 - val_loss: 1.1367 - val_acc: 0.3774\n",
      "Epoch 20/50\n",
      "7246/7246 [==============================] - 10s 1ms/step - loss: 0.4168 - acc: 0.8508 - val_loss: 1.1061 - val_acc: 0.2755\n",
      "Epoch 21/50\n",
      "7246/7246 [==============================] - 10s 1ms/step - loss: 0.4123 - acc: 0.8533 - val_loss: 1.1607 - val_acc: 0.3460\n",
      "Epoch 22/50\n",
      "7246/7246 [==============================] - 10s 1ms/step - loss: 0.4090 - acc: 0.8516 - val_loss: 1.5054 - val_acc: 0.3998\n",
      "Epoch 23/50\n",
      "7246/7246 [==============================] - 10s 1ms/step - loss: 0.4035 - acc: 0.8592 - val_loss: 1.0819 - val_acc: 0.5879\n",
      "Epoch 24/50\n",
      "7246/7246 [==============================] - 10s 1ms/step - loss: 0.4029 - acc: 0.8539 - val_loss: 0.9369 - val_acc: 0.5532\n",
      "Epoch 25/50\n",
      "7246/7246 [==============================] - 10s 1ms/step - loss: 0.3932 - acc: 0.8551 - val_loss: 0.8856 - val_acc: 0.6327\n",
      "Epoch 26/50\n",
      "7246/7246 [==============================] - 10s 1ms/step - loss: 0.3970 - acc: 0.8603 - val_loss: 0.8972 - val_acc: 0.5689\n",
      "Epoch 27/50\n",
      "7246/7246 [==============================] - 10s 1ms/step - loss: 0.3870 - acc: 0.8574 - val_loss: 1.2250 - val_acc: 0.4244\n",
      "Epoch 28/50\n",
      "7246/7246 [==============================] - 10s 1ms/step - loss: 0.3908 - acc: 0.8541 - val_loss: 0.9621 - val_acc: 0.5991\n",
      "Epoch 29/50\n",
      "7246/7246 [==============================] - 10s 1ms/step - loss: 0.3833 - acc: 0.8579 - val_loss: 1.0478 - val_acc: 0.6013\n",
      "Epoch 30/50\n",
      "7246/7246 [==============================] - 10s 1ms/step - loss: 0.3897 - acc: 0.8573 - val_loss: 0.8246 - val_acc: 0.7044\n",
      "Epoch 31/50\n",
      "7246/7246 [==============================] - 10s 1ms/step - loss: 0.3797 - acc: 0.8591 - val_loss: 1.0335 - val_acc: 0.3931\n",
      "Epoch 32/50\n",
      "7246/7246 [==============================] - 10s 1ms/step - loss: 0.3842 - acc: 0.8573 - val_loss: 1.0306 - val_acc: 0.4782\n",
      "Epoch 33/50\n",
      "7246/7246 [==============================] - 10s 1ms/step - loss: 0.3788 - acc: 0.8576 - val_loss: 0.9429 - val_acc: 0.5801\n",
      "Epoch 34/50\n",
      "7246/7246 [==============================] - 10s 1ms/step - loss: 0.3739 - acc: 0.8617 - val_loss: 1.0250 - val_acc: 0.4513\n",
      "Epoch 35/50\n",
      "7246/7246 [==============================] - 10s 1ms/step - loss: 0.3761 - acc: 0.8623 - val_loss: 1.0099 - val_acc: 0.4916\n",
      "Epoch 36/50\n",
      "7246/7246 [==============================] - 10s 1ms/step - loss: 0.3728 - acc: 0.8605 - val_loss: 0.9745 - val_acc: 0.5543\n",
      "Epoch 37/50\n",
      "7246/7246 [==============================] - 10s 1ms/step - loss: 0.3741 - acc: 0.8570 - val_loss: 1.7645 - val_acc: 0.3852\n",
      "Epoch 38/50\n",
      "7246/7246 [==============================] - 10s 1ms/step - loss: 0.3680 - acc: 0.8601 - val_loss: 1.4999 - val_acc: 0.3841\n",
      "Epoch 39/50\n",
      "7246/7246 [==============================] - 10s 1ms/step - loss: 0.3651 - acc: 0.8610 - val_loss: 1.1727 - val_acc: 0.3830\n",
      "Epoch 40/50\n",
      "7246/7246 [==============================] - 10s 1ms/step - loss: 0.3648 - acc: 0.8624 - val_loss: 1.1331 - val_acc: 0.4155\n",
      "Epoch 41/50\n",
      "7246/7246 [==============================] - 10s 1ms/step - loss: 0.3678 - acc: 0.8567 - val_loss: 0.9827 - val_acc: 0.5386\n",
      "Epoch 42/50\n",
      "7246/7246 [==============================] - 10s 1ms/step - loss: 0.3643 - acc: 0.8621 - val_loss: 0.9909 - val_acc: 0.4479\n",
      "Epoch 43/50\n",
      "7246/7246 [==============================] - 10s 1ms/step - loss: 0.3610 - acc: 0.8603 - val_loss: 1.0365 - val_acc: 0.4031\n",
      "Epoch 44/50\n",
      "7246/7246 [==============================] - 10s 1ms/step - loss: 0.3662 - acc: 0.8612 - val_loss: 0.8470 - val_acc: 0.6260\n",
      "Epoch 45/50\n",
      "7246/7246 [==============================] - 10s 1ms/step - loss: 0.3662 - acc: 0.8609 - val_loss: 0.6044 - val_acc: 0.7928\n",
      "Epoch 46/50\n",
      "7246/7246 [==============================] - 10s 1ms/step - loss: 0.3623 - acc: 0.8606 - val_loss: 0.9721 - val_acc: 0.4950\n",
      "Epoch 47/50\n",
      "7246/7246 [==============================] - 10s 1ms/step - loss: 0.3610 - acc: 0.8608 - val_loss: 0.8933 - val_acc: 0.5398\n",
      "Epoch 48/50\n",
      "7246/7246 [==============================] - 10s 1ms/step - loss: 0.3559 - acc: 0.8590 - val_loss: 0.7946 - val_acc: 0.6596\n",
      "Epoch 49/50\n",
      "7246/7246 [==============================] - 10s 1ms/step - loss: 0.3624 - acc: 0.8613 - val_loss: 1.1937 - val_acc: 0.4188\n",
      "Epoch 50/50\n",
      "7246/7246 [==============================] - 10s 1ms/step - loss: 0.3568 - acc: 0.8630 - val_loss: 0.9514 - val_acc: 0.6349\n"
     ]
    },
    {
     "ename": "NameError",
     "evalue": "name 'x_test' is not defined",
     "output_type": "error",
     "traceback": [
      "\u001b[0;31m---------------------------------------------------------------------------\u001b[0m",
      "\u001b[0;31mNameError\u001b[0m                                 Traceback (most recent call last)",
      "\u001b[0;32m<ipython-input-123-95d417958a03>\u001b[0m in \u001b[0;36m<module>\u001b[0;34m()\u001b[0m\n\u001b[1;32m     29\u001b[0m           \u001b[0mverbose\u001b[0m\u001b[0;34m=\u001b[0m\u001b[0;36m1\u001b[0m\u001b[0;34m,\u001b[0m\u001b[0;34m\u001b[0m\u001b[0m\n\u001b[1;32m     30\u001b[0m           validation_data=(x_validation, y_validation))\n\u001b[0;32m---> 31\u001b[0;31m \u001b[0mscore\u001b[0m \u001b[0;34m=\u001b[0m \u001b[0mmodel\u001b[0m\u001b[0;34m.\u001b[0m\u001b[0mevaluate\u001b[0m\u001b[0;34m(\u001b[0m\u001b[0mx_test\u001b[0m\u001b[0;34m,\u001b[0m \u001b[0my_test\u001b[0m\u001b[0;34m,\u001b[0m \u001b[0mverbose\u001b[0m\u001b[0;34m=\u001b[0m\u001b[0;36m0\u001b[0m\u001b[0;34m)\u001b[0m\u001b[0;34m\u001b[0m\u001b[0m\n\u001b[0m\u001b[1;32m     32\u001b[0m \u001b[0mprint\u001b[0m\u001b[0;34m(\u001b[0m\u001b[0;34m'Test loss:'\u001b[0m\u001b[0;34m,\u001b[0m \u001b[0mscore\u001b[0m\u001b[0;34m[\u001b[0m\u001b[0;36m0\u001b[0m\u001b[0;34m]\u001b[0m\u001b[0;34m)\u001b[0m\u001b[0;34m\u001b[0m\u001b[0m\n\u001b[1;32m     33\u001b[0m \u001b[0mprint\u001b[0m\u001b[0;34m(\u001b[0m\u001b[0;34m'Test accuracy:'\u001b[0m\u001b[0;34m,\u001b[0m \u001b[0mscore\u001b[0m\u001b[0;34m[\u001b[0m\u001b[0;36m1\u001b[0m\u001b[0;34m]\u001b[0m\u001b[0;34m)\u001b[0m\u001b[0;34m\u001b[0m\u001b[0m\n",
      "\u001b[0;31mNameError\u001b[0m: name 'x_test' is not defined"
     ]
    }
   ],
   "source": [
    "if K.image_data_format() == 'channels_first':\n",
    "    x_train = x_train.reshape(x_train.shape[0], 3, img_width, img_height)\n",
    "    x_validation = x_validation.reshape(x_validation.shape[0], 3, img_width, img_height)\n",
    "    input_shape = (3, img_width, img_heigth)\n",
    "else:\n",
    "    x_train = x_train.reshape(x_train.shape[0], img_width, img_height, 3)\n",
    "    x_validation = x_validation.reshape(x_validation.shape[0], img_width, img_height, 3)\n",
    "    input_shape = (img_width, img_height, 3)\n",
    "    \n",
    "model = Sequential()\n",
    "model.add(Conv2D(32, kernel_size=(3, 3),\n",
    "                 activation='relu',\n",
    "                 input_shape=input_shape))\n",
    "model.add(Conv2D(64, (3, 3), activation='relu'))\n",
    "model.add(MaxPooling2D(pool_size=(2, 2)))\n",
    "model.add(Dropout(0.25))\n",
    "model.add(Flatten())\n",
    "model.add(Dense(128, activation='relu'))\n",
    "model.add(Dropout(0.5))\n",
    "model.add(Dense(NUM_CLASSES, activation='softmax'))\n",
    "\n",
    "model.compile(loss=keras.losses.categorical_crossentropy,\n",
    "              optimizer=keras.optimizers.Adadelta(),\n",
    "              metrics=['accuracy'])\n",
    "\n",
    "model.fit(x_train, y_train,\n",
    "          batch_size=batch_size,\n",
    "          epochs=epochs,\n",
    "          verbose=1,\n",
    "          validation_data=(x_validation, y_validation))\n",
    "score = model.evaluate(x_validation, y_validation, verbose=0)\n",
    "print('Test loss:', score[0])\n",
    "print('Test accuracy:', score[1])\n",
    "model.save_weights('first_try.h5')"
   ]
  },
  {
   "cell_type": "code",
   "execution_count": null,
   "metadata": {},
   "outputs": [],
   "source": []
  },
  {
   "cell_type": "code",
   "execution_count": null,
   "metadata": {},
   "outputs": [],
   "source": []
  },
  {
   "cell_type": "code",
   "execution_count": null,
   "metadata": {},
   "outputs": [],
   "source": []
  },
  {
   "cell_type": "code",
   "execution_count": null,
   "metadata": {},
   "outputs": [],
   "source": []
  },
  {
   "cell_type": "code",
   "execution_count": null,
   "metadata": {},
   "outputs": [],
   "source": []
  }
 ],
 "metadata": {
  "kernelspec": {
   "display_name": "Python 3",
   "language": "python",
   "name": "python3"
  },
  "language_info": {
   "codemirror_mode": {
    "name": "ipython",
    "version": 3
   },
   "file_extension": ".py",
   "mimetype": "text/x-python",
   "name": "python",
   "nbconvert_exporter": "python",
   "pygments_lexer": "ipython3",
   "version": "3.5.5"
  }
 },
 "nbformat": 4,
 "nbformat_minor": 2
}
