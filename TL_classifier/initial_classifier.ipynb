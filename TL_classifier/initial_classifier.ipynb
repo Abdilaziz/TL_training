{
 "cells": [
  {
   "cell_type": "code",
   "execution_count": 1,
   "metadata": {},
   "outputs": [
    {
     "name": "stdout",
     "output_type": "stream",
     "text": [
      "Solving environment: ...working... done\n",
      "\n",
      "\n",
      "==> WARNING: A newer version of conda exists. <==\n",
      "  current version: 4.4.10\n",
      "  latest version: 4.5.0\n",
      "\n",
      "Please update conda by running\n",
      "\n",
      "    $ conda update -n base conda\n",
      "\n",
      "\n",
      "\n",
      "## Package Plan ##\n",
      "\n",
      "  environment location: /opt/conda/envs/tl-detect\n",
      "\n",
      "  added / updated specs: \n",
      "    - keras\n",
      "\n",
      "\n",
      "The following packages will be downloaded:\n",
      "\n",
      "    package                    |            build\n",
      "    ---------------------------|-----------------\n",
      "    h5py-2.7.1                 |           py35_2         3.9 MB  conda-forge\n",
      "    keras-2.1.5                |           py35_0         498 KB  conda-forge\n",
      "    yaml-0.1.7                 |                0         302 KB  conda-forge\n",
      "    pygpu-0.7.5                |           py35_0         1.4 MB  conda-forge\n",
      "    mako-1.0.7                 |           py35_0         115 KB  conda-forge\n",
      "    scipy-1.0.1                |py35_blas_openblas_200        39.4 MB  conda-forge\n",
      "    markupsafe-1.0             |           py35_0          32 KB  conda-forge\n",
      "    theano-1.0.1               |           py35_1         3.7 MB  conda-forge\n",
      "    libgpuarray-0.7.5          |                0         247 KB  conda-forge\n",
      "    pyyaml-3.12                |           py35_1         394 KB  conda-forge\n",
      "    ------------------------------------------------------------\n",
      "                                           Total:        50.0 MB\n",
      "\n",
      "The following NEW packages will be INSTALLED:\n",
      "\n",
      "    h5py:        2.7.1-py35_2                 conda-forge\n",
      "    keras:       2.1.5-py35_0                 conda-forge\n",
      "    libgpuarray: 0.7.5-0                      conda-forge\n",
      "    mako:        1.0.7-py35_0                 conda-forge\n",
      "    markupsafe:  1.0-py35_0                   conda-forge\n",
      "    pygpu:       0.7.5-py35_0                 conda-forge\n",
      "    pyyaml:      3.12-py35_1                  conda-forge\n",
      "    scipy:       1.0.1-py35_blas_openblas_200 conda-forge [blas_openblas]\n",
      "    theano:      1.0.1-py35_1                 conda-forge\n",
      "    yaml:        0.1.7-0                      conda-forge\n",
      "\n",
      "Preparing transaction: ...working... done\n",
      "Verifying transaction: ...working... done\n",
      "Executing transaction: ...working... done\n"
     ]
    }
   ],
   "source": [
    "!bash -c 'source activate tl-detect && conda install -qy -c conda-forge keras'"
   ]
  },
  {
   "cell_type": "code",
   "execution_count": 29,
   "metadata": {},
   "outputs": [
    {
     "name": "stdout",
     "output_type": "stream",
     "text": [
      "{\n",
      "    \"backend\": \"tensorflow\",\n",
      "    \"image_data_format\": \"channels_last\",\n",
      "    \"epsilon\": 1e-07,\n",
      "    \"floatx\": \"float32\"\n",
      "}"
     ]
    }
   ],
   "source": [
    "!cat ~/.keras/keras.json"
   ]
  },
  {
   "cell_type": "code",
   "execution_count": 24,
   "metadata": {},
   "outputs": [
    {
     "name": "stdout",
     "output_type": "stream",
     "text": [
      "cp: cannot stat '../imgs/training/bosch/Green': No such file or directory\n"
     ]
    }
   ],
   "source": [
    "!cp -R ../imgs/training/bosch/Green ../imgs/training/ && cp -R ../imgs/training/bosch/Red ../imgs/training/ && cp -R ../imgs/training/bosch/Yellow ../imgs/training/  && mv ../imgs/training/bosch ../imgs/bosch_tl "
   ]
  },
  {
   "cell_type": "code",
   "execution_count": null,
   "metadata": {},
   "outputs": [],
   "source": [
    "! cd ../imgs/training && find . -size 0 -exec rm {} \\;"
   ]
  },
  {
   "cell_type": "code",
   "execution_count": 34,
   "metadata": {},
   "outputs": [],
   "source": [
    "from keras.preprocessing.image import ImageDataGenerator\n",
    "from keras.models import Sequential\n",
    "from keras.layers import Conv2D, MaxPooling2D\n",
    "from keras.layers import Activation, Dropout, Flatten, Dense\n",
    "from keras import backend as K\n",
    "\n",
    "# dimensions of our images.\n",
    "img_width, img_height = 150, 150\n",
    "\n",
    "train_data_dir = '../imgs/training/'\n",
    "validation_data_dir = '../imgs/validation'\n",
    "nb_train_samples = 10000\n",
    "nb_validation_samples = 500\n",
    "epochs = 50\n",
    "batch_size = 16\n",
    "\n",
    "if K.image_data_format() == 'channels_first':\n",
    "    input_shape = (3, img_width, img_height)\n",
    "else:\n",
    "    input_shape = (img_width, img_height, 3)\n",
    "\n",
    "model = Sequential()\n",
    "model.add(Conv2D(32, (3, 3), input_shape=input_shape))\n",
    "model.add(Activation('relu'))\n",
    "model.add(MaxPooling2D(pool_size=(2, 2)))\n",
    "\n",
    "model.add(Conv2D(32, (3, 3)))\n",
    "model.add(Activation('relu'))\n",
    "model.add(MaxPooling2D(pool_size=(2, 2)))\n",
    "\n",
    "model.add(Conv2D(64, (3, 3)))\n",
    "model.add(Activation('relu'))\n",
    "model.add(MaxPooling2D(pool_size=(2, 2)))\n",
    "\n",
    "model.add(Flatten())\n",
    "model.add(Dense(64))\n",
    "model.add(Activation('relu'))\n",
    "model.add(Dropout(0.5))\n",
    "model.add(Dense(1))\n",
    "model.add(Activation('sigmoid'))\n",
    "\n",
    "model.compile(loss='categorical_crossentropy',\n",
    "              optimizer='rmsprop',\n",
    "              metrics=['accuracy'])\n"
   ]
  },
  {
   "cell_type": "code",
   "execution_count": 35,
   "metadata": {},
   "outputs": [
    {
     "data": {
      "text/plain": [
       "150"
      ]
     },
     "execution_count": 35,
     "metadata": {},
     "output_type": "execute_result"
    }
   ],
   "source": []
  },
  {
   "cell_type": "code",
   "execution_count": 42,
   "metadata": {},
   "outputs": [
    {
     "name": "stdout",
     "output_type": "stream",
     "text": [
      "Found 7246 images belonging to 3 classes.\n",
      "Found 893 images belonging to 3 classes.\n"
     ]
    }
   ],
   "source": [
    "\n",
    "# this is the augmentation configuration we will use for training\n",
    "train_datagen = ImageDataGenerator(\n",
    "    shear_range=0.2,\n",
    "    zoom_range=0.2,\n",
    "    rotation_range=20)\n",
    "\n",
    "# this is the augmentation configuration we will use for testing:\n",
    "# only rescaling\n",
    "test_datagen = ImageDataGenerator()\n",
    "\n",
    "train_generator = train_datagen.flow_from_directory(\n",
    "    train_data_dir,\n",
    "    target_size=(img_width, img_height),\n",
    "    batch_size=batch_size,\n",
    "    class_mode=None)\n",
    "\n",
    "validation_generator = ImageDataGenerator().flow_from_directory(\n",
    "    validation_data_dir,\n",
    "    target_size=(img_width, img_height),\n",
    "    batch_size=batch_size,\n",
    "    class_mode=None)\n",
    "\n"
   ]
  },
  {
   "cell_type": "code",
   "execution_count": 43,
   "metadata": {},
   "outputs": [
    {
     "name": "stdout",
     "output_type": "stream",
     "text": [
      "Epoch 1/50\n"
     ]
    },
    {
     "ename": "ValueError",
     "evalue": "Output of generator should be a tuple `(x, y, sample_weight)` or `(x, y)`. Found: [[[[129.       162.       167.      ]\n   [129.       162.       167.      ]\n   [129.       162.       167.      ]\n   ...\n   [123.       159.       171.      ]\n   [123.       159.       171.      ]\n   [123.       159.       171.      ]]\n\n  [[128.3724   161.74896  168.12967 ]\n   [129.       162.       167.      ]\n   [129.       162.       167.      ]\n   ...\n   [123.       159.       171.      ]\n   [123.       159.       171.      ]\n   [123.       159.       171.      ]]\n\n  [[124.       160.       176.      ]\n   [124.23935  160.09573  175.56917 ]\n   [125.27956  160.51183  173.6968  ]\n   ...\n   [123.       159.       171.      ]\n   [123.       159.       171.      ]\n   [123.       159.       171.      ]]\n\n  ...\n\n  [[128.       168.       159.      ]\n   [128.       168.       159.      ]\n   [128.       168.       159.      ]\n   ...\n   [117.39731  149.60269  131.      ]\n   [117.605354 149.39465  131.      ]\n   [117.81339  149.1866   131.      ]]\n\n  [[128.       168.       159.      ]\n   [128.       168.       159.      ]\n   [128.       168.       159.      ]\n   ...\n   [117.       150.       131.      ]\n   [117.       150.       131.      ]\n   [117.       150.       131.      ]]\n\n  [[128.       168.       159.      ]\n   [128.       168.       159.      ]\n   [128.       168.       159.      ]\n   ...\n   [117.       150.       131.      ]\n   [117.       150.       131.      ]\n   [117.       150.       131.      ]]]\n\n\n [[[110.       142.       121.      ]\n   [110.       142.       121.      ]\n   [110.       142.       121.      ]\n   ...\n   [111.       140.       120.      ]\n   [111.       140.       120.      ]\n   [111.       140.       120.      ]]\n\n  [[110.       142.       121.      ]\n   [110.       142.       121.      ]\n   [110.       142.       121.      ]\n   ...\n   [111.       140.       120.      ]\n   [111.       140.       120.      ]\n   [111.       140.       120.      ]]\n\n  [[110.       142.       121.      ]\n   [110.       142.       121.      ]\n   [110.       142.       121.      ]\n   ...\n   [111.       140.       120.      ]\n   [111.       140.       120.      ]\n   [111.       140.       120.      ]]\n\n  ...\n\n  [[111.       141.       113.      ]\n   [111.       141.       113.      ]\n   [111.       141.       113.      ]\n   ...\n   [109.       141.       104.      ]\n   [109.       141.       104.      ]\n   [109.       141.       104.      ]]\n\n  [[111.       141.       113.      ]\n   [111.       141.       113.      ]\n   [111.       141.       113.      ]\n   ...\n   [109.       141.       104.      ]\n   [109.       141.       104.      ]\n   [109.       141.       104.      ]]\n\n  [[111.       141.       113.      ]\n   [111.       141.       113.      ]\n   [111.       141.       113.      ]\n   ...\n   [109.       141.       104.      ]\n   [109.       141.       104.      ]\n   [109.       141.       104.      ]]]\n\n\n [[[ 44.        44.        34.      ]\n   [ 44.        44.        34.      ]\n   [ 44.        44.        34.      ]\n   ...\n   [ 44.        45.        39.      ]\n   [ 44.        45.        39.      ]\n   [ 44.        45.        39.      ]]\n\n  [[ 44.        44.        34.      ]\n   [ 44.        44.        34.      ]\n   [ 44.        44.        34.      ]\n   ...\n   [ 44.        45.        39.      ]\n   [ 44.        45.        39.      ]\n   [ 44.        45.        39.      ]]\n\n  [[ 44.        44.        34.      ]\n   [ 44.        44.        34.      ]\n   [ 44.        44.        34.      ]\n   ...\n   [ 44.        44.573246  36.012714]\n   [ 44.        44.389767  34.72836 ]\n   [ 44.        44.206287  33.444004]]\n\n  ...\n\n  [[ 50.52272   45.04544   45.82576 ]\n   [ 51.07316   46.146313  45.64228 ]\n   [ 51.623592  47.24719   45.4588  ]\n   ...\n   [ 47.        50.        33.      ]\n   [ 47.        50.        33.      ]\n   [ 47.        50.        33.      ]]\n\n  [[ 53.        50.        45.      ]\n   [ 53.        50.        45.      ]\n   [ 53.        50.        45.      ]\n   ...\n   [ 47.        50.        33.      ]\n   [ 47.        50.        33.      ]\n   [ 47.        50.        33.      ]]\n\n  [[ 53.        50.        45.      ]\n   [ 53.        50.        45.      ]\n   [ 53.        50.        45.      ]\n   ...\n   [ 47.        50.        33.      ]\n   [ 47.        50.        33.      ]\n   [ 47.        50.        33.      ]]]\n\n\n ...\n\n\n [[[ 39.        30.        31.      ]\n   [ 39.        30.        31.      ]\n   [ 39.        30.        31.      ]\n   ...\n   [ 32.        35.        28.      ]\n   [ 32.        35.        28.      ]\n   [ 32.        35.        28.      ]]\n\n  [[ 39.        30.        31.      ]\n   [ 39.        30.        31.      ]\n   [ 39.        30.        31.      ]\n   ...\n   [ 32.        35.        28.      ]\n   [ 32.        35.        28.      ]\n   [ 32.        35.        28.      ]]\n\n  [[ 39.        30.        31.      ]\n   [ 39.        30.        31.      ]\n   [ 39.        30.        31.      ]\n   ...\n   [ 32.        35.        28.      ]\n   [ 32.        35.        28.      ]\n   [ 32.        35.        28.      ]]\n\n  ...\n\n  [[ 30.        33.        24.      ]\n   [ 30.        33.        24.      ]\n   [ 30.        33.        24.      ]\n   ...\n   [ 39.        30.        21.      ]\n   [ 39.        30.        21.      ]\n   [ 39.        30.        21.      ]]\n\n  [[ 30.        33.        24.      ]\n   [ 30.        33.        24.      ]\n   [ 30.        33.        24.      ]\n   ...\n   [ 39.        30.        21.      ]\n   [ 39.        30.        21.      ]\n   [ 39.        30.        21.      ]]\n\n  [[ 30.        33.        24.      ]\n   [ 30.        33.        24.      ]\n   [ 30.        33.        24.      ]\n   ...\n   [ 39.        30.        21.      ]\n   [ 39.        30.        21.      ]\n   [ 39.        30.        21.      ]]]\n\n\n [[[ 69.        93.        61.      ]\n   [ 69.        93.        61.      ]\n   [ 69.        93.        61.      ]\n   ...\n   [ 79.        85.        75.      ]\n   [ 79.        85.        75.      ]\n   [ 79.        85.        75.      ]]\n\n  [[ 69.        93.        61.      ]\n   [ 69.        93.        61.      ]\n   [ 69.        93.        61.      ]\n   ...\n   [ 79.        85.        75.      ]\n   [ 79.        85.        75.      ]\n   [ 79.        85.        75.      ]]\n\n  [[ 69.        93.        61.      ]\n   [ 69.        93.        61.      ]\n   [ 69.        93.        61.      ]\n   ...\n   [ 79.        85.        75.      ]\n   [ 79.        85.        75.      ]\n   [ 79.        85.        75.      ]]\n\n  ...\n\n  [[ 48.        54.        54.      ]\n   [ 48.        54.        54.      ]\n   [ 48.        54.        54.      ]\n   ...\n   [ 65.        78.        71.      ]\n   [ 65.        78.        71.      ]\n   [ 65.        78.        71.      ]]\n\n  [[ 48.        54.        54.      ]\n   [ 48.        54.        54.      ]\n   [ 48.        54.        54.      ]\n   ...\n   [ 65.        78.        71.      ]\n   [ 65.        78.        71.      ]\n   [ 65.        78.        71.      ]]\n\n  [[ 48.        54.        54.      ]\n   [ 48.        54.        54.      ]\n   [ 48.        54.        54.      ]\n   ...\n   [ 65.        78.        71.      ]\n   [ 65.        78.        71.      ]\n   [ 65.        78.        71.      ]]]\n\n\n [[[165.       236.       194.      ]\n   [165.       236.       194.      ]\n   [165.       236.       194.      ]\n   ...\n   [ 97.       113.        64.      ]\n   [ 97.       113.        64.      ]\n   [ 97.       113.        64.      ]]\n\n  [[165.       236.       194.      ]\n   [165.       236.       194.      ]\n   [165.       236.       194.      ]\n   ...\n   [ 96.73876  111.693794  62.955032]\n   [ 96.50037  110.501816  62.00145 ]\n   [ 96.26197  109.30984   61.04787 ]]\n\n  [[165.       236.       194.      ]\n   [165.       236.       194.      ]\n   [165.       236.       194.      ]\n   ...\n   [ 96.       108.        60.      ]\n   [ 96.       108.        60.      ]\n   [ 96.       108.        60.      ]]\n\n  ...\n\n  [[ 82.368065  78.832085  39.55997 ]\n   [ 79.74572   75.49455   40.751945]\n   [ 77.12337   72.15701   41.943924]\n   ...\n   [115.       121.        77.      ]\n   [115.       121.        77.      ]\n   [115.       121.        77.      ]]\n\n  [[ 77.        72.        42.      ]\n   [ 77.        72.        42.      ]\n   [ 75.802315  73.037994  40.003857]\n   ...\n   [115.       121.        77.      ]\n   [115.       121.        77.      ]\n   [115.       121.        77.      ]]\n\n  [[ 66.588264  81.023506  24.64711 ]\n   [ 63.012333  84.12264   18.687223]\n   [ 62.        85.        17.      ]\n   ...\n   [115.       121.        77.      ]\n   [115.       121.        77.      ]\n   [115.       121.        77.      ]]]]",
     "output_type": "error",
     "traceback": [
      "\u001b[0;31m---------------------------------------------------------------------------\u001b[0m",
      "\u001b[0;31mValueError\u001b[0m                                Traceback (most recent call last)",
      "\u001b[0;32m<ipython-input-43-240a007c2074>\u001b[0m in \u001b[0;36m<module>\u001b[0;34m()\u001b[0m\n\u001b[1;32m      4\u001b[0m     \u001b[0mepochs\u001b[0m\u001b[0;34m=\u001b[0m\u001b[0mepochs\u001b[0m\u001b[0;34m,\u001b[0m\u001b[0;34m\u001b[0m\u001b[0m\n\u001b[1;32m      5\u001b[0m     \u001b[0mvalidation_data\u001b[0m\u001b[0;34m=\u001b[0m\u001b[0mvalidation_generator\u001b[0m\u001b[0;34m,\u001b[0m\u001b[0;34m\u001b[0m\u001b[0m\n\u001b[0;32m----> 6\u001b[0;31m     validation_steps=nb_validation_samples // batch_size)\n\u001b[0m\u001b[1;32m      7\u001b[0m \u001b[0;34m\u001b[0m\u001b[0m\n\u001b[1;32m      8\u001b[0m \u001b[0mmodel\u001b[0m\u001b[0;34m.\u001b[0m\u001b[0msave_weights\u001b[0m\u001b[0;34m(\u001b[0m\u001b[0;34m'first_try.h5'\u001b[0m\u001b[0;34m)\u001b[0m\u001b[0;34m\u001b[0m\u001b[0m\n",
      "\u001b[0;32m/opt/conda/envs/tl-detect/lib/python3.5/site-packages/keras/legacy/interfaces.py\u001b[0m in \u001b[0;36mwrapper\u001b[0;34m(*args, **kwargs)\u001b[0m\n\u001b[1;32m     89\u001b[0m                 warnings.warn('Update your `' + object_name +\n\u001b[1;32m     90\u001b[0m                               '` call to the Keras 2 API: ' + signature, stacklevel=2)\n\u001b[0;32m---> 91\u001b[0;31m             \u001b[0;32mreturn\u001b[0m \u001b[0mfunc\u001b[0m\u001b[0;34m(\u001b[0m\u001b[0;34m*\u001b[0m\u001b[0margs\u001b[0m\u001b[0;34m,\u001b[0m \u001b[0;34m**\u001b[0m\u001b[0mkwargs\u001b[0m\u001b[0;34m)\u001b[0m\u001b[0;34m\u001b[0m\u001b[0m\n\u001b[0m\u001b[1;32m     92\u001b[0m         \u001b[0mwrapper\u001b[0m\u001b[0;34m.\u001b[0m\u001b[0m_original_function\u001b[0m \u001b[0;34m=\u001b[0m \u001b[0mfunc\u001b[0m\u001b[0;34m\u001b[0m\u001b[0m\n\u001b[1;32m     93\u001b[0m         \u001b[0;32mreturn\u001b[0m \u001b[0mwrapper\u001b[0m\u001b[0;34m\u001b[0m\u001b[0m\n",
      "\u001b[0;32m/opt/conda/envs/tl-detect/lib/python3.5/site-packages/keras/models.py\u001b[0m in \u001b[0;36mfit_generator\u001b[0;34m(self, generator, steps_per_epoch, epochs, verbose, callbacks, validation_data, validation_steps, class_weight, max_queue_size, workers, use_multiprocessing, shuffle, initial_epoch)\u001b[0m\n\u001b[1;32m   1274\u001b[0m                                         \u001b[0muse_multiprocessing\u001b[0m\u001b[0;34m=\u001b[0m\u001b[0muse_multiprocessing\u001b[0m\u001b[0;34m,\u001b[0m\u001b[0;34m\u001b[0m\u001b[0m\n\u001b[1;32m   1275\u001b[0m                                         \u001b[0mshuffle\u001b[0m\u001b[0;34m=\u001b[0m\u001b[0mshuffle\u001b[0m\u001b[0;34m,\u001b[0m\u001b[0;34m\u001b[0m\u001b[0m\n\u001b[0;32m-> 1276\u001b[0;31m                                         initial_epoch=initial_epoch)\n\u001b[0m\u001b[1;32m   1277\u001b[0m \u001b[0;34m\u001b[0m\u001b[0m\n\u001b[1;32m   1278\u001b[0m     \u001b[0;34m@\u001b[0m\u001b[0minterfaces\u001b[0m\u001b[0;34m.\u001b[0m\u001b[0mlegacy_generator_methods_support\u001b[0m\u001b[0;34m\u001b[0m\u001b[0m\n",
      "\u001b[0;32m/opt/conda/envs/tl-detect/lib/python3.5/site-packages/keras/legacy/interfaces.py\u001b[0m in \u001b[0;36mwrapper\u001b[0;34m(*args, **kwargs)\u001b[0m\n\u001b[1;32m     89\u001b[0m                 warnings.warn('Update your `' + object_name +\n\u001b[1;32m     90\u001b[0m                               '` call to the Keras 2 API: ' + signature, stacklevel=2)\n\u001b[0;32m---> 91\u001b[0;31m             \u001b[0;32mreturn\u001b[0m \u001b[0mfunc\u001b[0m\u001b[0;34m(\u001b[0m\u001b[0;34m*\u001b[0m\u001b[0margs\u001b[0m\u001b[0;34m,\u001b[0m \u001b[0;34m**\u001b[0m\u001b[0mkwargs\u001b[0m\u001b[0;34m)\u001b[0m\u001b[0;34m\u001b[0m\u001b[0m\n\u001b[0m\u001b[1;32m     92\u001b[0m         \u001b[0mwrapper\u001b[0m\u001b[0;34m.\u001b[0m\u001b[0m_original_function\u001b[0m \u001b[0;34m=\u001b[0m \u001b[0mfunc\u001b[0m\u001b[0;34m\u001b[0m\u001b[0m\n\u001b[1;32m     93\u001b[0m         \u001b[0;32mreturn\u001b[0m \u001b[0mwrapper\u001b[0m\u001b[0;34m\u001b[0m\u001b[0m\n",
      "\u001b[0;32m/opt/conda/envs/tl-detect/lib/python3.5/site-packages/keras/engine/training.py\u001b[0m in \u001b[0;36mfit_generator\u001b[0;34m(self, generator, steps_per_epoch, epochs, verbose, callbacks, validation_data, validation_steps, class_weight, max_queue_size, workers, use_multiprocessing, shuffle, initial_epoch)\u001b[0m\n\u001b[1;32m   2207\u001b[0m                                          \u001b[0;34m'a tuple `(x, y, sample_weight)` '\u001b[0m\u001b[0;34m\u001b[0m\u001b[0m\n\u001b[1;32m   2208\u001b[0m                                          \u001b[0;34m'or `(x, y)`. Found: '\u001b[0m \u001b[0;34m+\u001b[0m\u001b[0;34m\u001b[0m\u001b[0m\n\u001b[0;32m-> 2209\u001b[0;31m                                          str(generator_output))\n\u001b[0m\u001b[1;32m   2210\u001b[0m                     \u001b[0;31m# build batch logs\u001b[0m\u001b[0;34m\u001b[0m\u001b[0;34m\u001b[0m\u001b[0m\n\u001b[1;32m   2211\u001b[0m                     \u001b[0mbatch_logs\u001b[0m \u001b[0;34m=\u001b[0m \u001b[0;34m{\u001b[0m\u001b[0;34m}\u001b[0m\u001b[0;34m\u001b[0m\u001b[0m\n",
      "\u001b[0;31mValueError\u001b[0m: Output of generator should be a tuple `(x, y, sample_weight)` or `(x, y)`. Found: [[[[129.       162.       167.      ]\n   [129.       162.       167.      ]\n   [129.       162.       167.      ]\n   ...\n   [123.       159.       171.      ]\n   [123.       159.       171.      ]\n   [123.       159.       171.      ]]\n\n  [[128.3724   161.74896  168.12967 ]\n   [129.       162.       167.      ]\n   [129.       162.       167.      ]\n   ...\n   [123.       159.       171.      ]\n   [123.       159.       171.      ]\n   [123.       159.       171.      ]]\n\n  [[124.       160.       176.      ]\n   [124.23935  160.09573  175.56917 ]\n   [125.27956  160.51183  173.6968  ]\n   ...\n   [123.       159.       171.      ]\n   [123.       159.       171.      ]\n   [123.       159.       171.      ]]\n\n  ...\n\n  [[128.       168.       159.      ]\n   [128.       168.       159.      ]\n   [128.       168.       159.      ]\n   ...\n   [117.39731  149.60269  131.      ]\n   [117.605354 149.39465  131.      ]\n   [117.81339  149.1866   131.      ]]\n\n  [[128.       168.       159.      ]\n   [128.       168.       159.      ]\n   [128.       168.       159.      ]\n   ...\n   [117.       150.       131.      ]\n   [117.       150.       131.      ]\n   [117.       150.       131.      ]]\n\n  [[128.       168.       159.      ]\n   [128.       168.       159.      ]\n   [128.       168.       159.      ]\n   ...\n   [117.       150.       131.      ]\n   [117.       150.       131.      ]\n   [117.       150.       131.      ]]]\n\n\n [[[110.       142.       121.      ]\n   [110.       142.       121.      ]\n   [110.       142.       121.      ]\n   ...\n   [111.       140.       120.      ]\n   [111.       140.       120.      ]\n   [111.       140.       120.      ]]\n\n  [[110.       142.       121.      ]\n   [110.       142.       121.      ]\n   [110.       142.       121.      ]\n   ...\n   [111.       140.       120.      ]\n   [111.       140.       120.      ]\n   [111.       140.       120.      ]]\n\n  [[110.       142.       121.      ]\n   [110.       142.       121.      ]\n   [110.       142.       121.      ]\n   ...\n   [111.       140.       120.      ]\n   [111.       140.       120.      ]\n   [111.       140.       120.      ]]\n\n  ...\n\n  [[111.       141.       113.      ]\n   [111.       141.       113.      ]\n   [111.       141.       113.      ]\n   ...\n   [109.       141.       104.      ]\n   [109.       141.       104.      ]\n   [109.       141.       104.      ]]\n\n  [[111.       141.       113.      ]\n   [111.       141.       113.      ]\n   [111.       141.       113.      ]\n   ...\n   [109.       141.       104.      ]\n   [109.       141.       104.      ]\n   [109.       141.       104.      ]]\n\n  [[111.       141.       113.      ]\n   [111.       141.       113.      ]\n   [111.       141.       113.      ]\n   ...\n   [109.       141.       104.      ]\n   [109.       141.       104.      ]\n   [109.       141.       104.      ]]]\n\n\n [[[ 44.        44.        34.      ]\n   [ 44.        44.        34.      ]\n   [ 44.        44.        34.      ]\n   ...\n   [ 44.        45.        39.      ]\n   [ 44.        45.        39.      ]\n   [ 44.        45.        39.      ]]\n\n  [[ 44.        44.        34.      ]\n   [ 44.        44.        34.      ]\n   [ 44.        44.        34.      ]\n   ...\n   [ 44.        45.        39.      ]\n   [ 44.        45.        39.      ]\n   [ 44.        45.        39.      ]]\n\n  [[ 44.        44.        34.      ]\n   [ 44.        44.        34.      ]\n   [ 44.        44.        34.      ]\n   ...\n   [ 44.        44.573246  36.012714]\n   [ 44.        44.389767  34.72836 ]\n   [ 44.        44.206287  33.444004]]\n\n  ...\n\n  [[ 50.52272   45.04544   45.82576 ]\n   [ 51.07316   46.146313  45.64228 ]\n   [ 51.623592  47.24719   45.4588  ]\n   ...\n   [ 47.        50.        33.      ]\n   [ 47.        50.        33.      ]\n   [ 47.        50.        33.      ]]\n\n  [[ 53.        50.        45.      ]\n   [ 53.        50.        45.      ]\n   [ 53.        50.        45.      ]\n   ...\n   [ 47.        50.        33.      ]\n   [ 47.        50.        33.      ]\n   [ 47.        50.        33.      ]]\n\n  [[ 53.        50.        45.      ]\n   [ 53.        50.        45.      ]\n   [ 53.        50.        45.      ]\n   ...\n   [ 47.        50.        33.      ]\n   [ 47.        50.        33.      ]\n   [ 47.        50.        33.      ]]]\n\n\n ...\n\n\n [[[ 39.        30.        31.      ]\n   [ 39.        30.        31.      ]\n   [ 39.        30.        31.      ]\n   ...\n   [ 32.        35.        28.      ]\n   [ 32.        35.        28.      ]\n   [ 32.        35.        28.      ]]\n\n  [[ 39.        30.        31.      ]\n   [ 39.        30.        31.      ]\n   [ 39.        30.        31.      ]\n   ...\n   [ 32.        35.        28.      ]\n   [ 32.        35.        28.      ]\n   [ 32.        35.        28.      ]]\n\n  [[ 39.        30.        31.      ]\n   [ 39.        30.        31.      ]\n   [ 39.        30.        31.      ]\n   ...\n   [ 32.        35.        28.      ]\n   [ 32.        35.        28.      ]\n   [ 32.        35.        28.      ]]\n\n  ...\n\n  [[ 30.        33.        24.      ]\n   [ 30.        33.        24.      ]\n   [ 30.        33.        24.      ]\n   ...\n   [ 39.        30.        21.      ]\n   [ 39.        30.        21.      ]\n   [ 39.        30.        21.      ]]\n\n  [[ 30.        33.        24.      ]\n   [ 30.        33.        24.      ]\n   [ 30.        33.        24.      ]\n   ...\n   [ 39.        30.        21.      ]\n   [ 39.        30.        21.      ]\n   [ 39.        30.        21.      ]]\n\n  [[ 30.        33.        24.      ]\n   [ 30.        33.        24.      ]\n   [ 30.        33.        24.      ]\n   ...\n   [ 39.        30.        21.      ]\n   [ 39.        30.        21.      ]\n   [ 39.        30.        21.      ]]]\n\n\n [[[ 69.        93.        61.      ]\n   [ 69.        93.        61.      ]\n   [ 69.        93.        61.      ]\n   ...\n   [ 79.        85.        75.      ]\n   [ 79.        85.        75.      ]\n   [ 79.        85.        75.      ]]\n\n  [[ 69.        93.        61.      ]\n   [ 69.        93.        61.      ]\n   [ 69.        93.        61.      ]\n   ...\n   [ 79.        85.        75.      ]\n   [ 79.        85.        75.      ]\n   [ 79.        85.        75.      ]]\n\n  [[ 69.        93.        61.      ]\n   [ 69.        93.        61.      ]\n   [ 69.        93.        61.      ]\n   ...\n   [ 79.        85.        75.      ]\n   [ 79.        85.        75.      ]\n   [ 79.        85.        75.      ]]\n\n  ...\n\n  [[ 48.        54.        54.      ]\n   [ 48.        54.        54.      ]\n   [ 48.        54.        54.      ]\n   ...\n   [ 65.        78.        71.      ]\n   [ 65.        78.        71.      ]\n   [ 65.        78.        71.      ]]\n\n  [[ 48.        54.        54.      ]\n   [ 48.        54.        54.      ]\n   [ 48.        54.        54.      ]\n   ...\n   [ 65.        78.        71.      ]\n   [ 65.        78.        71.      ]\n   [ 65.        78.        71.      ]]\n\n  [[ 48.        54.        54.      ]\n   [ 48.        54.        54.      ]\n   [ 48.        54.        54.      ]\n   ...\n   [ 65.        78.        71.      ]\n   [ 65.        78.        71.      ]\n   [ 65.        78.        71.      ]]]\n\n\n [[[165.       236.       194.      ]\n   [165.       236.       194.      ]\n   [165.       236.       194.      ]\n   ...\n   [ 97.       113.        64.      ]\n   [ 97.       113.        64.      ]\n   [ 97.       113.        64.      ]]\n\n  [[165.       236.       194.      ]\n   [165.       236.       194.      ]\n   [165.       236.       194.      ]\n   ...\n   [ 96.73876  111.693794  62.955032]\n   [ 96.50037  110.501816  62.00145 ]\n   [ 96.26197  109.30984   61.04787 ]]\n\n  [[165.       236.       194.      ]\n   [165.       236.       194.      ]\n   [165.       236.       194.      ]\n   ...\n   [ 96.       108.        60.      ]\n   [ 96.       108.        60.      ]\n   [ 96.       108.        60.      ]]\n\n  ...\n\n  [[ 82.368065  78.832085  39.55997 ]\n   [ 79.74572   75.49455   40.751945]\n   [ 77.12337   72.15701   41.943924]\n   ...\n   [115.       121.        77.      ]\n   [115.       121.        77.      ]\n   [115.       121.        77.      ]]\n\n  [[ 77.        72.        42.      ]\n   [ 77.        72.        42.      ]\n   [ 75.802315  73.037994  40.003857]\n   ...\n   [115.       121.        77.      ]\n   [115.       121.        77.      ]\n   [115.       121.        77.      ]]\n\n  [[ 66.588264  81.023506  24.64711 ]\n   [ 63.012333  84.12264   18.687223]\n   [ 62.        85.        17.      ]\n   ...\n   [115.       121.        77.      ]\n   [115.       121.        77.      ]\n   [115.       121.        77.      ]]]]"
     ]
    }
   ],
   "source": [
    "model.fit_generator(\n",
    "    train_generator,\n",
    "    steps_per_epoch=nb_train_samples // batch_size,\n",
    "    epochs=epochs,\n",
    "    validation_data=validation_generator,\n",
    "    validation_steps=nb_validation_samples // batch_size)\n",
    "\n",
    "model.save_weights('first_try.h5')"
   ]
  },
  {
   "cell_type": "code",
   "execution_count": 15,
   "metadata": {},
   "outputs": [
    {
     "data": {
      "text/plain": [
       "55"
      ]
     },
     "execution_count": 15,
     "metadata": {},
     "output_type": "execute_result"
    }
   ],
   "source": [
    "nb_validation_samples // batch_size"
   ]
  },
  {
   "cell_type": "code",
   "execution_count": null,
   "metadata": {},
   "outputs": [],
   "source": []
  }
 ],
 "metadata": {
  "kernelspec": {
   "display_name": "Python 3",
   "language": "python",
   "name": "python3"
  },
  "language_info": {
   "codemirror_mode": {
    "name": "ipython",
    "version": 3
   },
   "file_extension": ".py",
   "mimetype": "text/x-python",
   "name": "python",
   "nbconvert_exporter": "python",
   "pygments_lexer": "ipython3",
   "version": "3.5.5"
  }
 },
 "nbformat": 4,
 "nbformat_minor": 2
}
