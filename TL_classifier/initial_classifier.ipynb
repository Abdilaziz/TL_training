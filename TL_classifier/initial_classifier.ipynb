{
 "cells": [
  {
   "cell_type": "code",
   "execution_count": 65,
   "metadata": {},
   "outputs": [
    {
     "name": "stdout",
     "output_type": "stream",
     "text": [
      "Solving environment: ...working... done\n",
      "\n",
      "\n",
      "==> WARNING: A newer version of conda exists. <==\n",
      "  current version: 4.4.10\n",
      "  latest version: 4.5.0\n",
      "\n",
      "Please update conda by running\n",
      "\n",
      "    $ conda update -n base conda\n",
      "\n",
      "\n",
      "\n",
      "## Package Plan ##\n",
      "\n",
      "  environment location: /opt/conda/envs/tl-detect\n",
      "\n",
      "  added / updated specs: \n",
      "    - keras\n",
      "    - scikit-learn\n",
      "\n",
      "\n",
      "The following packages will be downloaded:\n",
      "\n",
      "    package                    |            build\n",
      "    ---------------------------|-----------------\n",
      "    h5py-2.7.1                 |           py35_2         3.9 MB  conda-forge\n",
      "    keras-2.1.5                |           py35_0         498 KB  conda-forge\n",
      "    yaml-0.1.7                 |                0         302 KB  conda-forge\n",
      "    pygpu-0.7.5                |           py35_0         1.4 MB  conda-forge\n",
      "    mako-1.0.7                 |           py35_0         115 KB  conda-forge\n",
      "    scipy-1.0.1                |py35_blas_openblas_200        39.4 MB  conda-forge\n",
      "    markupsafe-1.0             |           py35_0          32 KB  conda-forge\n",
      "    theano-1.0.1               |           py35_1         3.7 MB  conda-forge\n",
      "    libgpuarray-0.7.5          |                0         247 KB  conda-forge\n",
      "    scikit-learn-0.19.1        |py35_blas_openblas_201        12.7 MB  conda-forge\n",
      "    pyyaml-3.12                |           py35_1         394 KB  conda-forge\n",
      "    ------------------------------------------------------------\n",
      "                                           Total:        62.7 MB\n",
      "\n",
      "The following NEW packages will be INSTALLED:\n",
      "\n",
      "    h5py:         2.7.1-py35_2                  conda-forge\n",
      "    keras:        2.1.5-py35_0                  conda-forge\n",
      "    libgpuarray:  0.7.5-0                       conda-forge\n",
      "    mako:         1.0.7-py35_0                  conda-forge\n",
      "    markupsafe:   1.0-py35_0                    conda-forge\n",
      "    pygpu:        0.7.5-py35_0                  conda-forge\n",
      "    pyyaml:       3.12-py35_1                   conda-forge\n",
      "    scikit-learn: 0.19.1-py35_blas_openblas_201 conda-forge [blas_openblas]\n",
      "    scipy:        1.0.1-py35_blas_openblas_200  conda-forge [blas_openblas]\n",
      "    theano:       1.0.1-py35_1                  conda-forge\n",
      "    yaml:         0.1.7-0                       conda-forge\n",
      "\n",
      "Preparing transaction: ...working... done\n",
      "Verifying transaction: ...working... done\n",
      "Executing transaction: ...working... done\n"
     ]
    }
   ],
   "source": [
    "!bash -c 'source activate tl-detect && conda install -qy -c conda-forge keras scikit-learn'"
   ]
  },
  {
   "cell_type": "code",
   "execution_count": 29,
   "metadata": {},
   "outputs": [
    {
     "name": "stdout",
     "output_type": "stream",
     "text": [
      "{\n",
      "    \"backend\": \"tensorflow\",\n",
      "    \"image_data_format\": \"channels_last\",\n",
      "    \"epsilon\": 1e-07,\n",
      "    \"floatx\": \"float32\"\n",
      "}"
     ]
    }
   ],
   "source": [
    "!cat ~/.keras/keras.json"
   ]
  },
  {
   "cell_type": "code",
   "execution_count": 123,
   "metadata": {},
   "outputs": [],
   "source": [
    "!cp -R ../imgs/training/bosch/Green ../imgs/training/ && cp -R ../imgs/training/bosch/Red ../imgs/training/ && cp -R ../imgs/training/bosch/Yellow ../imgs/training/  && mv ../imgs/training/bosch ../imgs/bosch_tl "
   ]
  },
  {
   "cell_type": "code",
   "execution_count": 124,
   "metadata": {},
   "outputs": [],
   "source": [
    "! cd ../imgs/training && find . -size 0 -exec rm {} \\;"
   ]
  },
  {
   "cell_type": "code",
   "execution_count": 1,
   "metadata": {},
   "outputs": [],
   "source": [
    "import matplotlib.pyplot as plt\n",
    "from matplotlib.colors import hsv_to_rgb\n",
    "# Visualizations will be shown in the notebook.\n",
    "%matplotlib inline"
   ]
  },
  {
   "cell_type": "code",
   "execution_count": 35,
   "metadata": {},
   "outputs": [],
   "source": [
    "from keras.preprocessing.image import ImageDataGenerator\n",
    "from keras.models import Sequential\n",
    "from keras.layers import Conv2D, MaxPooling2D\n",
    "from keras.layers import Activation, Dropout, Flatten, Dense\n",
    "from keras import backend as K\n",
    "import keras\n",
    "\n"
   ]
  },
  {
   "cell_type": "code",
   "execution_count": 2,
   "metadata": {},
   "outputs": [],
   "source": [
    "UNKNOWN = 4\n",
    "GREEN = 2\n",
    "YELLOW = 1\n",
    "RED = 0"
   ]
  },
  {
   "cell_type": "code",
   "execution_count": 3,
   "metadata": {},
   "outputs": [],
   "source": [
    "import cv2\n",
    "import os\n",
    "import numpy as np\n",
    "import logging\n",
    "import pandas as pd\n"
   ]
  },
  {
   "cell_type": "code",
   "execution_count": 4,
   "metadata": {},
   "outputs": [],
   "source": [
    "import tensorflow as tf"
   ]
  },
  {
   "cell_type": "code",
   "execution_count": 5,
   "metadata": {},
   "outputs": [],
   "source": [
    "# dimensions of our images.\n",
    "img_width, img_height = 76, 40\n",
    "\n",
    "\n",
    "def read_img(img_path, dim, colspace = 'BGR'):\n",
    "    if colspace != 'GRAY':\n",
    "        img = cv2.imread(img_path)\n",
    "    if img is None:\n",
    "        raise ValueError('Couldn\\'t read img: ' + img_path)\n",
    "    if colspace == 'HSV':\n",
    "        logging\n",
    "        img = cv2.cvtColor(img, cv2.COLOR_BGR2HSV)\n",
    "        \n",
    "    return cv2.resize(img, dim, interpolation=cv2.INTER_CUBIC)\n",
    "\n",
    "def read_color(path, color, dim, colspace):\n",
    "    x = np.stack([read_img(path + f, dim, colspace) for f in os.listdir(path)], axis=0)\n",
    "    y = np.full(x.shape[0], color)\n",
    "    p = np.stack([f for f in os.listdir(path)])\n",
    "    return (x, y, p)\n",
    "\n",
    "def read_tl_dir(path, dim, colspace, lib='keras'):\n",
    "    x = []\n",
    "    y = []\n",
    "    p = []\n",
    "    for directory, color in zip(['Red/', 'Yellow/', 'Green/'], [RED, YELLOW, GREEN]): \n",
    "        x_img, y_img, f_path = read_color(os.path.join(path, directory), color, dim, colspace)\n",
    "        x.append(x_img)\n",
    "        y.append(y_img)\n",
    "        p.append(f_path)\n",
    "    \n",
    "    x = np.concatenate(x)\n",
    "    y = np.concatenate(y)\n",
    "    p = np.concatenate(p)\n",
    "    x = x.astype('float32')\n",
    "    x /= 255\n",
    "    return x, y, p\n",
    "    \n",
    "\n",
    "def read_train_test_tl(train_path, test_path, dim, colspace, lib='keras'):\n",
    "    x_train, y_train, p_train = read_tl_dir(train_path, dim, colspace, lib)\n",
    "    x_test, y_test, p_test = read_tl_dir(test_path, dim, colspace, lib)\n",
    "\n",
    "    return x_train, y_train, p_train, x_test, y_test, p_test\n",
    "\n",
    "\n",
    "train_data_dir = '../imgs/training/'\n",
    "validation_data_dir = '../imgs/validation/'\n",
    "\n",
    "x_train, y_train, p_train, x_validation, y_validation, p_validation = read_train_test_tl(train_data_dir, \n",
    "                                                                                         validation_data_dir, \n",
    "                                                                                         dim=(img_height, img_width),\n",
    "                                                                                         colspace='HSV', lib='tf')\n",
    "\n",
    "assert x_train.shape != x_validation.shape\n",
    "assert x_train.shape[1:] == x_validation.shape[1:]"
   ]
  },
  {
   "cell_type": "code",
   "execution_count": 6,
   "metadata": {},
   "outputs": [],
   "source": [
    "x = np.concatenate([x_train, x_validation])\n",
    "y = np.concatenate([y_train, y_validation])\n",
    "p = np.concatenate([p_train, p_validation])"
   ]
  },
  {
   "cell_type": "markdown",
   "metadata": {},
   "source": [
    "#### Normalize images"
   ]
  },
  {
   "cell_type": "code",
   "execution_count": 7,
   "metadata": {},
   "outputs": [],
   "source": [
    "def normalize_img(imgs):\n",
    "    img_mean = []\n",
    "    img_std = []\n",
    "    for ch in range(3):\n",
    "        img_mean.append(imgs[..., ch].mean())\n",
    "        img_std.append(imgs[..., ch].std())\n",
    "    \n",
    "    imgs_corr = np.copy(imgs)\n",
    "    for ch in range(3):\n",
    "        imgs_corr[..., ch] = (imgs[..., ch] - img_mean[ch]) / (img_std[ch] + 1e-8)\n",
    "        \n",
    "    return imgs_corr\n",
    "\n",
    "x_norm = normalize_img(x)"
   ]
  },
  {
   "cell_type": "code",
   "execution_count": 141,
   "metadata": {},
   "outputs": [
    {
     "name": "stderr",
     "output_type": "stream",
     "text": [
      "Clipping input data to the valid range for imshow with RGB data ([0..1] for floats or [0..255] for integers).\n"
     ]
    },
    {
     "data": {
      "text/plain": [
       "<matplotlib.image.AxesImage at 0x7fa66f98fc88>"
      ]
     },
     "execution_count": 141,
     "metadata": {},
     "output_type": "execute_result"
    },
    {
     "name": "stderr",
     "output_type": "stream",
     "text": [
      "/opt/conda/envs/tl-detect/lib/python3.5/site-packages/matplotlib/cm.py:259: RuntimeWarning: invalid value encountered in multiply\n",
      "  xx = (xx * 255).astype(np.uint8)\n"
     ]
    },
    {
     "data": {
      "image/png": "[encoded data removed]",
      "text/plain": [
       "<Figure size 432x288 with 1 Axes>"
      ]
     },
     "metadata": {},
     "output_type": "display_data"
    },
    {
     "data": {
      "image/png": "[encoded data removed]",
      "text/plain": [
       "<Figure size 432x288 with 1 Axes>"
      ]
     },
     "metadata": {},
     "output_type": "display_data"
    }
   ],
   "source": []
  },
  {
   "cell_type": "markdown",
   "metadata": {},
   "source": [
    "#### Balancedness\n",
    "Check whether our dataset is balanced"
   ]
  },
  {
   "cell_type": "code",
   "execution_count": 8,
   "metadata": {},
   "outputs": [
    {
     "data": {
      "text/html": [
       "<div>\n",
       "<style scoped>\n",
       "    .dataframe tbody tr th:only-of-type {\n",
       "        vertical-align: middle;\n",
       "    }\n",
       "\n",
       "    .dataframe tbody tr th {\n",
       "        vertical-align: top;\n",
       "    }\n",
       "\n",
       "    .dataframe thead th {\n",
       "        text-align: right;\n",
       "    }\n",
       "</style>\n",
       "<table border=\"1\" class=\"dataframe\">\n",
       "  <thead>\n",
       "    <tr style=\"text-align: right;\">\n",
       "      <th></th>\n",
       "      <th>counts</th>\n",
       "      <th>freqs</th>\n",
       "    </tr>\n",
       "    <tr>\n",
       "      <th>categories</th>\n",
       "      <th></th>\n",
       "      <th></th>\n",
       "    </tr>\n",
       "  </thead>\n",
       "  <tbody>\n",
       "    <tr>\n",
       "      <th>0</th>\n",
       "      <td>2874</td>\n",
       "      <td>0.350659</td>\n",
       "    </tr>\n",
       "    <tr>\n",
       "      <th>1</th>\n",
       "      <td>505</td>\n",
       "      <td>0.061615</td>\n",
       "    </tr>\n",
       "    <tr>\n",
       "      <th>2</th>\n",
       "      <td>4817</td>\n",
       "      <td>0.587726</td>\n",
       "    </tr>\n",
       "  </tbody>\n",
       "</table>\n",
       "</div>"
      ],
      "text/plain": [
       "            counts     freqs\n",
       "categories                  \n",
       "0             2874  0.350659\n",
       "1              505  0.061615\n",
       "2             4817  0.587726"
      ]
     },
     "execution_count": 8,
     "metadata": {},
     "output_type": "execute_result"
    }
   ],
   "source": [
    "pd.Categorical(y).describe()"
   ]
  },
  {
   "cell_type": "code",
   "execution_count": 23,
   "metadata": {},
   "outputs": [
    {
     "data": {
      "text/plain": [
       "4774"
      ]
     },
     "execution_count": 23,
     "metadata": {},
     "output_type": "execute_result"
    }
   ],
   "source": []
  },
  {
   "cell_type": "code",
   "execution_count": 9,
   "metadata": {},
   "outputs": [],
   "source": [
    "import cv2\n",
    "\n",
    "def add_gaussian_noise(X_imgs):\n",
    "    gaussian_noise_imgs = []\n",
    "    row, col, _ = X_imgs[0].shape\n",
    "    # Gaussian distribution parameters\n",
    "    mean = 0\n",
    "    var = 0.1\n",
    "    sigma = var ** 0.5\n",
    "    \n",
    "    for X_img in X_imgs:\n",
    "        gaussian = np.random.random((row, col, 1)).astype(np.float32)\n",
    "        gaussian = np.concatenate((gaussian, gaussian, gaussian), axis=2)\n",
    "        gaussian_img = cv2.addWeighted(X_img, 0.75, 0.25 * gaussian, 0.25, 0)\n",
    "        gaussian_noise_imgs.append(gaussian_img)\n",
    "    gaussian_noise_imgs = np.array(gaussian_noise_imgs, dtype=np.float32)\n",
    "    return gaussian_noise_imgs"
   ]
  },
  {
   "cell_type": "code",
   "execution_count": 20,
   "metadata": {},
   "outputs": [],
   "source": [
    "def translate_imgs(X_imgs):\n",
    "    translated_imgs = []\n",
    "    rows, cols, _ = X_imgs[0].shape\n",
    "\n",
    "    for X_img in X_imgs:\n",
    "        M = np.float32([[1, 0, np.random.randint(-5,5)], [0, 1, np.random.randint(-5,5)]])\n",
    "        translated_imgs.append(cv2.warpAffine(X_img, M, (cols, rows)))\n",
    "    translated_imgs = np.array(translated_imgs, dtype=np.float32)\n",
    "    return translated_imgs\n",
    "\n",
    "def rotate_imgs(X_imgs):\n",
    "    rotated_imgs = []\n",
    "    rows, cols, _ = X_imgs[0].shape\n",
    "\n",
    "    for X_img in X_imgs:\n",
    "        M = cv2.getRotationMatrix2D((cols/2,rows/2), np.random.randint(-15, 15), 1)\n",
    "        rotated_imgs.append(cv2.warpAffine(X_img, M, (cols, rows)))\n",
    "    rotated_imgs = np.array(rotated_imgs, dtype=np.float32)\n",
    "    return rotated_imgs\n",
    "\n"
   ]
  },
  {
   "cell_type": "code",
   "execution_count": 31,
   "metadata": {},
   "outputs": [],
   "source": [
    "def augment_data(X_imgs, label, target_amount=5000):\n",
    "    np.random.seed(seed=42)\n",
    "    x_mod = []\n",
    "    y_mod = []\n",
    "    for col in [RED, GREEN, YELLOW]:\n",
    "        aug_idx = np.random.choice(range(X_imgs[label==col].shape[0]), target_amount)\n",
    "        col_mod = add_gaussian_noise(X_imgs[label==col][aug_idx])\n",
    "        col_mod = translate_imgs(col_mod)\n",
    "        x_mod.append(rotate_imgs(col_mod))\n",
    "        y_mod.append(np.full(target_amount, col))\n",
    "\n",
    "    x_mod = np.concatenate(x_mod)\n",
    "    y_mod = np.concatenate(y_mod)\n",
    "    \n",
    "    return x_mod, y_mod\n",
    "\n",
    "x_mod, y_mod = augment_data(x, y)\n",
    "x_norm_mod, y_norm_mod = augment_data(x_norm, y)"
   ]
  },
  {
   "cell_type": "code",
   "execution_count": 32,
   "metadata": {},
   "outputs": [
    {
     "data": {
      "text/plain": [
       "1"
      ]
     },
     "execution_count": 32,
     "metadata": {},
     "output_type": "execute_result"
    },
    {
     "data": {
      "image/png": "[encoded data removed]",
      "text/plain": [
       "<Figure size 432x288 with 1 Axes>"
      ]
     },
     "metadata": {},
     "output_type": "display_data"
    }
   ],
   "source": [
    "idx =13000\n",
    "plt.imshow(hsv_to_rgb(x_mod[idx]))\n",
    "y_mod[idx]"
   ]
  },
  {
   "cell_type": "code",
   "execution_count": 33,
   "metadata": {},
   "outputs": [
    {
     "data": {
      "text/plain": [
       "(76, 40, 3)"
      ]
     },
     "execution_count": 33,
     "metadata": {},
     "output_type": "execute_result"
    }
   ],
   "source": [
    "x_train.shape[1:]"
   ]
  },
  {
   "cell_type": "code",
   "execution_count": 17,
   "metadata": {},
   "outputs": [],
   "source": [
    "batch_size = 1000\n",
    "epochs = 25"
   ]
  },
  {
   "cell_type": "code",
   "execution_count": 40,
   "metadata": {},
   "outputs": [
    {
     "name": "stdout",
     "output_type": "stream",
     "text": [
      "Train on 7246 samples, validate on 7246 samples\n",
      "Epoch 1/25\n",
      "7246/7246 [==============================] - 5s 684us/step - loss: 1.1979 - acc: 0.4510 - val_loss: 0.7744 - val_acc: 0.7755\n",
      "Epoch 2/25\n",
      "7246/7246 [==============================] - 4s 616us/step - loss: 0.7130 - acc: 0.7219 - val_loss: 0.6096 - val_acc: 0.7804\n",
      "Epoch 3/25\n",
      "7246/7246 [==============================] - 4s 616us/step - loss: 0.6191 - acc: 0.7773 - val_loss: 0.5728 - val_acc: 0.7875\n",
      "Epoch 4/25\n",
      "7246/7246 [==============================] - 4s 617us/step - loss: 0.5993 - acc: 0.7811 - val_loss: 0.5893 - val_acc: 0.7833\n",
      "Epoch 5/25\n",
      "7246/7246 [==============================] - 4s 616us/step - loss: 0.6021 - acc: 0.7815 - val_loss: 0.5696 - val_acc: 0.7872\n",
      "Epoch 6/25\n",
      "7246/7246 [==============================] - 4s 616us/step - loss: 0.5863 - acc: 0.7876 - val_loss: 0.5591 - val_acc: 0.7890\n",
      "Epoch 7/25\n",
      "7246/7246 [==============================] - 4s 617us/step - loss: 0.5933 - acc: 0.7861 - val_loss: 0.5569 - val_acc: 0.7893\n",
      "Epoch 8/25\n",
      "7246/7246 [==============================] - 4s 618us/step - loss: 0.5788 - acc: 0.7898 - val_loss: 0.5551 - val_acc: 0.7955\n",
      "Epoch 9/25\n",
      "7246/7246 [==============================] - 4s 617us/step - loss: 0.5825 - acc: 0.7879 - val_loss: 0.5460 - val_acc: 0.7931\n",
      "Epoch 10/25\n",
      "7246/7246 [==============================] - 4s 618us/step - loss: 0.5733 - acc: 0.7951 - val_loss: 0.5454 - val_acc: 0.7959\n",
      "Epoch 11/25\n",
      "7246/7246 [==============================] - 4s 618us/step - loss: 0.5724 - acc: 0.7942 - val_loss: 0.5624 - val_acc: 0.7909\n",
      "Epoch 12/25\n",
      "7246/7246 [==============================] - 4s 619us/step - loss: 0.5704 - acc: 0.7953 - val_loss: 0.5424 - val_acc: 0.7988\n",
      "Epoch 13/25\n",
      "7246/7246 [==============================] - 4s 619us/step - loss: 0.5651 - acc: 0.7993 - val_loss: 0.5541 - val_acc: 0.7967\n",
      "Epoch 14/25\n",
      "7246/7246 [==============================] - 4s 619us/step - loss: 0.5690 - acc: 0.7953 - val_loss: 0.5511 - val_acc: 0.7970\n",
      "Epoch 15/25\n",
      "7246/7246 [==============================] - 4s 619us/step - loss: 0.5651 - acc: 0.7967 - val_loss: 0.5706 - val_acc: 0.7857\n",
      "Epoch 16/25\n",
      "7246/7246 [==============================] - 4s 620us/step - loss: 0.5610 - acc: 0.8011 - val_loss: 0.5263 - val_acc: 0.8078\n",
      "Epoch 17/25\n",
      "7246/7246 [==============================] - 4s 621us/step - loss: 0.5474 - acc: 0.8022 - val_loss: 0.5521 - val_acc: 0.7940\n",
      "Epoch 18/25\n",
      "7246/7246 [==============================] - 4s 619us/step - loss: 0.5536 - acc: 0.7963 - val_loss: 0.5283 - val_acc: 0.8093\n",
      "Epoch 19/25\n",
      "7246/7246 [==============================] - 4s 619us/step - loss: 0.5476 - acc: 0.8014 - val_loss: 0.5201 - val_acc: 0.8084\n",
      "Epoch 20/25\n",
      "7246/7246 [==============================] - 4s 620us/step - loss: 0.5648 - acc: 0.8011 - val_loss: 0.5304 - val_acc: 0.8050\n",
      "Epoch 21/25\n",
      "7246/7246 [==============================] - 5s 621us/step - loss: 0.5564 - acc: 0.8024 - val_loss: 0.5295 - val_acc: 0.8118\n",
      "Epoch 22/25\n",
      "7246/7246 [==============================] - 4s 620us/step - loss: 0.5405 - acc: 0.8062 - val_loss: 0.5171 - val_acc: 0.8073\n",
      "Epoch 23/25\n",
      "7246/7246 [==============================] - 4s 620us/step - loss: 0.5458 - acc: 0.8015 - val_loss: 0.5632 - val_acc: 0.8038\n",
      "Epoch 24/25\n",
      "7246/7246 [==============================] - 4s 620us/step - loss: 0.5373 - acc: 0.8083 - val_loss: 0.5251 - val_acc: 0.8061\n",
      "Epoch 25/25\n",
      "7246/7246 [==============================] - 4s 620us/step - loss: 0.5341 - acc: 0.8069 - val_loss: 0.5020 - val_acc: 0.8130\n",
      "Test loss: 0.50201258410448\n",
      "Test accuracy: 0.8130002760308045\n"
     ]
    }
   ],
   "source": [
    "if K.image_data_format() == 'channels_first':\n",
    "    x_train = x_train.reshape(x_train.shape[0], 3, img_width, img_height)\n",
    "    x_validation = x_validation.reshape(x_validation.shape[0], 3, img_width, img_height)\n",
    "    input_shape = (3, img_width, img_heigth)\n",
    "else:\n",
    "    x_train = x_train.reshape(x_train.shape[0], img_width, img_height, 3)\n",
    "    x_validation = x_validation.reshape(x_validation.shape[0], img_width, img_height, 3)\n",
    "    input_shape = (img_width, img_height, 3)\n",
    "\n",
    "model = Sequential()\n",
    "model.add(Conv2D(32, kernel_size=(3, 3),\n",
    "                 activation='relu',\n",
    "                 input_shape=input_shape))\n",
    "model.add(Conv2D(64, (3, 3), activation='relu'))\n",
    "model.add(MaxPooling2D(pool_size=(2, 2)))\n",
    "model.add(Dropout(0.25))\n",
    "model.add(Flatten())\n",
    "model.add(Dense(128, activation='relu'))\n",
    "model.add(Dropout(0.5))\n",
    "model.add(Dense(NUM_CLASSES, activation='softmax'))\n",
    "\n",
    "model.compile(loss=keras.losses.categorical_crossentropy,\n",
    "              optimizer=keras.optimizers.Adadelta(),\n",
    "              metrics=['accuracy'])\n",
    "\n",
    "model.fit(x_train, y_train,\n",
    "          batch_size=batch_size,\n",
    "          epochs=epochs,\n",
    "          verbose=1,\n",
    "          validation_data=(x_validation, y_validation))\n",
    "score = model.evaluate(x_validation, y_validation, verbose=0)\n",
    "print('Test loss:', score[0])\n",
    "print('Test accuracy:', score[1])\n",
    "model.save_weights('first_try.h5')"
   ]
  },
  {
   "cell_type": "code",
   "execution_count": 78,
   "metadata": {},
   "outputs": [],
   "source": []
  },
  {
   "cell_type": "code",
   "execution_count": 76,
   "metadata": {},
   "outputs": [
    {
     "data": {
      "text/plain": [
       "(8139, 3)"
      ]
     },
     "execution_count": 76,
     "metadata": {},
     "output_type": "execute_result"
    }
   ],
   "source": []
  },
  {
   "cell_type": "code",
   "execution_count": 143,
   "metadata": {},
   "outputs": [],
   "source": [
    "# Training Parameters\n",
    "learning_rate = 0.001\n",
    "num_steps = 2000\n",
    "batch_size = 128\n",
    "\n",
    "# Network Parameters\n",
    "num_input = x.shape[0] \n",
    "num_classes = 3 \n",
    "dropout = 0.25 # Dropout, probability to drop a unit\n",
    "\n",
    "def create_new_conv_layer(input_data, num_input_channels, num_filters, filter_shape, pool_shape, name):\n",
    "    # setup the filter input shape for tf.nn.conv_2d\n",
    "    conv_filt_shape = [filter_shape[0], filter_shape[1], num_input_channels, num_filters]\n",
    "\n",
    "    # initialise weights and bias for the filter\n",
    "    weights = tf.Variable(tf.truncated_normal(conv_filt_shape, stddev=0.03), name=name+'_W')\n",
    "    bias = tf.Variable(tf.truncated_normal([num_filters]), name=name+'_b')\n",
    "\n",
    "    # setup the convolutional layer operation\n",
    "    out_layer = tf.nn.conv2d(input_data, weights, [1, 1, 1, 1], padding='SAME')\n",
    "\n",
    "    # add the bias\n",
    "    out_layer += bias\n",
    "\n",
    "    # apply a ReLU non-linear activation\n",
    "    out_layer = tf.nn.relu(out_layer)\n",
    "\n",
    "    # now perform max pooling\n",
    "    # ksize is the argument which defines the size of the max pooling window (i.e. the area over which the maximum is\n",
    "    # calculated).  It must be 4D to match the convolution - in this case, for each image we want to use a 2 x 2 area\n",
    "    # applied to each channel\n",
    "    ksize = [1, pool_shape[0], pool_shape[1], 1]\n",
    "    # strides defines how the max pooling area moves through the image - a stride of 2 in the x direction will lead to\n",
    "    # max pooling areas starting at x=0, x=2, x=4 etc. through your image.  If the stride is 1, we will get max pooling\n",
    "    # overlapping previous max pooling areas (and no reduction in the number of parameters).  In this case, we want\n",
    "    # to do strides of 2 in the x and y directions.\n",
    "    strides = [1, 2, 2, 1]\n",
    "    out_layer = tf.nn.max_pool(out_layer, ksize=ksize, strides=strides, padding='SAME')\n",
    "\n",
    "    return out_layer\n",
    "\n",
    "def conv_net(input_data, dropout, reuse, is_training):\n",
    "    with tf.variable_scope('ConvNet', reuse=reuse):\n",
    "        input2d = tf.reshape(input_data, [-1, img_height, img_width, 3])\n",
    "        \n",
    "        # create some convolutional layers\n",
    "        conv1 = create_new_conv_layer(input2d, 3, 32, [5, 5], [2, 2], name='layer1')\n",
    "        conv2 = create_new_conv_layer(conv1, 32, 64, [5, 5], [2, 2], name='layer2')\n",
    "\n",
    "        # Flatten the data to a 1-D vector for the fully connected layer\n",
    "        fc1 = tf.contrib.layers.flatten(conv2)\n",
    "\n",
    "        # Fully connected layer (in tf contrib folder for now)\n",
    "        fc1 = tf.layers.dense(fc1, 1024)\n",
    "        \n",
    "        input_size = img_width * img_height // 4 // 4 * 64 * 3\n",
    "        \n",
    "        # setup some weights and bias values for this layer, then activate with ReLU\n",
    "        wd1 = tf.Variable(tf.truncated_normal([1024, 1000], stddev=0.03), name='wd1')\n",
    "        bd1 = tf.Variable(tf.truncated_normal([1000], stddev=0.01), name='bd1')\n",
    "        dl1 = tf.matmul(fc1, wd1) + bd1\n",
    "        dl1 = tf.nn.relu(dl1)\n",
    "\n",
    "         # another layer with softmax activations\n",
    "        wd2 = tf.Variable(tf.truncated_normal([1000, num_classes], stddev=0.03), name='wd2')\n",
    "        bd2 = tf.Variable(tf.truncated_normal([num_classes], stddev=0.01), name='bd2')\n",
    "        dl2 = tf.matmul(dl1, wd2) + bd2\n",
    "        \n",
    "        # Apply Dropout (if is_training is False, dropout is not applied)\n",
    "        #fc1 = tf.layers.dropout(fc1, rate=dropout, training=is_training)\n",
    "\n",
    "        # Output layer, class prediction\n",
    "        out = dl2\n",
    "    return out\n",
    "\n",
    "        \n",
    "# Define the model function (following TF Estimator Template)\n",
    "def model_fn(features, labels, mode):\n",
    "    \n",
    "    # Build the neural network\n",
    "    # Because Dropout have different behavior at training and prediction time, we\n",
    "    # need to create 2 distinct computation graphs that still share the same weights.\n",
    "    logits_train = conv_net(features, dropout, reuse=False, is_training=True)\n",
    "    logits_test = conv_net(features, dropout, reuse=True, is_training=False)\n",
    "    \n",
    "    # Predictions\n",
    "    pred_classes = tf.argmax(logits_test, axis=1)\n",
    "    pred_probas = tf.nn.softmax(logits_test)\n",
    "    \n",
    "    # If prediction mode, early return\n",
    "    if mode == tf.estimator.ModeKeys.PREDICT:\n",
    "        return tf.estimator.EstimatorSpec(mode, predictions=pred_classes) \n",
    "        \n",
    "    # Define loss and optimizer\n",
    "    loss_op = tf.reduce_mean(tf.nn.sparse_softmax_cross_entropy_with_logits(\n",
    "        logits=logits_train, labels=tf.cast(labels, dtype=tf.int32)))\n",
    "    optimizer = tf.train.AdamOptimizer(learning_rate=learning_rate)\n",
    "    train_op = optimizer.minimize(loss_op, global_step=tf.train.get_global_step())\n",
    "    \n",
    "    # Evaluate the accuracy of the model\n",
    "    acc_op = tf.metrics.accuracy(labels=labels, predictions=pred_classes)\n",
    "    \n",
    "    # TF Estimators requires to return a EstimatorSpec, that specify\n",
    "    # the different ops for training, evaluating, ...\n",
    "    estim_specs = tf.estimator.EstimatorSpec(\n",
    "      mode=mode,\n",
    "      predictions=pred_classes,\n",
    "      loss=loss_op,\n",
    "      train_op=train_op,\n",
    "      eval_metric_ops={'accuracy': acc_op})\n",
    "\n",
    "    return estim_specs"
   ]
  },
  {
   "cell_type": "code",
   "execution_count": 144,
   "metadata": {},
   "outputs": [
    {
     "name": "stdout",
     "output_type": "stream",
     "text": [
      "INFO:tensorflow:Using default config.\n",
      "WARNING:tensorflow:Using temporary folder as model directory: /tmp/tmpl9wpimkp\n",
      "INFO:tensorflow:Using config: {'_log_step_count_steps': 100, '_session_config': None, '_model_dir': '/tmp/tmpl9wpimkp', '_cluster_spec': <tensorflow.python.training.server_lib.ClusterSpec object at 0x7fa66f9a12b0>, '_keep_checkpoint_max': 5, '_tf_random_seed': None, '_master': '', '_service': None, '_save_checkpoints_steps': None, '_save_checkpoints_secs': 600, '_num_ps_replicas': 0, '_task_id': 0, '_is_chief': True, '_save_summary_steps': 100, '_num_worker_replicas': 1, '_keep_checkpoint_every_n_hours': 10000, '_evaluation_master': '', '_task_type': 'worker', '_global_id_in_cluster': 0}\n"
     ]
    }
   ],
   "source": [
    "# Build the Estimator\n",
    "model = tf.estimator.Estimator(model_fn)"
   ]
  },
  {
   "cell_type": "code",
   "execution_count": 145,
   "metadata": {},
   "outputs": [
    {
     "name": "stdout",
     "output_type": "stream",
     "text": [
      "INFO:tensorflow:Calling model_fn.\n",
      "INFO:tensorflow:Done calling model_fn.\n",
      "INFO:tensorflow:Create CheckpointSaverHook.\n",
      "INFO:tensorflow:Graph was finalized.\n",
      "INFO:tensorflow:Running local_init_op.\n",
      "INFO:tensorflow:Done running local_init_op.\n",
      "INFO:tensorflow:Saving checkpoints for 1 into /tmp/tmpl9wpimkp/model.ckpt.\n",
      "INFO:tensorflow:loss = 0.75198746, step = 1\n",
      "INFO:tensorflow:global_step/sec: 18.822\n",
      "INFO:tensorflow:loss = 0.89657295, step = 101 (5.314 sec)\n",
      "INFO:tensorflow:global_step/sec: 19.9951\n",
      "INFO:tensorflow:loss = 0.27340034, step = 201 (5.003 sec)\n",
      "INFO:tensorflow:global_step/sec: 20.3618\n",
      "INFO:tensorflow:loss = 1.0563623, step = 301 (4.909 sec)\n",
      "INFO:tensorflow:global_step/sec: 20.0942\n",
      "INFO:tensorflow:loss = 0.9376494, step = 401 (4.979 sec)\n",
      "INFO:tensorflow:global_step/sec: 20.6261\n",
      "INFO:tensorflow:loss = 0.7827145, step = 501 (4.846 sec)\n",
      "INFO:tensorflow:global_step/sec: 19.9549\n",
      "INFO:tensorflow:loss = 0.95045114, step = 601 (5.012 sec)\n",
      "INFO:tensorflow:global_step/sec: 20.3298\n",
      "INFO:tensorflow:loss = 0.67671937, step = 701 (4.920 sec)\n",
      "INFO:tensorflow:global_step/sec: 19.2216\n",
      "INFO:tensorflow:loss = 0.99879694, step = 801 (5.203 sec)\n",
      "INFO:tensorflow:global_step/sec: 20.4214\n",
      "INFO:tensorflow:loss = 0.5759864, step = 901 (4.895 sec)\n",
      "INFO:tensorflow:global_step/sec: 19.6735\n",
      "INFO:tensorflow:loss = 1.2990873, step = 1001 (5.083 sec)\n",
      "INFO:tensorflow:global_step/sec: 19.7701\n",
      "INFO:tensorflow:loss = 0.94481003, step = 1101 (5.058 sec)\n",
      "INFO:tensorflow:global_step/sec: 19.5405\n",
      "INFO:tensorflow:loss = 0.76428086, step = 1201 (5.118 sec)\n",
      "INFO:tensorflow:global_step/sec: 19.7938\n",
      "INFO:tensorflow:loss = 1.1500164, step = 1301 (5.054 sec)\n",
      "INFO:tensorflow:global_step/sec: 20.0818\n",
      "INFO:tensorflow:loss = 0.6980131, step = 1401 (4.977 sec)\n",
      "INFO:tensorflow:global_step/sec: 19.058\n",
      "INFO:tensorflow:loss = 0.9230187, step = 1501 (5.247 sec)\n",
      "INFO:tensorflow:global_step/sec: 19.1187\n",
      "INFO:tensorflow:loss = 0.29590932, step = 1601 (5.232 sec)\n",
      "INFO:tensorflow:global_step/sec: 20.0028\n",
      "INFO:tensorflow:loss = 1.2772105, step = 1701 (4.999 sec)\n",
      "INFO:tensorflow:global_step/sec: 19.6533\n",
      "INFO:tensorflow:loss = 0.20618688, step = 1801 (5.086 sec)\n",
      "INFO:tensorflow:global_step/sec: 19.6785\n",
      "INFO:tensorflow:loss = 1.0786288, step = 1901 (5.082 sec)\n",
      "INFO:tensorflow:Saving checkpoints for 2000 into /tmp/tmpl9wpimkp/model.ckpt.\n",
      "INFO:tensorflow:Loss for final step: 0.8263157.\n"
     ]
    },
    {
     "data": {
      "text/plain": [
       "<tensorflow.python.estimator.estimator.Estimator at 0x7fa66f9a14e0>"
      ]
     },
     "execution_count": 145,
     "metadata": {},
     "output_type": "execute_result"
    }
   ],
   "source": [
    "# Define the input function for training\n",
    "input_fn = tf.estimator.inputs.numpy_input_fn(\n",
    "    x=x, y=y,\n",
    "    batch_size=batch_size, num_epochs=None, shuffle=True)\n",
    "# Train the Model\n",
    "model.train(input_fn, steps=num_steps)"
   ]
  },
  {
   "cell_type": "code",
   "execution_count": null,
   "metadata": {},
   "outputs": [],
   "source": []
  },
  {
   "cell_type": "code",
   "execution_count": null,
   "metadata": {},
   "outputs": [],
   "source": []
  }
 ],
 "metadata": {
  "kernelspec": {
   "display_name": "Python 3",
   "language": "python",
   "name": "python3"
  },
  "language_info": {
   "codemirror_mode": {
    "name": "ipython",
    "version": 3
   },
   "file_extension": ".py",
   "mimetype": "text/x-python",
   "name": "python",
   "nbconvert_exporter": "python",
   "pygments_lexer": "ipython3",
   "version": "3.5.5"
  }
 },
 "nbformat": 4,
 "nbformat_minor": 2
}
