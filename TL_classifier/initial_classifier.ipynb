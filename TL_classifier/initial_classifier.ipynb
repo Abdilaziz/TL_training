{
 "cells": [
  {
   "cell_type": "code",
   "execution_count": 1,
   "metadata": {},
   "outputs": [
    {
     "name": "stdout",
     "output_type": "stream",
     "text": [
      "Solving environment: ...working... done\n",
      "\n",
      "\n",
      "==> WARNING: A newer version of conda exists. <==\n",
      "  current version: 4.4.10\n",
      "  latest version: 4.5.0\n",
      "\n",
      "Please update conda by running\n",
      "\n",
      "    $ conda update -n base conda\n",
      "\n",
      "\n",
      "\n",
      "## Package Plan ##\n",
      "\n",
      "  environment location: /opt/conda/envs/tl-detect\n",
      "\n",
      "  added / updated specs: \n",
      "    - keras\n",
      "    - scikit-learn\n",
      "\n",
      "\n",
      "The following packages will be downloaded:\n",
      "\n",
      "    package                    |            build\n",
      "    ---------------------------|-----------------\n",
      "    h5py-2.7.1                 |           py35_2         3.9 MB  conda-forge\n",
      "    keras-2.1.5                |           py35_0         498 KB  conda-forge\n",
      "    yaml-0.1.7                 |                0         302 KB  conda-forge\n",
      "    pygpu-0.7.5                |           py35_0         1.4 MB  conda-forge\n",
      "    mako-1.0.7                 |           py35_0         115 KB  conda-forge\n",
      "    scipy-1.0.1                |py35_blas_openblas_200        39.4 MB  conda-forge\n",
      "    markupsafe-1.0             |           py35_0          32 KB  conda-forge\n",
      "    theano-1.0.1               |           py35_1         3.7 MB  conda-forge\n",
      "    libgpuarray-0.7.5          |                0         247 KB  conda-forge\n",
      "    scikit-learn-0.19.1        |py35_blas_openblas_201        12.7 MB  conda-forge\n",
      "    pyyaml-3.12                |           py35_1         394 KB  conda-forge\n",
      "    ------------------------------------------------------------\n",
      "                                           Total:        62.7 MB\n",
      "\n",
      "The following NEW packages will be INSTALLED:\n",
      "\n",
      "    h5py:         2.7.1-py35_2                  conda-forge\n",
      "    keras:        2.1.5-py35_0                  conda-forge\n",
      "    libgpuarray:  0.7.5-0                       conda-forge\n",
      "    mako:         1.0.7-py35_0                  conda-forge\n",
      "    markupsafe:   1.0-py35_0                    conda-forge\n",
      "    pygpu:        0.7.5-py35_0                  conda-forge\n",
      "    pyyaml:       3.12-py35_1                   conda-forge\n",
      "    scikit-learn: 0.19.1-py35_blas_openblas_201 conda-forge [blas_openblas]\n",
      "    scipy:        1.0.1-py35_blas_openblas_200  conda-forge [blas_openblas]\n",
      "    theano:       1.0.1-py35_1                  conda-forge\n",
      "    yaml:         0.1.7-0                       conda-forge\n",
      "\n",
      "Preparing transaction: ...working... done\n",
      "Verifying transaction: ...working... done\n",
      "Executing transaction: ...working... done\n"
     ]
    }
   ],
   "source": [
    "!bash -c 'source activate tl-detect && conda install -qy -c conda-forge keras scikit-learn'"
   ]
  },
  {
   "cell_type": "code",
   "execution_count": 29,
   "metadata": {},
   "outputs": [
    {
     "name": "stdout",
     "output_type": "stream",
     "text": [
      "{\n",
      "    \"backend\": \"tensorflow\",\n",
      "    \"image_data_format\": \"channels_last\",\n",
      "    \"epsilon\": 1e-07,\n",
      "    \"floatx\": \"float32\"\n",
      "}"
     ]
    }
   ],
   "source": [
    "!cat ~/.keras/keras.json"
   ]
  },
  {
   "cell_type": "code",
   "execution_count": 246,
   "metadata": {},
   "outputs": [
    {
     "name": "stdout",
     "output_type": "stream",
     "text": [
      "mv: cannot move '../imgs/training/bosch' to '../imgs/bosch_tl/bosch': Directory not empty\n"
     ]
    }
   ],
   "source": [
    "!cp -R ../imgs/training/bosch/Green ../imgs/training/ && cp -R ../imgs/training/bosch/Red ../imgs/training/ && cp -R ../imgs/training/bosch/Yellow ../imgs/training/  && mv ../imgs/training/bosch ../imgs/bosch_tl "
   ]
  },
  {
   "cell_type": "code",
   "execution_count": 247,
   "metadata": {},
   "outputs": [],
   "source": [
    "! cd ../imgs/training && find . -size 0 -exec rm {} \\;"
   ]
  },
  {
   "cell_type": "code",
   "execution_count": 2,
   "metadata": {},
   "outputs": [],
   "source": [
    "import matplotlib.pyplot as plt\n",
    "from matplotlib.colors import hsv_to_rgb\n",
    "# Visualizations will be shown in the notebook.\n",
    "%matplotlib inline"
   ]
  },
  {
   "cell_type": "code",
   "execution_count": 35,
   "metadata": {},
   "outputs": [],
   "source": [
    "from keras.preprocessing.image import ImageDataGenerator\n",
    "from keras.models import Sequential\n",
    "from keras.layers import Conv2D, MaxPooling2D\n",
    "from keras.layers import Activation, Dropout, Flatten, Dense\n",
    "from keras import backend as K\n",
    "import keras\n",
    "\n"
   ]
  },
  {
   "cell_type": "code",
   "execution_count": 3,
   "metadata": {},
   "outputs": [],
   "source": [
    "UNKNOWN = 4\n",
    "GREEN = 2\n",
    "YELLOW = 1\n",
    "RED = 0"
   ]
  },
  {
   "cell_type": "code",
   "execution_count": 4,
   "metadata": {},
   "outputs": [],
   "source": [
    "import cv2\n",
    "import os\n",
    "import numpy as np\n",
    "import logging\n",
    "import pandas as pd\n"
   ]
  },
  {
   "cell_type": "code",
   "execution_count": 5,
   "metadata": {},
   "outputs": [
    {
     "name": "stderr",
     "output_type": "stream",
     "text": [
      "/opt/conda/envs/tl-detect/lib/python3.5/site-packages/h5py/__init__.py:36: FutureWarning: Conversion of the second argument of issubdtype from `float` to `np.floating` is deprecated. In future, it will be treated as `np.float64 == np.dtype(float).type`.\n",
      "  from ._conv import register_converters as _register_converters\n"
     ]
    }
   ],
   "source": [
    "import tensorflow as tf"
   ]
  },
  {
   "cell_type": "code",
   "execution_count": 248,
   "metadata": {},
   "outputs": [],
   "source": [
    "# dimensions of our images.\n",
    "img_width, img_height = 38, 20\n",
    "\n",
    "\n",
    "def read_img(img_path, dim, colspace = 'BGR'):\n",
    "    if colspace != 'GRAY':\n",
    "        img = cv2.imread(img_path)\n",
    "    if img is None:\n",
    "        raise ValueError('Couldn\\'t read img: ' + img_path)\n",
    "    if colspace == 'HSV':\n",
    "        logging\n",
    "        img = cv2.cvtColor(img, cv2.COLOR_BGR2HSV)\n",
    "        \n",
    "    return cv2.resize(img, dim, interpolation=cv2.INTER_CUBIC)\n",
    "\n",
    "def read_color(path, color, dim, colspace):\n",
    "    x = np.stack([read_img(path + f, dim, colspace) for f in os.listdir(path)], axis=0)\n",
    "    y = np.full(x.shape[0], color)\n",
    "    p = np.stack([f for f in os.listdir(path)])\n",
    "    return (x, y, p)\n",
    "\n",
    "def read_tl_dir(path, dim, colspace, lib='keras'):\n",
    "    x = []\n",
    "    y = []\n",
    "    p = []\n",
    "    for directory, color in zip(['Red/', 'Yellow/', 'Green/'], [RED, YELLOW, GREEN]): \n",
    "        x_img, y_img, f_path = read_color(os.path.join(path, directory), color, dim, colspace)\n",
    "        x.append(x_img)\n",
    "        y.append(y_img)\n",
    "        p.append(f_path)\n",
    "    \n",
    "    x = np.concatenate(x)\n",
    "    y = np.concatenate(y)\n",
    "    p = np.concatenate(p)\n",
    "    x = x.astype('float32')\n",
    "    x /= 255\n",
    "    return x, y, p\n",
    "    \n",
    "\n",
    "def read_train_test_tl(train_path, test_path, dim, colspace, lib='keras'):\n",
    "    x_train, y_train, p_train = read_tl_dir(train_path, dim, colspace, lib)\n",
    "    x_test, y_test, p_test = read_tl_dir(test_path, dim, colspace, lib)\n",
    "\n",
    "    return x_train, y_train, p_train, x_test, y_test, p_test\n",
    "\n",
    "\n",
    "train_data_dir = '../imgs/training/'\n",
    "validation_data_dir = '../imgs/validation/'\n",
    "\n",
    "x_train, y_train, p_train, x_validation, y_validation, p_validation = read_train_test_tl(train_data_dir, \n",
    "                                                                                         validation_data_dir, \n",
    "                                                                                         dim=(img_height, img_width),\n",
    "                                                                                         colspace='HSV', lib='tf')\n",
    "\n",
    "assert x_train.shape != x_validation.shape\n",
    "assert x_train.shape[1:] == x_validation.shape[1:]"
   ]
  },
  {
   "cell_type": "code",
   "execution_count": 249,
   "metadata": {},
   "outputs": [],
   "source": [
    "x = np.concatenate([x_train, x_validation])\n",
    "y = np.concatenate([y_train, y_validation])\n",
    "p = np.concatenate([p_train, p_validation])"
   ]
  },
  {
   "cell_type": "markdown",
   "metadata": {},
   "source": [
    "#### Normalize images"
   ]
  },
  {
   "cell_type": "code",
   "execution_count": 154,
   "metadata": {},
   "outputs": [],
   "source": [
    "def normalize_img(imgs):\n",
    "    img_mean = []\n",
    "    img_std = []\n",
    "    for ch in range(3):\n",
    "        img_mean.append(imgs[..., ch].mean())\n",
    "        img_std.append(imgs[..., ch].std())\n",
    "    print('mean: {}'.format(img_mean))\n",
    "    print('std: {} '.format(img_std))\n",
    "    imgs_corr = np.copy(imgs)\n",
    "    for ch in range(3):\n",
    "        imgs_corr[..., ch] = (imgs[..., ch] - img_mean[ch]) / (img_std[ch] + 1e-8)\n",
    "        \n",
    "    return imgs_corr"
   ]
  },
  {
   "cell_type": "code",
   "execution_count": 141,
   "metadata": {},
   "outputs": [
    {
     "name": "stderr",
     "output_type": "stream",
     "text": [
      "Clipping input data to the valid range for imshow with RGB data ([0..1] for floats or [0..255] for integers).\n"
     ]
    },
    {
     "data": {
      "text/plain": [
       "<matplotlib.image.AxesImage at 0x7fa66f98fc88>"
      ]
     },
     "execution_count": 141,
     "metadata": {},
     "output_type": "execute_result"
    },
    {
     "name": "stderr",
     "output_type": "stream",
     "text": [
      "/opt/conda/envs/tl-detect/lib/python3.5/site-packages/matplotlib/cm.py:259: RuntimeWarning: invalid value encountered in multiply\n",
      "  xx = (xx * 255).astype(np.uint8)\n"
     ]
    },
    {
     "data": {
      "image/png": "[encoded data removed]",
      "text/plain": [
       "<Figure size 432x288 with 1 Axes>"
      ]
     },
     "metadata": {},
     "output_type": "display_data"
    },
    {
     "data": {
      "image/png": "[encoded data removed]",
      "text/plain": [
       "<Figure size 432x288 with 1 Axes>"
      ]
     },
     "metadata": {},
     "output_type": "display_data"
    }
   ],
   "source": []
  },
  {
   "cell_type": "markdown",
   "metadata": {},
   "source": [
    "#### Balancedness\n",
    "Check whether our dataset is balanced"
   ]
  },
  {
   "cell_type": "code",
   "execution_count": 10,
   "metadata": {},
   "outputs": [
    {
     "data": {
      "text/html": [
       "<div>\n",
       "<style scoped>\n",
       "    .dataframe tbody tr th:only-of-type {\n",
       "        vertical-align: middle;\n",
       "    }\n",
       "\n",
       "    .dataframe tbody tr th {\n",
       "        vertical-align: top;\n",
       "    }\n",
       "\n",
       "    .dataframe thead th {\n",
       "        text-align: right;\n",
       "    }\n",
       "</style>\n",
       "<table border=\"1\" class=\"dataframe\">\n",
       "  <thead>\n",
       "    <tr style=\"text-align: right;\">\n",
       "      <th></th>\n",
       "      <th>counts</th>\n",
       "      <th>freqs</th>\n",
       "    </tr>\n",
       "    <tr>\n",
       "      <th>categories</th>\n",
       "      <th></th>\n",
       "      <th></th>\n",
       "    </tr>\n",
       "  </thead>\n",
       "  <tbody>\n",
       "    <tr>\n",
       "      <th>0</th>\n",
       "      <td>2866</td>\n",
       "      <td>0.351053</td>\n",
       "    </tr>\n",
       "    <tr>\n",
       "      <th>1</th>\n",
       "      <td>503</td>\n",
       "      <td>0.061612</td>\n",
       "    </tr>\n",
       "    <tr>\n",
       "      <th>2</th>\n",
       "      <td>4795</td>\n",
       "      <td>0.587335</td>\n",
       "    </tr>\n",
       "  </tbody>\n",
       "</table>\n",
       "</div>"
      ],
      "text/plain": [
       "            counts     freqs\n",
       "categories                  \n",
       "0             2866  0.351053\n",
       "1              503  0.061612\n",
       "2             4795  0.587335"
      ]
     },
     "execution_count": 10,
     "metadata": {},
     "output_type": "execute_result"
    }
   ],
   "source": [
    "pd.Categorical(y).describe()"
   ]
  },
  {
   "cell_type": "code",
   "execution_count": 23,
   "metadata": {},
   "outputs": [
    {
     "data": {
      "text/plain": [
       "4774"
      ]
     },
     "execution_count": 23,
     "metadata": {},
     "output_type": "execute_result"
    }
   ],
   "source": []
  },
  {
   "cell_type": "code",
   "execution_count": 155,
   "metadata": {},
   "outputs": [],
   "source": [
    "import cv2\n",
    "    \n",
    "\n",
    "def add_gaussian_noise(X_imgs):\n",
    "    gaussian_noise_imgs = []\n",
    "    row, col, _ = X_imgs[0].shape\n",
    "    # Gaussian distribution parameters\n",
    "    mean = 0\n",
    "    var = 0.1\n",
    "    sigma = var ** 0.5\n",
    "    \n",
    "    for X_img in X_imgs:\n",
    "        gaussian = np.random.random((row, col, 1)).astype(np.float32)\n",
    "        gaussian = np.concatenate((gaussian, gaussian, gaussian), axis=2)\n",
    "        gaussian_img = cv2.addWeighted(X_img, 0.75, 0.25 * gaussian, 0.25, 0)\n",
    "        gaussian_noise_imgs.append(gaussian_img)\n",
    "    gaussian_noise_imgs = np.array(gaussian_noise_imgs, dtype=np.float32)\n",
    "    return gaussian_noise_imgs"
   ]
  },
  {
   "cell_type": "code",
   "execution_count": 217,
   "metadata": {},
   "outputs": [],
   "source": [
    "def translate_imgs(X_imgs):\n",
    "    translated_imgs = []\n",
    "    rows, cols, _ = X_imgs[0].shape\n",
    "\n",
    "    for X_img in X_imgs:\n",
    "        M = np.float32([[1, 0, np.random.randint(-5,5)], [0, 1, np.random.randint(-5,5)]])\n",
    "        translated_imgs.append(cv2.warpAffine(X_img, M, (cols, rows)))\n",
    "    translated_imgs = np.array(translated_imgs, dtype=np.float32)\n",
    "    return translated_imgs\n",
    "\n",
    "def rotate_imgs(X_imgs):\n",
    "    rotated_imgs = []\n",
    "    rows, cols, _ = X_imgs[0].shape\n",
    "\n",
    "    for X_img in X_imgs:\n",
    "        M = cv2.getRotationMatrix2D((cols/2,rows/2), np.random.randint(-15, 15), 1)\n",
    "        rotated_imgs.append(cv2.warpAffine(X_img, M, (cols, rows)))\n",
    "    rotated_imgs = np.array(rotated_imgs, dtype=np.float32)\n",
    "    return rotated_imgs\n",
    "\n",
    "def flip_imgs(X_imgs):\n",
    "    flipped_imgs = []\n",
    "    \n",
    "    for X_img in X_imgs:\n",
    "        flipped_imgs.append(cv2.flip(X_img , -1 ))\n",
    "    flipped_imgs = np.array(flipped_imgs, dtype=np.float32)\n",
    "    return flipped_imgs\n",
    "        "
   ]
  },
  {
   "cell_type": "code",
   "execution_count": 218,
   "metadata": {},
   "outputs": [],
   "source": [
    "def augment_imgs(X_imgs):\n",
    "    np.random.seed(seed=42)\n",
    "    col_mod = add_gaussian_noise(X_imgs)\n",
    "    col_mod = translate_imgs(col_mod)\n",
    "    col_mod = flip_imgs(col_mod)\n",
    "    return col_mod\n",
    "\n",
    "def balance_data(X_imgs, label, target_amount=5000):\n",
    "    np.random.seed(seed=42)\n",
    "    x_bal = []\n",
    "    y_bal = []\n",
    "    for col in [RED, GREEN, YELLOW]:\n",
    "        aug_idx = np.random.choice(np.where(label==col)[0], target_amount, replace=True)\n",
    "        x_bal.append(X_imgs[aug_idx])\n",
    "        y_bal.append(label[aug_idx])\n",
    "\n",
    "    x_bal = np.concatenate(x_bal)\n",
    "    y_bal = np.concatenate(y_bal)\n",
    "    \n",
    "    return x_bal, y_bal"
   ]
  },
  {
   "cell_type": "code",
   "execution_count": 245,
   "metadata": {},
   "outputs": [
    {
     "data": {
      "text/plain": [
       "2"
      ]
     },
     "execution_count": 245,
     "metadata": {},
     "output_type": "execute_result"
    },
    {
     "data": {
      "image/png": "[encoded data removed]",
      "text/plain": [
       "<Figure size 432x288 with 1 Axes>"
      ]
     },
     "metadata": {},
     "output_type": "display_data"
    }
   ],
   "source": [
    "idx =0\n",
    "plt.imshow(hsv_to_rgb(X_test[idx]))\n",
    "y_test[idx]"
   ]
  },
  {
   "cell_type": "code",
   "execution_count": 259,
   "metadata": {},
   "outputs": [
    {
     "data": {
      "text/html": [
       "<div>\n",
       "<style scoped>\n",
       "    .dataframe tbody tr th:only-of-type {\n",
       "        vertical-align: middle;\n",
       "    }\n",
       "\n",
       "    .dataframe tbody tr th {\n",
       "        vertical-align: top;\n",
       "    }\n",
       "\n",
       "    .dataframe thead th {\n",
       "        text-align: right;\n",
       "    }\n",
       "</style>\n",
       "<table border=\"1\" class=\"dataframe\">\n",
       "  <thead>\n",
       "    <tr style=\"text-align: right;\">\n",
       "      <th></th>\n",
       "      <th>counts</th>\n",
       "      <th>freqs</th>\n",
       "    </tr>\n",
       "    <tr>\n",
       "      <th>categories</th>\n",
       "      <th></th>\n",
       "      <th></th>\n",
       "    </tr>\n",
       "  </thead>\n",
       "  <tbody>\n",
       "    <tr>\n",
       "      <th>0</th>\n",
       "      <td>1494</td>\n",
       "      <td>0.313536</td>\n",
       "    </tr>\n",
       "    <tr>\n",
       "      <th>1</th>\n",
       "      <td>312</td>\n",
       "      <td>0.065477</td>\n",
       "    </tr>\n",
       "    <tr>\n",
       "      <th>2</th>\n",
       "      <td>2959</td>\n",
       "      <td>0.620986</td>\n",
       "    </tr>\n",
       "  </tbody>\n",
       "</table>\n",
       "</div>"
      ],
      "text/plain": [
       "            counts     freqs\n",
       "categories                  \n",
       "0             1494  0.313536\n",
       "1              312  0.065477\n",
       "2             2959  0.620986"
      ]
     },
     "execution_count": 259,
     "metadata": {},
     "output_type": "execute_result"
    }
   ],
   "source": [
    "pd.Categorical(y).describe()"
   ]
  },
  {
   "cell_type": "code",
   "execution_count": 262,
   "metadata": {},
   "outputs": [
    {
     "name": "stdout",
     "output_type": "stream",
     "text": [
      "col 2\n"
     ]
    },
    {
     "data": {
      "text/plain": [
       "'518406.png0.jpg'"
      ]
     },
     "execution_count": 262,
     "metadata": {},
     "output_type": "execute_result"
    },
    {
     "data": {
      "image/png": "[encoded data removed]",
      "text/plain": [
       "<Figure size 432x288 with 1 Axes>"
      ]
     },
     "metadata": {},
     "output_type": "display_data"
    }
   ],
   "source": [
    "idx = 1497\n",
    "plt.imshow(hsv_to_rgb(x[idx]))\n",
    "print('col {}'.format(y[idx]))\n",
    "p[idx]"
   ]
  },
  {
   "cell_type": "code",
   "execution_count": 18,
   "metadata": {},
   "outputs": [
    {
     "data": {
      "text/plain": [
       "(76, 40, 3)"
      ]
     },
     "execution_count": 18,
     "metadata": {},
     "output_type": "execute_result"
    }
   ],
   "source": [
    "x_train.shape[1:]"
   ]
  },
  {
   "cell_type": "code",
   "execution_count": 16,
   "metadata": {},
   "outputs": [],
   "source": [
    "batch_size = 1000\n",
    "epochs = 25"
   ]
  },
  {
   "cell_type": "code",
   "execution_count": 40,
   "metadata": {},
   "outputs": [
    {
     "name": "stdout",
     "output_type": "stream",
     "text": [
      "Train on 7246 samples, validate on 7246 samples\n",
      "Epoch 1/25\n",
      "7246/7246 [==============================] - 5s 684us/step - loss: 1.1979 - acc: 0.4510 - val_loss: 0.7744 - val_acc: 0.7755\n",
      "Epoch 2/25\n",
      "7246/7246 [==============================] - 4s 616us/step - loss: 0.7130 - acc: 0.7219 - val_loss: 0.6096 - val_acc: 0.7804\n",
      "Epoch 3/25\n",
      "7246/7246 [==============================] - 4s 616us/step - loss: 0.6191 - acc: 0.7773 - val_loss: 0.5728 - val_acc: 0.7875\n",
      "Epoch 4/25\n",
      "7246/7246 [==============================] - 4s 617us/step - loss: 0.5993 - acc: 0.7811 - val_loss: 0.5893 - val_acc: 0.7833\n",
      "Epoch 5/25\n",
      "7246/7246 [==============================] - 4s 616us/step - loss: 0.6021 - acc: 0.7815 - val_loss: 0.5696 - val_acc: 0.7872\n",
      "Epoch 6/25\n",
      "7246/7246 [==============================] - 4s 616us/step - loss: 0.5863 - acc: 0.7876 - val_loss: 0.5591 - val_acc: 0.7890\n",
      "Epoch 7/25\n",
      "7246/7246 [==============================] - 4s 617us/step - loss: 0.5933 - acc: 0.7861 - val_loss: 0.5569 - val_acc: 0.7893\n",
      "Epoch 8/25\n",
      "7246/7246 [==============================] - 4s 618us/step - loss: 0.5788 - acc: 0.7898 - val_loss: 0.5551 - val_acc: 0.7955\n",
      "Epoch 9/25\n",
      "7246/7246 [==============================] - 4s 617us/step - loss: 0.5825 - acc: 0.7879 - val_loss: 0.5460 - val_acc: 0.7931\n",
      "Epoch 10/25\n",
      "7246/7246 [==============================] - 4s 618us/step - loss: 0.5733 - acc: 0.7951 - val_loss: 0.5454 - val_acc: 0.7959\n",
      "Epoch 11/25\n",
      "7246/7246 [==============================] - 4s 618us/step - loss: 0.5724 - acc: 0.7942 - val_loss: 0.5624 - val_acc: 0.7909\n",
      "Epoch 12/25\n",
      "7246/7246 [==============================] - 4s 619us/step - loss: 0.5704 - acc: 0.7953 - val_loss: 0.5424 - val_acc: 0.7988\n",
      "Epoch 13/25\n",
      "7246/7246 [==============================] - 4s 619us/step - loss: 0.5651 - acc: 0.7993 - val_loss: 0.5541 - val_acc: 0.7967\n",
      "Epoch 14/25\n",
      "7246/7246 [==============================] - 4s 619us/step - loss: 0.5690 - acc: 0.7953 - val_loss: 0.5511 - val_acc: 0.7970\n",
      "Epoch 15/25\n",
      "7246/7246 [==============================] - 4s 619us/step - loss: 0.5651 - acc: 0.7967 - val_loss: 0.5706 - val_acc: 0.7857\n",
      "Epoch 16/25\n",
      "7246/7246 [==============================] - 4s 620us/step - loss: 0.5610 - acc: 0.8011 - val_loss: 0.5263 - val_acc: 0.8078\n",
      "Epoch 17/25\n",
      "7246/7246 [==============================] - 4s 621us/step - loss: 0.5474 - acc: 0.8022 - val_loss: 0.5521 - val_acc: 0.7940\n",
      "Epoch 18/25\n",
      "7246/7246 [==============================] - 4s 619us/step - loss: 0.5536 - acc: 0.7963 - val_loss: 0.5283 - val_acc: 0.8093\n",
      "Epoch 19/25\n",
      "7246/7246 [==============================] - 4s 619us/step - loss: 0.5476 - acc: 0.8014 - val_loss: 0.5201 - val_acc: 0.8084\n",
      "Epoch 20/25\n",
      "7246/7246 [==============================] - 4s 620us/step - loss: 0.5648 - acc: 0.8011 - val_loss: 0.5304 - val_acc: 0.8050\n",
      "Epoch 21/25\n",
      "7246/7246 [==============================] - 5s 621us/step - loss: 0.5564 - acc: 0.8024 - val_loss: 0.5295 - val_acc: 0.8118\n",
      "Epoch 22/25\n",
      "7246/7246 [==============================] - 4s 620us/step - loss: 0.5405 - acc: 0.8062 - val_loss: 0.5171 - val_acc: 0.8073\n",
      "Epoch 23/25\n",
      "7246/7246 [==============================] - 4s 620us/step - loss: 0.5458 - acc: 0.8015 - val_loss: 0.5632 - val_acc: 0.8038\n",
      "Epoch 24/25\n",
      "7246/7246 [==============================] - 4s 620us/step - loss: 0.5373 - acc: 0.8083 - val_loss: 0.5251 - val_acc: 0.8061\n",
      "Epoch 25/25\n",
      "7246/7246 [==============================] - 4s 620us/step - loss: 0.5341 - acc: 0.8069 - val_loss: 0.5020 - val_acc: 0.8130\n",
      "Test loss: 0.50201258410448\n",
      "Test accuracy: 0.8130002760308045\n"
     ]
    }
   ],
   "source": [
    "if K.image_data_format() == 'channels_first':\n",
    "    x_train = x_train.reshape(x_train.shape[0], 3, img_width, img_height)\n",
    "    x_validation = x_validation.reshape(x_validation.shape[0], 3, img_width, img_height)\n",
    "    input_shape = (3, img_width, img_heigth)\n",
    "else:\n",
    "    x_train = x_train.reshape(x_train.shape[0], img_width, img_height, 3)\n",
    "    x_validation = x_validation.reshape(x_validation.shape[0], img_width, img_height, 3)\n",
    "    input_shape = (img_width, img_height, 3)\n",
    "\n",
    "model = Sequential()\n",
    "model.add(Conv2D(32, kernel_size=(3, 3),\n",
    "                 activation='relu',\n",
    "                 input_shape=input_shape))\n",
    "model.add(Conv2D(64, (3, 3), activation='relu'))\n",
    "model.add(MaxPooling2D(pool_size=(2, 2)))\n",
    "model.add(Dropout(0.25))\n",
    "model.add(Flatten())\n",
    "model.add(Dense(128, activation='relu'))\n",
    "model.add(Dropout(0.5))\n",
    "model.add(Dense(NUM_CLASSES, activation='softmax'))\n",
    "\n",
    "model.compile(loss=keras.losses.categorical_crossentropy,\n",
    "              optimizer=keras.optimizers.Adadelta(),\n",
    "              metrics=['accuracy'])\n",
    "\n",
    "model.fit(x_train, y_train,\n",
    "          batch_size=batch_size,\n",
    "          epochs=epochs,\n",
    "          verbose=1,\n",
    "          validation_data=(x_validation, y_validation))\n",
    "score = model.evaluate(x_validation, y_validation, verbose=0)\n",
    "print('Test loss:', score[0])\n",
    "print('Test accuracy:', score[1])\n",
    "model.save_weights('first_try.h5')"
   ]
  },
  {
   "cell_type": "code",
   "execution_count": 100,
   "metadata": {},
   "outputs": [],
   "source": []
  },
  {
   "cell_type": "code",
   "execution_count": 29,
   "metadata": {},
   "outputs": [
    {
     "data": {
      "text/plain": [
       "(15000, 76, 40, 3)"
      ]
     },
     "execution_count": 29,
     "metadata": {},
     "output_type": "execute_result"
    }
   ],
   "source": []
  },
  {
   "cell_type": "code",
   "execution_count": 271,
   "metadata": {},
   "outputs": [],
   "source": [
    "from sklearn.model_selection import train_test_split\n",
    "X_train, X_test, y_train, y_test = train_test_split(x, y, test_size=0.2, random_state=42, stratify=y)\n",
    "\n",
    "X_train, y_train = balance_data(X_train, y_train)\n",
    "X_test, y_test = balance_data(X_test, y_test, target_amount=200)\n",
    "#normalize_img(X_train);\n",
    "X_train = augment_imgs(X_train)"
   ]
  },
  {
   "cell_type": "code",
   "execution_count": 272,
   "metadata": {},
   "outputs": [
    {
     "data": {
      "text/plain": [
       "(600, 38, 20, 3)"
      ]
     },
     "execution_count": 272,
     "metadata": {},
     "output_type": "execute_result"
    }
   ],
   "source": [
    "X_test.shape"
   ]
  },
  {
   "cell_type": "code",
   "execution_count": 275,
   "metadata": {},
   "outputs": [
    {
     "data": {
      "text/plain": [
       "array([0, 0, 0, 0, 0, 0, 0, 0, 0, 0, 0, 0, 0, 0, 0, 0, 0, 0, 0, 0, 0, 0,\n",
       "       0, 0, 0, 0, 0, 0, 0, 0, 0, 0, 0, 0, 0, 0, 0, 0, 0, 0, 0, 0, 0, 0,\n",
       "       0, 0, 0, 0, 0, 0, 0, 0, 0, 0, 0, 0, 0, 0, 0, 0, 0, 0, 0, 0, 0, 0,\n",
       "       0, 0, 0, 0, 0, 0, 0, 0, 0, 0, 0, 0, 0, 0, 0, 0, 0, 0, 0, 0, 0, 0,\n",
       "       0, 0, 0, 0, 0, 0, 0, 0, 0, 0, 0, 0, 0, 0, 0, 0, 0, 0, 0, 0, 0, 0,\n",
       "       0, 0, 0, 0, 0, 0, 0, 0, 0, 0, 0, 0, 0, 0, 0, 0, 0, 0, 0, 0, 0, 0,\n",
       "       0, 0, 0, 0, 0, 0, 0, 0, 0, 0, 0, 0, 0, 0, 0, 0, 0, 0, 0, 0, 0, 0,\n",
       "       0, 0, 0, 0, 0, 0, 0, 0, 0, 0, 0, 0, 0, 0, 0, 0, 0, 0, 0, 0, 0, 0,\n",
       "       0, 0, 0, 0, 0, 0, 0, 0, 0, 0, 0, 0, 0, 0, 0, 0, 0, 0, 0, 0, 0, 0,\n",
       "       0, 0, 2, 2, 2, 2, 2, 2, 2, 2, 2, 2, 2, 2, 2, 2, 2, 2, 2, 2, 2, 2,\n",
       "       2, 2, 2, 2, 2, 2, 2, 2, 2, 2, 2, 2, 2, 2, 2, 2, 2, 2, 2, 2, 2, 2,\n",
       "       2, 2, 2, 2, 2, 2, 2, 2, 2, 2, 2, 2, 2, 2, 2, 2, 2, 2, 2, 2, 2, 2,\n",
       "       2, 2, 2, 2, 2, 2, 2, 2, 2, 2, 2, 2, 2, 2, 2, 2, 2, 2, 2, 2, 2, 2,\n",
       "       2, 2, 2, 2, 2, 2, 2, 2, 2, 2, 2, 2, 2, 2, 2, 2, 2, 2, 2, 2, 2, 2,\n",
       "       2, 2, 2, 2, 2, 2, 2, 2, 2, 2, 2, 2, 2, 2, 2, 2, 2, 2, 2, 2, 2, 2,\n",
       "       2, 2, 2, 2, 2, 2, 2, 2, 2, 2, 2, 2, 2, 2, 2, 2, 2, 2, 2, 2, 2, 2,\n",
       "       2, 2, 2, 2, 2, 2, 2, 2, 2, 2, 2, 2, 2, 2, 2, 2, 2, 2, 2, 2, 2, 2,\n",
       "       2, 2, 2, 2, 2, 2, 2, 2, 2, 2, 2, 2, 2, 2, 2, 2, 2, 2, 2, 2, 2, 2,\n",
       "       2, 2, 2, 2, 1, 1, 1, 1, 1, 1, 1, 1, 1, 1, 1, 1, 1, 1, 1, 1, 1, 1,\n",
       "       1, 1, 1, 1, 1, 1, 1, 1, 1, 1, 1, 1, 1, 1, 1, 1, 1, 1, 1, 1, 1, 1,\n",
       "       1, 1, 1, 1, 1, 1, 1, 1, 1, 1, 1, 1, 1, 1, 1, 1, 1, 1, 1, 1, 1, 1,\n",
       "       1, 1, 1, 1, 1, 1, 1, 1, 1, 1, 1, 1, 1, 1, 1, 1, 1, 1, 1, 1, 1, 1,\n",
       "       1, 1, 1, 1, 1, 1, 1, 1, 1, 1, 1, 1, 1, 1, 1, 1, 1, 1, 1, 1, 1, 1,\n",
       "       1, 1, 1, 1, 1, 1, 1, 1, 1, 1, 1, 1, 1, 1, 1, 1, 1, 1, 1, 1, 1, 1,\n",
       "       1, 1, 1, 1, 1, 1, 1, 1, 1, 1, 1, 1, 1, 1, 1, 1, 1, 1, 1, 1, 1, 1,\n",
       "       1, 1, 1, 1, 1, 1, 1, 1, 1, 1, 1, 1, 1, 1, 1, 1, 1, 1, 1, 1, 1, 1,\n",
       "       1, 1, 1, 1, 1, 1, 1, 1, 1, 1, 1, 1, 1, 1, 1, 1, 1, 1, 1, 1, 1, 1,\n",
       "       1, 1, 1, 1, 1, 1])"
      ]
     },
     "execution_count": 275,
     "metadata": {},
     "output_type": "execute_result"
    }
   ],
   "source": [
    "y_test"
   ]
  },
  {
   "cell_type": "code",
   "execution_count": 302,
   "metadata": {},
   "outputs": [
    {
     "name": "stdout",
     "output_type": "stream",
     "text": [
      "col 0\n"
     ]
    },
    {
     "data": {
      "image/png": "[encoded data removed]",
      "text/plain": [
       "<Figure size 432x288 with 1 Axes>"
      ]
     },
     "metadata": {},
     "output_type": "display_data"
    }
   ],
   "source": [
    "idx = 50\n",
    "plt.imshow(hsv_to_rgb(X_test[idx]))\n",
    "print('col {}'.format(y_test[idx]))"
   ]
  },
  {
   "cell_type": "code",
   "execution_count": 413,
   "metadata": {},
   "outputs": [],
   "source": [
    "from tensorflow.python.estimator.model_fn import ModeKeys as Modes\n"
   ]
  },
  {
   "cell_type": "code",
   "execution_count": 420,
   "metadata": {},
   "outputs": [],
   "source": [
    "# Training Parameters\n",
    "learning_rate = 0.001\n",
    "batch_size = 128\n",
    "\n",
    "# Network Parameters\n",
    "num_input = x.shape[0] \n",
    "num_classes = 3 \n",
    "\n",
    "\n",
    "def create_new_conv_layer(input_data, num_input_channels, num_filters, filter_shape, name):\n",
    "    # setup the filter input shape for tf.nn.conv_2d\n",
    "    conv_filt_shape = [filter_shape[0], filter_shape[1], num_input_channels, num_filters]\n",
    "\n",
    "    # initialise weights and bias for the filter\n",
    "    weights = tf.Variable(tf.truncated_normal(conv_filt_shape, stddev=0.1), name=name+'_W')\n",
    "    bias = tf.Variable(tf.truncated_normal([num_filters], stddev=0.1), name=name+'_b')\n",
    "\n",
    "    # setup the convolutional layer operation\n",
    "    out_layer = tf.nn.conv2d(input_data, weights, [1, 1, 1, 1], padding='SAME')\n",
    "\n",
    "    # add the bias\n",
    "    out_layer += bias\n",
    "    # apply a ReLU non-linear activation\n",
    "    out_layer = tf.nn.relu(out_layer)\n",
    "\n",
    "    return out_layer\n",
    "\n",
    "\n",
    "def model_fn(features, labels, mode, params):        \n",
    "    x = features['images']\n",
    "    input2d = tf.reshape(x, [-1, img_height, img_width, 3])\n",
    "    input2d = tf.map_fn(lambda img: tf.image.per_image_standardization(img), input2d)\n",
    "\n",
    "    # create some convolutional layers\n",
    "    conv1 = tf.layers.conv2d(\n",
    "        inputs=input2d, \n",
    "        filters=32, \n",
    "        kernel_size=[5, 5], \n",
    "        activation=tf.nn.relu,\n",
    "        padding='same')\n",
    "    conv2 = tf.layers.conv2d(\n",
    "        inputs=conv1, \n",
    "        filters=64, \n",
    "        kernel_size=[5, 5], \n",
    "        activation=tf.nn.relu,\n",
    "        padding='same')\n",
    "    conv3 = tf.layers.conv2d(\n",
    "        inputs=conv2, \n",
    "        filters=128, \n",
    "        kernel_size=[5, 5], \n",
    "        activation=tf.nn.relu,\n",
    "        padding='same')\n",
    "\n",
    "    pool1 = tf.nn.max_pool(conv3, \n",
    "                           ksize=[1, 2, 2, 1], \n",
    "                           strides=[1, 2, 2, 1],\n",
    "                           padding='SAME',\n",
    "                           name='pool1')\n",
    "    conv4 = tf.layers.conv2d(\n",
    "        inputs=pool1, \n",
    "        filters=128, \n",
    "        kernel_size=[5, 5], \n",
    "        activation=tf.nn.relu,\n",
    "        padding='same')\n",
    "    conv5 = tf.layers.conv2d(\n",
    "        inputs=conv4, \n",
    "        filters=128, \n",
    "        kernel_size=[5, 5], \n",
    "        activation=tf.nn.relu,\n",
    "        padding='same')\n",
    "\n",
    "    pool2 = tf.nn.max_pool(conv5, \n",
    "                           ksize=[1, 2, 2, 1], \n",
    "                           strides=[1, 2, 2, 1],\n",
    "                           padding='SAME',\n",
    "                           name='pool2')\n",
    "    # Apply Dropout (if is_training is False, dropout is not applied)\n",
    "#        dp1 = tf.layers.dropout(pool2, rate=0.25, training=is_training)\n",
    "\n",
    "    # Flatten the data to a 1-D vector for the fully connected layer\n",
    "\n",
    "#        pool2_flat = tf.reshape(pool2, [-1, 5 * 10 * 128])\n",
    "    fc1 = tf.contrib.layers.flatten(pool2)\n",
    "\n",
    "\n",
    "\n",
    "    # setup some weights and bias values for this layer, then activate with ReLU\n",
    "    dense1 = tf.contrib.layers.fully_connected(inputs=fc1, num_outputs=1024, activation_fn=tf.nn.relu)\n",
    "    dense2 = tf.contrib.layers.fully_connected(inputs=dense1, num_outputs=128, activation_fn=tf.nn.relu)\n",
    "    logits = tf.contrib.layers.fully_connected(inputs=dense2, num_outputs=3)\n",
    "\n",
    "    # Define operations\n",
    "    if mode in (Modes.PREDICT, Modes.EVAL):\n",
    "        predicted_indices = tf.argmax(input=logits, axis=1)\n",
    "        probabilities = tf.nn.softmax(logits, name='softmax_tensor')\n",
    "        \n",
    "    if mode in (Modes.TRAIN, Modes.EVAL):\n",
    "        global_step = tf.train.get_or_create_global_step()\n",
    "        print(labels)\n",
    "        label_indices = tf.cast(labels, tf.int32)\n",
    "        loss = tf.losses.softmax_cross_entropy(\n",
    "            onehot_labels=tf.one_hot(label_indices, depth=3), logits=logits)\n",
    "        tf.summary.scalar('OptimizeLoss', loss)\n",
    "    \n",
    "    if mode == Modes.PREDICT:\n",
    "        predictions = {\n",
    "            'classes': predicted_indices,\n",
    "            'probabilities': probabilities\n",
    "        }\n",
    "        export_outputs = {\n",
    "            SIGNATURE_NAME: tf.estimator.export.PredictOutput(predictions)\n",
    "        }\n",
    "        return tf.estimator.EstimatorSpec(\n",
    "            mode, predictions=predictions, export_outputs=export_outputs)\n",
    "\n",
    "    if mode == Modes.TRAIN:\n",
    "        optimizer = tf.train.AdamOptimizer(learning_rate=learning_rate)\n",
    "        train_op = optimizer.minimize(loss, global_step=global_step)\n",
    "        return tf.estimator.EstimatorSpec(mode, loss=loss, train_op=train_op)\n",
    "\n",
    "    if mode == Modes.EVAL:\n",
    "        eval_metric_ops = {\n",
    "            'accuracy': tf.metrics.accuracy(label_indices, predicted_indices)\n",
    "        }\n",
    "        return tf.estimator.EstimatorSpec(\n",
    "            mode, loss=loss, eval_metric_ops=eval_metric_ops)"
   ]
  },
  {
   "cell_type": "code",
   "execution_count": 421,
   "metadata": {},
   "outputs": [
    {
     "name": "stdout",
     "output_type": "stream",
     "text": [
      "INFO:tensorflow:Using default config.\n",
      "WARNING:tensorflow:Using temporary folder as model directory: /tmp/tmpyhul1oos\n",
      "INFO:tensorflow:Using config: {'_is_chief': True, '_num_worker_replicas': 1, '_save_summary_steps': 100, '_task_type': 'worker', '_session_config': None, '_num_ps_replicas': 0, '_log_step_count_steps': 100, '_master': '', '_keep_checkpoint_every_n_hours': 10000, '_save_checkpoints_steps': None, '_service': None, '_global_id_in_cluster': 0, '_task_id': 0, '_evaluation_master': '', '_save_checkpoints_secs': 600, '_cluster_spec': <tensorflow.python.training.server_lib.ClusterSpec object at 0x7fd4d9ba5e80>, '_keep_checkpoint_max': 5, '_model_dir': '/tmp/tmpyhul1oos', '_tf_random_seed': None}\n",
      "WARNING:tensorflow:Estimator's model_fn (<function model_fn at 0x7fd5c72f2e18>) includes params argument, but params are not passed to Estimator.\n"
     ]
    }
   ],
   "source": [
    "# Build the Estimator\n",
    "model = tf.estimator.Estimator(model_fn)"
   ]
  },
  {
   "cell_type": "code",
   "execution_count": 424,
   "metadata": {},
   "outputs": [
    {
     "name": "stdout",
     "output_type": "stream",
     "text": [
      "INFO:tensorflow:Calling model_fn.\n",
      "Tensor(\"random_shuffle_queue_DequeueUpTo:2\", shape=(?,), dtype=int64, device=/device:CPU:0)\n",
      "INFO:tensorflow:Done calling model_fn.\n",
      "INFO:tensorflow:Create CheckpointSaverHook.\n",
      "INFO:tensorflow:Graph was finalized.\n",
      "INFO:tensorflow:Restoring parameters from /tmp/tmpyhul1oos/model.ckpt-1\n",
      "INFO:tensorflow:Running local_init_op.\n",
      "INFO:tensorflow:Done running local_init_op.\n",
      "INFO:tensorflow:Saving checkpoints for 2 into /tmp/tmpyhul1oos/model.ckpt.\n",
      "INFO:tensorflow:loss = 1.349135, step = 2\n",
      "INFO:tensorflow:global_step/sec: 33.4614\n",
      "INFO:tensorflow:loss = 1.0986123, step = 102 (2.991 sec)\n",
      "INFO:tensorflow:global_step/sec: 34.4705\n",
      "INFO:tensorflow:loss = 1.0986123, step = 202 (2.899 sec)\n",
      "INFO:tensorflow:global_step/sec: 34.4137\n",
      "INFO:tensorflow:loss = 1.0986123, step = 302 (2.906 sec)\n",
      "INFO:tensorflow:global_step/sec: 34.3107\n",
      "INFO:tensorflow:loss = 1.0986123, step = 402 (2.915 sec)\n",
      "INFO:tensorflow:global_step/sec: 34.0421\n",
      "INFO:tensorflow:loss = 1.0986123, step = 502 (2.937 sec)\n",
      "INFO:tensorflow:global_step/sec: 34.4099\n",
      "INFO:tensorflow:loss = 1.0986123, step = 602 (2.906 sec)\n",
      "INFO:tensorflow:global_step/sec: 34.4122\n",
      "INFO:tensorflow:loss = 1.0986123, step = 702 (2.906 sec)\n",
      "INFO:tensorflow:global_step/sec: 34.4021\n",
      "INFO:tensorflow:loss = 1.0986123, step = 802 (2.907 sec)\n",
      "INFO:tensorflow:global_step/sec: 34.4733\n",
      "INFO:tensorflow:loss = 1.0986123, step = 902 (2.900 sec)\n",
      "INFO:tensorflow:global_step/sec: 34.5138\n",
      "INFO:tensorflow:loss = 1.0986123, step = 1002 (2.898 sec)\n",
      "INFO:tensorflow:global_step/sec: 34.4384\n",
      "INFO:tensorflow:loss = 1.0986123, step = 1102 (2.904 sec)\n",
      "INFO:tensorflow:Saving checkpoints for 1173 into /tmp/tmpyhul1oos/model.ckpt.\n",
      "INFO:tensorflow:Loss for final step: 1.0986123.\n",
      "INFO:tensorflow:Calling model_fn.\n",
      "Tensor(\"fifo_queue_DequeueUpTo:2\", shape=(?,), dtype=int64, device=/device:CPU:0)\n",
      "INFO:tensorflow:Done calling model_fn.\n",
      "INFO:tensorflow:Starting evaluation at 2018-04-08-23:09:01\n",
      "INFO:tensorflow:Graph was finalized.\n",
      "INFO:tensorflow:Restoring parameters from /tmp/tmpyhul1oos/model.ckpt-1173\n",
      "INFO:tensorflow:Running local_init_op.\n",
      "INFO:tensorflow:Done running local_init_op.\n",
      "INFO:tensorflow:Finished evaluation at 2018-04-08-23:09:02\n",
      "INFO:tensorflow:Saving dict for global step 1173: accuracy = 0.33333334, global_step = 1173, loss = 1.0986123\n"
     ]
    },
    {
     "data": {
      "text/plain": [
       "{'accuracy': 0.33333334, 'global_step': 1173, 'loss': 1.0986123}"
      ]
     },
     "execution_count": 424,
     "metadata": {},
     "output_type": "execute_result"
    }
   ],
   "source": [
    "np.random.seed(seed=42)\n",
    "tf.set_random_seed(seed=42)\n",
    "\n",
    "# Define the input function for training\n",
    "input_fn = tf.estimator.inputs.numpy_input_fn(\n",
    "    {'images': X_train}, y=y_train,\n",
    "    batch_size=batch_size, num_epochs=10, shuffle=True)\n",
    "# Train the Model\n",
    "model.train(input_fn)\n",
    "\n",
    "# Define the test inputs\n",
    "test_input_fn = tf.estimator.inputs.numpy_input_fn(\n",
    "      x={'images': X_test}, y=y_test,\n",
    "      num_epochs=1,\n",
    "      shuffle=False)\n",
    "# Test the Model\n",
    "model.evaluate(test_input_fn)"
   ]
  },
  {
   "cell_type": "code",
   "execution_count": 423,
   "metadata": {},
   "outputs": [
    {
     "name": "stdout",
     "output_type": "stream",
     "text": [
      "INFO:tensorflow:Calling model_fn.\n"
     ]
    },
    {
     "ename": "NameError",
     "evalue": "name 'SIGNATURE_NAME' is not defined",
     "output_type": "error",
     "traceback": [
      "\u001b[0;31m---------------------------------------------------------------------------\u001b[0m",
      "\u001b[0;31mNameError\u001b[0m                                 Traceback (most recent call last)",
      "\u001b[0;32m<ipython-input-423-0492846ee09a>\u001b[0m in \u001b[0;36m<module>\u001b[0;34m()\u001b[0m\n\u001b[1;32m      7\u001b[0m     \u001b[0;32mreturn\u001b[0m \u001b[0mtf\u001b[0m\u001b[0;34m.\u001b[0m\u001b[0mestimator\u001b[0m\u001b[0;34m.\u001b[0m\u001b[0mexport\u001b[0m\u001b[0;34m.\u001b[0m\u001b[0mServingInputReceiver\u001b[0m\u001b[0;34m(\u001b[0m\u001b[0minputs\u001b[0m\u001b[0;34m,\u001b[0m \u001b[0minputs\u001b[0m\u001b[0;34m)\u001b[0m\u001b[0;34m\u001b[0m\u001b[0m\n\u001b[1;32m      8\u001b[0m \u001b[0;34m\u001b[0m\u001b[0m\n\u001b[0;32m----> 9\u001b[0;31m \u001b[0mexport_dir\u001b[0m \u001b[0;34m=\u001b[0m \u001b[0mmodel\u001b[0m\u001b[0;34m.\u001b[0m\u001b[0mexport_savedmodel\u001b[0m\u001b[0;34m(\u001b[0m\u001b[0mexport_dir_base\u001b[0m\u001b[0;34m=\u001b[0m\u001b[0;34m'.'\u001b[0m\u001b[0;34m,\u001b[0m \u001b[0mserving_input_receiver_fn\u001b[0m\u001b[0;34m=\u001b[0m\u001b[0mserving_input_receiver_fn\u001b[0m\u001b[0;34m)\u001b[0m\u001b[0;34m\u001b[0m\u001b[0m\n\u001b[0m",
      "\u001b[0;32m/opt/conda/envs/tl-detect/lib/python3.5/site-packages/tensorflow/python/estimator/estimator.py\u001b[0m in \u001b[0;36mexport_savedmodel\u001b[0;34m(self, export_dir_base, serving_input_receiver_fn, assets_extra, as_text, checkpoint_path, strip_default_attrs)\u001b[0m\n\u001b[1;32m    590\u001b[0m           \u001b[0mlabels\u001b[0m\u001b[0;34m=\u001b[0m\u001b[0;32mNone\u001b[0m\u001b[0;34m,\u001b[0m\u001b[0;34m\u001b[0m\u001b[0m\n\u001b[1;32m    591\u001b[0m           \u001b[0mmode\u001b[0m\u001b[0;34m=\u001b[0m\u001b[0mmodel_fn_lib\u001b[0m\u001b[0;34m.\u001b[0m\u001b[0mModeKeys\u001b[0m\u001b[0;34m.\u001b[0m\u001b[0mPREDICT\u001b[0m\u001b[0;34m,\u001b[0m\u001b[0;34m\u001b[0m\u001b[0m\n\u001b[0;32m--> 592\u001b[0;31m           config=self.config)\n\u001b[0m\u001b[1;32m    593\u001b[0m \u001b[0;34m\u001b[0m\u001b[0m\n\u001b[1;32m    594\u001b[0m       \u001b[0;31m# Build the SignatureDefs from receivers and all outputs\u001b[0m\u001b[0;34m\u001b[0m\u001b[0;34m\u001b[0m\u001b[0m\n",
      "\u001b[0;32m/opt/conda/envs/tl-detect/lib/python3.5/site-packages/tensorflow/python/estimator/estimator.py\u001b[0m in \u001b[0;36m_call_model_fn\u001b[0;34m(self, features, labels, mode, config)\u001b[0m\n\u001b[1;32m    791\u001b[0m \u001b[0;34m\u001b[0m\u001b[0m\n\u001b[1;32m    792\u001b[0m     \u001b[0mlogging\u001b[0m\u001b[0;34m.\u001b[0m\u001b[0minfo\u001b[0m\u001b[0;34m(\u001b[0m\u001b[0;34m'Calling model_fn.'\u001b[0m\u001b[0;34m)\u001b[0m\u001b[0;34m\u001b[0m\u001b[0m\n\u001b[0;32m--> 793\u001b[0;31m     \u001b[0mmodel_fn_results\u001b[0m \u001b[0;34m=\u001b[0m \u001b[0mself\u001b[0m\u001b[0;34m.\u001b[0m\u001b[0m_model_fn\u001b[0m\u001b[0;34m(\u001b[0m\u001b[0mfeatures\u001b[0m\u001b[0;34m=\u001b[0m\u001b[0mfeatures\u001b[0m\u001b[0;34m,\u001b[0m \u001b[0;34m**\u001b[0m\u001b[0mkwargs\u001b[0m\u001b[0;34m)\u001b[0m\u001b[0;34m\u001b[0m\u001b[0m\n\u001b[0m\u001b[1;32m    794\u001b[0m     \u001b[0mlogging\u001b[0m\u001b[0;34m.\u001b[0m\u001b[0minfo\u001b[0m\u001b[0;34m(\u001b[0m\u001b[0;34m'Done calling model_fn.'\u001b[0m\u001b[0;34m)\u001b[0m\u001b[0;34m\u001b[0m\u001b[0m\n\u001b[1;32m    795\u001b[0m \u001b[0;34m\u001b[0m\u001b[0m\n",
      "\u001b[0;32m<ipython-input-420-be3f4c039057>\u001b[0m in \u001b[0;36mmodel_fn\u001b[0;34m(features, labels, mode, params)\u001b[0m\n\u001b[1;32m    109\u001b[0m         }\n\u001b[1;32m    110\u001b[0m         export_outputs = {\n\u001b[0;32m--> 111\u001b[0;31m             \u001b[0mSIGNATURE_NAME\u001b[0m\u001b[0;34m:\u001b[0m \u001b[0mtf\u001b[0m\u001b[0;34m.\u001b[0m\u001b[0mestimator\u001b[0m\u001b[0;34m.\u001b[0m\u001b[0mexport\u001b[0m\u001b[0;34m.\u001b[0m\u001b[0mPredictOutput\u001b[0m\u001b[0;34m(\u001b[0m\u001b[0mpredictions\u001b[0m\u001b[0;34m)\u001b[0m\u001b[0;34m\u001b[0m\u001b[0m\n\u001b[0m\u001b[1;32m    112\u001b[0m         }\n\u001b[1;32m    113\u001b[0m         return tf.estimator.EstimatorSpec(\n",
      "\u001b[0;31mNameError\u001b[0m: name 'SIGNATURE_NAME' is not defined"
     ]
    }
   ],
   "source": [
    "def serving_input_receiver_fn():\n",
    "    \"\"\"Build the serving inputs.\"\"\"\n",
    "    # The outer dimension (None) allows us to batch up inputs for\n",
    "    # efficiency. However, it also means that if we want a prediction\n",
    "    # for a single instance, we'll need to wrap it in an outer list.\n",
    "    inputs = {'images': tf.placeholder(shape=[None, img_height, img_width, 3], dtype=tf.float32)}\n",
    "    return tf.estimator.export.ServingInputReceiver(inputs, inputs)\n",
    "\n",
    "export_dir = model.export_savedmodel(export_dir_base='.', serving_input_receiver_fn=serving_input_receiver_fn)"
   ]
  },
  {
   "cell_type": "code",
   "execution_count": null,
   "metadata": {},
   "outputs": [],
   "source": []
  }
 ],
 "metadata": {
  "kernelspec": {
   "display_name": "Python 3",
   "language": "python",
   "name": "python3"
  },
  "language_info": {
   "codemirror_mode": {
    "name": "ipython",
    "version": 3
   },
   "file_extension": ".py",
   "mimetype": "text/x-python",
   "name": "python",
   "nbconvert_exporter": "python",
   "pygments_lexer": "ipython3",
   "version": "3.5.5"
  }
 },
 "nbformat": 4,
 "nbformat_minor": 2
}
