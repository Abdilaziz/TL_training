{
 "cells": [
  {
   "cell_type": "code",
   "execution_count": 24,
   "metadata": {},
   "outputs": [
    {
     "name": "stdout",
     "output_type": "stream",
     "text": [
      "Solving environment: ...working... done\n",
      "\n",
      "\n",
      "==> WARNING: A newer version of conda exists. <==\n",
      "  current version: 4.4.10\n",
      "  latest version: 4.5.0\n",
      "\n",
      "Please update conda by running\n",
      "\n",
      "    $ conda update -n base conda\n",
      "\n",
      "\n",
      "\n",
      "## Package Plan ##\n",
      "\n",
      "  environment location: /opt/conda/envs/tl-detect\n",
      "\n",
      "  added / updated specs: \n",
      "    - keras\n",
      "    - scikit-learn\n",
      "\n",
      "\n",
      "The following packages will be downloaded:\n",
      "\n",
      "    package                    |            build\n",
      "    ---------------------------|-----------------\n",
      "    h5py-2.7.1                 |           py35_2         3.9 MB  conda-forge\n",
      "    keras-2.1.5                |           py35_0         498 KB  conda-forge\n",
      "    pygpu-0.7.5                |           py35_0         1.4 MB  conda-forge\n",
      "    mako-1.0.7                 |           py35_0         115 KB  conda-forge\n",
      "    scipy-1.0.1                |py35_blas_openblas_200        39.4 MB  conda-forge\n",
      "    markupsafe-1.0             |           py35_0          32 KB  conda-forge\n",
      "    theano-1.0.1               |           py35_1         3.7 MB  conda-forge\n",
      "    libgpuarray-0.7.5          |                0         247 KB  conda-forge\n",
      "    scikit-learn-0.19.1        |py35_blas_openblas_201        12.7 MB  conda-forge\n",
      "    ------------------------------------------------------------\n",
      "                                           Total:        62.0 MB\n",
      "\n",
      "The following NEW packages will be INSTALLED:\n",
      "\n",
      "    h5py:         2.7.1-py35_2                  conda-forge\n",
      "    keras:        2.1.5-py35_0                  conda-forge\n",
      "    libgpuarray:  0.7.5-0                       conda-forge\n",
      "    mako:         1.0.7-py35_0                  conda-forge\n",
      "    markupsafe:   1.0-py35_0                    conda-forge\n",
      "    pygpu:        0.7.5-py35_0                  conda-forge\n",
      "    scikit-learn: 0.19.1-py35_blas_openblas_201 conda-forge [blas_openblas]\n",
      "    scipy:        1.0.1-py35_blas_openblas_200  conda-forge [blas_openblas]\n",
      "    theano:       1.0.1-py35_1                  conda-forge\n",
      "\n",
      "Preparing transaction: ...working... done\n",
      "Verifying transaction: ...working... done\n",
      "Executing transaction: ...working... done\n"
     ]
    }
   ],
   "source": [
    "!bash -c 'source activate tl-detect && conda install -qy -c conda-forge keras scikit-learn'"
   ]
  },
  {
   "cell_type": "code",
   "execution_count": 29,
   "metadata": {},
   "outputs": [
    {
     "name": "stdout",
     "output_type": "stream",
     "text": [
      "{\n",
      "    \"backend\": \"tensorflow\",\n",
      "    \"image_data_format\": \"channels_last\",\n",
      "    \"epsilon\": 1e-07,\n",
      "    \"floatx\": \"float32\"\n",
      "}"
     ]
    }
   ],
   "source": [
    "!cat ~/.keras/keras.json"
   ]
  },
  {
   "cell_type": "code",
   "execution_count": 1,
   "metadata": {},
   "outputs": [],
   "source": [
    "!cp -R ../imgs/training/bosch/Green ../imgs/training/ && cp -R ../imgs/training/bosch/Red ../imgs/training/ && cp -R ../imgs/training/bosch/Yellow ../imgs/training/  && mv ../imgs/training/bosch ../imgs/bosch_tl "
   ]
  },
  {
   "cell_type": "code",
   "execution_count": 2,
   "metadata": {},
   "outputs": [],
   "source": [
    "! cd ../imgs/training && find . -size 0 -exec rm {} \\;"
   ]
  },
  {
   "cell_type": "code",
   "execution_count": 3,
   "metadata": {},
   "outputs": [],
   "source": [
    "import matplotlib.pyplot as plt\n",
    "from matplotlib.colors import hsv_to_rgb\n",
    "# Visualizations will be shown in the notebook.\n",
    "%matplotlib inline"
   ]
  },
  {
   "cell_type": "code",
   "execution_count": 35,
   "metadata": {},
   "outputs": [],
   "source": [
    "from keras.preprocessing.image import ImageDataGenerator\n",
    "from keras.models import Sequential\n",
    "from keras.layers import Conv2D, MaxPooling2D\n",
    "from keras.layers import Activation, Dropout, Flatten, Dense\n",
    "from keras import backend as K\n",
    "import keras\n",
    "\n"
   ]
  },
  {
   "cell_type": "code",
   "execution_count": 4,
   "metadata": {},
   "outputs": [],
   "source": [
    "UNKNOWN = 4\n",
    "GREEN = 2\n",
    "YELLOW = 1\n",
    "RED = 0"
   ]
  },
  {
   "cell_type": "code",
   "execution_count": 5,
   "metadata": {},
   "outputs": [],
   "source": [
    "import cv2\n",
    "import os\n",
    "import numpy as np\n",
    "import logging\n",
    "import pandas as pd\n"
   ]
  },
  {
   "cell_type": "code",
   "execution_count": 6,
   "metadata": {},
   "outputs": [],
   "source": [
    "import tensorflow as tf"
   ]
  },
  {
   "cell_type": "code",
   "execution_count": 7,
   "metadata": {},
   "outputs": [],
   "source": [
    "# dimensions of our images.\n",
    "img_width, img_height = 76, 40\n",
    "\n",
    "\n",
    "def read_img(img_path, dim, colspace = 'BGR'):\n",
    "    if colspace != 'GRAY':\n",
    "        img = cv2.imread(img_path)\n",
    "    if img is None:\n",
    "        raise ValueError('Couldn\\'t read img: ' + img_path)\n",
    "    if colspace == 'HSV':\n",
    "        logging\n",
    "        img = cv2.cvtColor(img, cv2.COLOR_BGR2HSV)\n",
    "        \n",
    "    return cv2.resize(img, dim, interpolation=cv2.INTER_CUBIC)\n",
    "\n",
    "def read_color(path, color, dim, colspace):\n",
    "    x = np.stack([read_img(path + f, dim, colspace) for f in os.listdir(path)], axis=0)\n",
    "    y = np.full(x.shape[0], color)\n",
    "    p = np.stack([f for f in os.listdir(path)])\n",
    "    return (x, y, p)\n",
    "\n",
    "def read_tl_dir(path, dim, colspace, lib='keras'):\n",
    "    x = []\n",
    "    y = []\n",
    "    p = []\n",
    "    for directory, color in zip(['Red/', 'Yellow/', 'Green/'], [RED, YELLOW, GREEN]): \n",
    "        x_img, y_img, f_path = read_color(os.path.join(path, directory), color, dim, colspace)\n",
    "        x.append(x_img)\n",
    "        y.append(y_img)\n",
    "        p.append(f_path)\n",
    "    \n",
    "    x = np.concatenate(x)\n",
    "    y = np.concatenate(y)\n",
    "    p = np.concatenate(p)\n",
    "    x = x.astype('float32')\n",
    "    x /= 255\n",
    "    return x, y, p\n",
    "    \n",
    "\n",
    "def read_train_test_tl(train_path, test_path, dim, colspace, lib='keras'):\n",
    "    x_train, y_train, p_train = read_tl_dir(train_path, dim, colspace, lib)\n",
    "    x_test, y_test, p_test = read_tl_dir(test_path, dim, colspace, lib)\n",
    "\n",
    "    return x_train, y_train, p_train, x_test, y_test, p_test\n",
    "\n",
    "\n",
    "train_data_dir = '../imgs/training/'\n",
    "validation_data_dir = '../imgs/validation/'\n",
    "\n",
    "x_train, y_train, p_train, x_validation, y_validation, p_validation = read_train_test_tl(train_data_dir, \n",
    "                                                                                         validation_data_dir, \n",
    "                                                                                         dim=(img_height, img_width),\n",
    "                                                                                         colspace='HSV', lib='tf')\n",
    "\n",
    "assert x_train.shape != x_validation.shape\n",
    "assert x_train.shape[1:] == x_validation.shape[1:]"
   ]
  },
  {
   "cell_type": "code",
   "execution_count": 8,
   "metadata": {},
   "outputs": [],
   "source": [
    "x = np.concatenate([x_train, x_validation])\n",
    "y = np.concatenate([y_train, y_validation])\n",
    "p = np.concatenate([p_train, p_validation])"
   ]
  },
  {
   "cell_type": "markdown",
   "metadata": {},
   "source": [
    "#### Normalize images"
   ]
  },
  {
   "cell_type": "code",
   "execution_count": 9,
   "metadata": {},
   "outputs": [],
   "source": [
    "def normalize_img(imgs):\n",
    "    img_mean = []\n",
    "    img_std = []\n",
    "    for ch in range(3):\n",
    "        img_mean.append(imgs[..., ch].mean())\n",
    "        img_std.append(imgs[..., ch].std())\n",
    "    \n",
    "    imgs_corr = np.copy(imgs)\n",
    "    for ch in range(3):\n",
    "        imgs_corr[..., ch] = (imgs[..., ch] - img_mean[ch]) / (img_std[ch] + 1e-8)\n",
    "        \n",
    "    return imgs_corr\n",
    "\n",
    "x_norm = normalize_img(x)"
   ]
  },
  {
   "cell_type": "code",
   "execution_count": 141,
   "metadata": {},
   "outputs": [
    {
     "name": "stderr",
     "output_type": "stream",
     "text": [
      "Clipping input data to the valid range for imshow with RGB data ([0..1] for floats or [0..255] for integers).\n"
     ]
    },
    {
     "data": {
      "text/plain": [
       "<matplotlib.image.AxesImage at 0x7fa66f98fc88>"
      ]
     },
     "execution_count": 141,
     "metadata": {},
     "output_type": "execute_result"
    },
    {
     "name": "stderr",
     "output_type": "stream",
     "text": [
      "/opt/conda/envs/tl-detect/lib/python3.5/site-packages/matplotlib/cm.py:259: RuntimeWarning: invalid value encountered in multiply\n",
      "  xx = (xx * 255).astype(np.uint8)\n"
     ]
    },
    {
     "data": {
      "image/png": "[encoded data removed]",
      "text/plain": [
       "<Figure size 432x288 with 1 Axes>"
      ]
     },
     "metadata": {},
     "output_type": "display_data"
    },
    {
     "data": {
      "image/png": "[encoded data removed]",
      "text/plain": [
       "<Figure size 432x288 with 1 Axes>"
      ]
     },
     "metadata": {},
     "output_type": "display_data"
    }
   ],
   "source": []
  },
  {
   "cell_type": "markdown",
   "metadata": {},
   "source": [
    "#### Balancedness\n",
    "Check whether our dataset is balanced"
   ]
  },
  {
   "cell_type": "code",
   "execution_count": 10,
   "metadata": {},
   "outputs": [
    {
     "data": {
      "text/html": [
       "<div>\n",
       "<style scoped>\n",
       "    .dataframe tbody tr th:only-of-type {\n",
       "        vertical-align: middle;\n",
       "    }\n",
       "\n",
       "    .dataframe tbody tr th {\n",
       "        vertical-align: top;\n",
       "    }\n",
       "\n",
       "    .dataframe thead th {\n",
       "        text-align: right;\n",
       "    }\n",
       "</style>\n",
       "<table border=\"1\" class=\"dataframe\">\n",
       "  <thead>\n",
       "    <tr style=\"text-align: right;\">\n",
       "      <th></th>\n",
       "      <th>counts</th>\n",
       "      <th>freqs</th>\n",
       "    </tr>\n",
       "    <tr>\n",
       "      <th>categories</th>\n",
       "      <th></th>\n",
       "      <th></th>\n",
       "    </tr>\n",
       "  </thead>\n",
       "  <tbody>\n",
       "    <tr>\n",
       "      <th>0</th>\n",
       "      <td>2866</td>\n",
       "      <td>0.351053</td>\n",
       "    </tr>\n",
       "    <tr>\n",
       "      <th>1</th>\n",
       "      <td>503</td>\n",
       "      <td>0.061612</td>\n",
       "    </tr>\n",
       "    <tr>\n",
       "      <th>2</th>\n",
       "      <td>4795</td>\n",
       "      <td>0.587335</td>\n",
       "    </tr>\n",
       "  </tbody>\n",
       "</table>\n",
       "</div>"
      ],
      "text/plain": [
       "            counts     freqs\n",
       "categories                  \n",
       "0             2866  0.351053\n",
       "1              503  0.061612\n",
       "2             4795  0.587335"
      ]
     },
     "execution_count": 10,
     "metadata": {},
     "output_type": "execute_result"
    }
   ],
   "source": [
    "pd.Categorical(y).describe()"
   ]
  },
  {
   "cell_type": "code",
   "execution_count": 23,
   "metadata": {},
   "outputs": [
    {
     "data": {
      "text/plain": [
       "4774"
      ]
     },
     "execution_count": 23,
     "metadata": {},
     "output_type": "execute_result"
    }
   ],
   "source": []
  },
  {
   "cell_type": "code",
   "execution_count": 13,
   "metadata": {},
   "outputs": [],
   "source": [
    "import cv2\n",
    "\n",
    "def add_gaussian_noise(X_imgs):\n",
    "    gaussian_noise_imgs = []\n",
    "    row, col, _ = X_imgs[0].shape\n",
    "    # Gaussian distribution parameters\n",
    "    mean = 0\n",
    "    var = 0.1\n",
    "    sigma = var ** 0.5\n",
    "    \n",
    "    for X_img in X_imgs:\n",
    "        gaussian = np.random.random((row, col, 1)).astype(np.float32)\n",
    "        gaussian = np.concatenate((gaussian, gaussian, gaussian), axis=2)\n",
    "        gaussian_img = cv2.addWeighted(X_img, 0.75, 0.25 * gaussian, 0.25, 0)\n",
    "        gaussian_noise_imgs.append(gaussian_img)\n",
    "    gaussian_noise_imgs = np.array(gaussian_noise_imgs, dtype=np.float32)\n",
    "    return gaussian_noise_imgs"
   ]
  },
  {
   "cell_type": "code",
   "execution_count": 14,
   "metadata": {},
   "outputs": [],
   "source": [
    "def translate_imgs(X_imgs):\n",
    "    translated_imgs = []\n",
    "    rows, cols, _ = X_imgs[0].shape\n",
    "\n",
    "    for X_img in X_imgs:\n",
    "        M = np.float32([[1, 0, np.random.randint(-5,5)], [0, 1, np.random.randint(-5,5)]])\n",
    "        translated_imgs.append(cv2.warpAffine(X_img, M, (cols, rows)))\n",
    "    translated_imgs = np.array(translated_imgs, dtype=np.float32)\n",
    "    return translated_imgs\n",
    "\n",
    "def rotate_imgs(X_imgs):\n",
    "    rotated_imgs = []\n",
    "    rows, cols, _ = X_imgs[0].shape\n",
    "\n",
    "    for X_img in X_imgs:\n",
    "        M = cv2.getRotationMatrix2D((cols/2,rows/2), np.random.randint(-15, 15), 1)\n",
    "        rotated_imgs.append(cv2.warpAffine(X_img, M, (cols, rows)))\n",
    "    rotated_imgs = np.array(rotated_imgs, dtype=np.float32)\n",
    "    return rotated_imgs\n",
    "\n"
   ]
  },
  {
   "cell_type": "code",
   "execution_count": 15,
   "metadata": {},
   "outputs": [],
   "source": [
    "def augment_data(X_imgs, label, target_amount=5000):\n",
    "    np.random.seed(seed=42)\n",
    "    x_mod = []\n",
    "    y_mod = []\n",
    "    for col in [RED, GREEN, YELLOW]:\n",
    "        aug_idx = np.random.choice(range(X_imgs[label==col].shape[0]), target_amount)\n",
    "        col_mod = add_gaussian_noise(X_imgs[label==col][aug_idx])\n",
    "        col_mod = translate_imgs(col_mod)\n",
    "        x_mod.append(rotate_imgs(col_mod))\n",
    "        y_mod.append(np.full(target_amount, col))\n",
    "\n",
    "    x_mod = np.concatenate(x_mod)\n",
    "    y_mod = np.concatenate(y_mod)\n",
    "    \n",
    "    return x_mod, y_mod\n",
    "\n",
    "x_mod, y_mod = augment_data(x, y)\n",
    "x_norm_mod, y_norm_mod = augment_data(x_norm, y)"
   ]
  },
  {
   "cell_type": "code",
   "execution_count": 16,
   "metadata": {},
   "outputs": [
    {
     "data": {
      "text/html": [
       "<div>\n",
       "<style scoped>\n",
       "    .dataframe tbody tr th:only-of-type {\n",
       "        vertical-align: middle;\n",
       "    }\n",
       "\n",
       "    .dataframe tbody tr th {\n",
       "        vertical-align: top;\n",
       "    }\n",
       "\n",
       "    .dataframe thead th {\n",
       "        text-align: right;\n",
       "    }\n",
       "</style>\n",
       "<table border=\"1\" class=\"dataframe\">\n",
       "  <thead>\n",
       "    <tr style=\"text-align: right;\">\n",
       "      <th></th>\n",
       "      <th>counts</th>\n",
       "      <th>freqs</th>\n",
       "    </tr>\n",
       "    <tr>\n",
       "      <th>categories</th>\n",
       "      <th></th>\n",
       "      <th></th>\n",
       "    </tr>\n",
       "  </thead>\n",
       "  <tbody>\n",
       "    <tr>\n",
       "      <th>0</th>\n",
       "      <td>5000</td>\n",
       "      <td>0.333333</td>\n",
       "    </tr>\n",
       "    <tr>\n",
       "      <th>1</th>\n",
       "      <td>5000</td>\n",
       "      <td>0.333333</td>\n",
       "    </tr>\n",
       "    <tr>\n",
       "      <th>2</th>\n",
       "      <td>5000</td>\n",
       "      <td>0.333333</td>\n",
       "    </tr>\n",
       "  </tbody>\n",
       "</table>\n",
       "</div>"
      ],
      "text/plain": [
       "            counts     freqs\n",
       "categories                  \n",
       "0             5000  0.333333\n",
       "1             5000  0.333333\n",
       "2             5000  0.333333"
      ]
     },
     "execution_count": 16,
     "metadata": {},
     "output_type": "execute_result"
    }
   ],
   "source": [
    "pd.Categorical(y_mod).describe()"
   ]
  },
  {
   "cell_type": "code",
   "execution_count": 17,
   "metadata": {},
   "outputs": [
    {
     "data": {
      "text/plain": [
       "1"
      ]
     },
     "execution_count": 17,
     "metadata": {},
     "output_type": "execute_result"
    },
    {
     "data": {
      "image/png": "[encoded data removed]",
      "text/plain": [
       "<Figure size 432x288 with 1 Axes>"
      ]
     },
     "metadata": {},
     "output_type": "display_data"
    }
   ],
   "source": [
    "idx =13000\n",
    "plt.imshow(hsv_to_rgb(x_mod[idx]))\n",
    "y_mod[idx]"
   ]
  },
  {
   "cell_type": "code",
   "execution_count": 18,
   "metadata": {},
   "outputs": [
    {
     "data": {
      "text/plain": [
       "(76, 40, 3)"
      ]
     },
     "execution_count": 18,
     "metadata": {},
     "output_type": "execute_result"
    }
   ],
   "source": [
    "x_train.shape[1:]"
   ]
  },
  {
   "cell_type": "code",
   "execution_count": 19,
   "metadata": {},
   "outputs": [],
   "source": [
    "batch_size = 1000\n",
    "epochs = 25"
   ]
  },
  {
   "cell_type": "code",
   "execution_count": 40,
   "metadata": {},
   "outputs": [
    {
     "name": "stdout",
     "output_type": "stream",
     "text": [
      "Train on 7246 samples, validate on 7246 samples\n",
      "Epoch 1/25\n",
      "7246/7246 [==============================] - 5s 684us/step - loss: 1.1979 - acc: 0.4510 - val_loss: 0.7744 - val_acc: 0.7755\n",
      "Epoch 2/25\n",
      "7246/7246 [==============================] - 4s 616us/step - loss: 0.7130 - acc: 0.7219 - val_loss: 0.6096 - val_acc: 0.7804\n",
      "Epoch 3/25\n",
      "7246/7246 [==============================] - 4s 616us/step - loss: 0.6191 - acc: 0.7773 - val_loss: 0.5728 - val_acc: 0.7875\n",
      "Epoch 4/25\n",
      "7246/7246 [==============================] - 4s 617us/step - loss: 0.5993 - acc: 0.7811 - val_loss: 0.5893 - val_acc: 0.7833\n",
      "Epoch 5/25\n",
      "7246/7246 [==============================] - 4s 616us/step - loss: 0.6021 - acc: 0.7815 - val_loss: 0.5696 - val_acc: 0.7872\n",
      "Epoch 6/25\n",
      "7246/7246 [==============================] - 4s 616us/step - loss: 0.5863 - acc: 0.7876 - val_loss: 0.5591 - val_acc: 0.7890\n",
      "Epoch 7/25\n",
      "7246/7246 [==============================] - 4s 617us/step - loss: 0.5933 - acc: 0.7861 - val_loss: 0.5569 - val_acc: 0.7893\n",
      "Epoch 8/25\n",
      "7246/7246 [==============================] - 4s 618us/step - loss: 0.5788 - acc: 0.7898 - val_loss: 0.5551 - val_acc: 0.7955\n",
      "Epoch 9/25\n",
      "7246/7246 [==============================] - 4s 617us/step - loss: 0.5825 - acc: 0.7879 - val_loss: 0.5460 - val_acc: 0.7931\n",
      "Epoch 10/25\n",
      "7246/7246 [==============================] - 4s 618us/step - loss: 0.5733 - acc: 0.7951 - val_loss: 0.5454 - val_acc: 0.7959\n",
      "Epoch 11/25\n",
      "7246/7246 [==============================] - 4s 618us/step - loss: 0.5724 - acc: 0.7942 - val_loss: 0.5624 - val_acc: 0.7909\n",
      "Epoch 12/25\n",
      "7246/7246 [==============================] - 4s 619us/step - loss: 0.5704 - acc: 0.7953 - val_loss: 0.5424 - val_acc: 0.7988\n",
      "Epoch 13/25\n",
      "7246/7246 [==============================] - 4s 619us/step - loss: 0.5651 - acc: 0.7993 - val_loss: 0.5541 - val_acc: 0.7967\n",
      "Epoch 14/25\n",
      "7246/7246 [==============================] - 4s 619us/step - loss: 0.5690 - acc: 0.7953 - val_loss: 0.5511 - val_acc: 0.7970\n",
      "Epoch 15/25\n",
      "7246/7246 [==============================] - 4s 619us/step - loss: 0.5651 - acc: 0.7967 - val_loss: 0.5706 - val_acc: 0.7857\n",
      "Epoch 16/25\n",
      "7246/7246 [==============================] - 4s 620us/step - loss: 0.5610 - acc: 0.8011 - val_loss: 0.5263 - val_acc: 0.8078\n",
      "Epoch 17/25\n",
      "7246/7246 [==============================] - 4s 621us/step - loss: 0.5474 - acc: 0.8022 - val_loss: 0.5521 - val_acc: 0.7940\n",
      "Epoch 18/25\n",
      "7246/7246 [==============================] - 4s 619us/step - loss: 0.5536 - acc: 0.7963 - val_loss: 0.5283 - val_acc: 0.8093\n",
      "Epoch 19/25\n",
      "7246/7246 [==============================] - 4s 619us/step - loss: 0.5476 - acc: 0.8014 - val_loss: 0.5201 - val_acc: 0.8084\n",
      "Epoch 20/25\n",
      "7246/7246 [==============================] - 4s 620us/step - loss: 0.5648 - acc: 0.8011 - val_loss: 0.5304 - val_acc: 0.8050\n",
      "Epoch 21/25\n",
      "7246/7246 [==============================] - 5s 621us/step - loss: 0.5564 - acc: 0.8024 - val_loss: 0.5295 - val_acc: 0.8118\n",
      "Epoch 22/25\n",
      "7246/7246 [==============================] - 4s 620us/step - loss: 0.5405 - acc: 0.8062 - val_loss: 0.5171 - val_acc: 0.8073\n",
      "Epoch 23/25\n",
      "7246/7246 [==============================] - 4s 620us/step - loss: 0.5458 - acc: 0.8015 - val_loss: 0.5632 - val_acc: 0.8038\n",
      "Epoch 24/25\n",
      "7246/7246 [==============================] - 4s 620us/step - loss: 0.5373 - acc: 0.8083 - val_loss: 0.5251 - val_acc: 0.8061\n",
      "Epoch 25/25\n",
      "7246/7246 [==============================] - 4s 620us/step - loss: 0.5341 - acc: 0.8069 - val_loss: 0.5020 - val_acc: 0.8130\n",
      "Test loss: 0.50201258410448\n",
      "Test accuracy: 0.8130002760308045\n"
     ]
    }
   ],
   "source": [
    "if K.image_data_format() == 'channels_first':\n",
    "    x_train = x_train.reshape(x_train.shape[0], 3, img_width, img_height)\n",
    "    x_validation = x_validation.reshape(x_validation.shape[0], 3, img_width, img_height)\n",
    "    input_shape = (3, img_width, img_heigth)\n",
    "else:\n",
    "    x_train = x_train.reshape(x_train.shape[0], img_width, img_height, 3)\n",
    "    x_validation = x_validation.reshape(x_validation.shape[0], img_width, img_height, 3)\n",
    "    input_shape = (img_width, img_height, 3)\n",
    "\n",
    "model = Sequential()\n",
    "model.add(Conv2D(32, kernel_size=(3, 3),\n",
    "                 activation='relu',\n",
    "                 input_shape=input_shape))\n",
    "model.add(Conv2D(64, (3, 3), activation='relu'))\n",
    "model.add(MaxPooling2D(pool_size=(2, 2)))\n",
    "model.add(Dropout(0.25))\n",
    "model.add(Flatten())\n",
    "model.add(Dense(128, activation='relu'))\n",
    "model.add(Dropout(0.5))\n",
    "model.add(Dense(NUM_CLASSES, activation='softmax'))\n",
    "\n",
    "model.compile(loss=keras.losses.categorical_crossentropy,\n",
    "              optimizer=keras.optimizers.Adadelta(),\n",
    "              metrics=['accuracy'])\n",
    "\n",
    "model.fit(x_train, y_train,\n",
    "          batch_size=batch_size,\n",
    "          epochs=epochs,\n",
    "          verbose=1,\n",
    "          validation_data=(x_validation, y_validation))\n",
    "score = model.evaluate(x_validation, y_validation, verbose=0)\n",
    "print('Test loss:', score[0])\n",
    "print('Test accuracy:', score[1])\n",
    "model.save_weights('first_try.h5')"
   ]
  },
  {
   "cell_type": "code",
   "execution_count": 25,
   "metadata": {},
   "outputs": [],
   "source": [
    "from sklearn.utils import shuffle\n",
    "x_mod, y_mod = shuffle(x_mod, y_mod)\n"
   ]
  },
  {
   "cell_type": "code",
   "execution_count": 29,
   "metadata": {},
   "outputs": [
    {
     "data": {
      "text/plain": [
       "(15000, 76, 40, 3)"
      ]
     },
     "execution_count": 29,
     "metadata": {},
     "output_type": "execute_result"
    }
   ],
   "source": []
  },
  {
   "cell_type": "code",
   "execution_count": 43,
   "metadata": {},
   "outputs": [],
   "source": [
    "# Training Parameters\n",
    "learning_rate = 0.0005\n",
    "num_steps = 8000\n",
    "batch_size = 128\n",
    "\n",
    "# Network Parameters\n",
    "num_input = x.shape[0] \n",
    "num_classes = 3 \n",
    "dropout = 0.5 # Dropout, probability to drop a unit\n",
    "\n",
    "def create_new_conv_layer(input_data, num_input_channels, num_filters, filter_shape, pool_shape, name):\n",
    "    # setup the filter input shape for tf.nn.conv_2d\n",
    "    conv_filt_shape = [filter_shape[0], filter_shape[1], num_input_channels, num_filters]\n",
    "\n",
    "    # initialise weights and bias for the filter\n",
    "    weights = tf.Variable(tf.truncated_normal(conv_filt_shape, stddev=0.03), name=name+'_W')\n",
    "    bias = tf.Variable(tf.truncated_normal([num_filters]), name=name+'_b')\n",
    "\n",
    "    # setup the convolutional layer operation\n",
    "    out_layer = tf.nn.conv2d(input_data, weights, [1, 1, 1, 1], padding='SAME')\n",
    "\n",
    "    # add the bias\n",
    "    out_layer += bias\n",
    "\n",
    "    # apply a ReLU non-linear activation\n",
    "    out_layer = tf.nn.relu(out_layer)\n",
    "\n",
    "    # now perform max pooling\n",
    "    # ksize is the argument which defines the size of the max pooling window (i.e. the area over which the maximum is\n",
    "    # calculated).  It must be 4D to match the convolution - in this case, for each image we want to use a 2 x 2 area\n",
    "    # applied to each channel\n",
    "    ksize = [1, pool_shape[0], pool_shape[1], 1]\n",
    "    # strides defines how the max pooling area moves through the image - a stride of 2 in the x direction will lead to\n",
    "    # max pooling areas starting at x=0, x=2, x=4 etc. through your image.  If the stride is 1, we will get max pooling\n",
    "    # overlapping previous max pooling areas (and no reduction in the number of parameters).  In this case, we want\n",
    "    # to do strides of 2 in the x and y directions.\n",
    "    strides = [1, 2, 2, 1]\n",
    "    out_layer = tf.nn.max_pool(out_layer, ksize=ksize, strides=strides, padding='SAME')\n",
    "\n",
    "    return out_layer\n",
    "\n",
    "def conv_net(input_data, dropout, reuse, is_training):\n",
    "    with tf.variable_scope('ConvNet', reuse=reuse):\n",
    "        input2d = tf.reshape(input_data, [-1, img_height, img_width, 3])\n",
    "        \n",
    "        # create some convolutional layers\n",
    "        conv1 = create_new_conv_layer(input2d, 3, 32, [5, 5], [2, 2], name='layer1')\n",
    "        maxp1 = tf.nn.max_pool(conv1, [1, 2, 2, 1], [1, 2, 2, 1], padding='SAME')\n",
    "        conv2 = create_new_conv_layer(maxp1, 32, 64, [5, 5], [2, 2], name='layer2')\n",
    "\n",
    "        # Flatten the data to a 1-D vector for the fully connected layer\n",
    "        fc1 = tf.contrib.layers.flatten(conv2)\n",
    "\n",
    "        # Fully connected layer (in tf contrib folder for now)\n",
    "        fc1 = tf.layers.dense(fc1, 1024)\n",
    "        \n",
    "        input_size = img_width * img_height // 4 // 4 * 64 * 3\n",
    "        \n",
    "        # setup some weights and bias values for this layer, then activate with ReLU\n",
    "        wd1 = tf.Variable(tf.truncated_normal([1024, 1000], stddev=0.03), name='wd1')\n",
    "        bd1 = tf.Variable(tf.truncated_normal([1000], stddev=0.01), name='bd1')\n",
    "        dl1 = tf.matmul(fc1, wd1) + bd1\n",
    "        dl1 = tf.nn.relu(dl1)\n",
    "\n",
    "         # another layer with softmax activations\n",
    "        wd2 = tf.Variable(tf.truncated_normal([1000, num_classes], stddev=0.03), name='wd2')\n",
    "        bd2 = tf.Variable(tf.truncated_normal([num_classes], stddev=0.01), name='bd2')\n",
    "        dl2 = tf.matmul(dl1, wd2) + bd2\n",
    "        \n",
    "        # Apply Dropout (if is_training is False, dropout is not applied)\n",
    "        fc1 = tf.layers.dropout(fc1, rate=dropout, training=is_training)\n",
    "\n",
    "        # Output layer, class prediction\n",
    "        out = dl2\n",
    "    return out\n",
    "\n",
    "        \n",
    "# Define the model function (following TF Estimator Template)\n",
    "def model_fn(features, labels, mode):\n",
    "    \n",
    "    # Build the neural network\n",
    "    # Because Dropout have different behavior at training and prediction time, we\n",
    "    # need to create 2 distinct computation graphs that still share the same weights.\n",
    "    logits_train = conv_net(features, dropout, reuse=False, is_training=True)\n",
    "    logits_test = conv_net(features, dropout, reuse=True, is_training=False)\n",
    "    \n",
    "    # Predictions\n",
    "    pred_classes = tf.argmax(logits_test, axis=1)\n",
    "    pred_probas = tf.nn.softmax(logits_test)\n",
    "    \n",
    "    # If prediction mode, early return\n",
    "    if mode == tf.estimator.ModeKeys.PREDICT:\n",
    "        return tf.estimator.EstimatorSpec(mode, predictions=pred_classes) \n",
    "        \n",
    "    # Define loss and optimizer\n",
    "    loss_op = tf.reduce_mean(tf.nn.sparse_softmax_cross_entropy_with_logits(\n",
    "        logits=logits_train, labels=tf.cast(labels, dtype=tf.int32)))\n",
    "    optimizer = tf.train.AdamOptimizer(learning_rate=learning_rate)\n",
    "    train_op = optimizer.minimize(loss_op, global_step=tf.train.get_global_step())\n",
    "    \n",
    "    # Evaluate the accuracy of the model\n",
    "    acc_op = tf.metrics.accuracy(labels=labels, predictions=pred_classes)\n",
    "    \n",
    "    # TF Estimators requires to return a EstimatorSpec, that specify\n",
    "    # the different ops for training, evaluating, ...\n",
    "    estim_specs = tf.estimator.EstimatorSpec(\n",
    "      mode=mode,\n",
    "      predictions=pred_classes,\n",
    "      loss=loss_op,\n",
    "      train_op=train_op,\n",
    "      eval_metric_ops={'accuracy': acc_op})\n",
    "\n",
    "    return estim_specs"
   ]
  },
  {
   "cell_type": "code",
   "execution_count": 44,
   "metadata": {},
   "outputs": [
    {
     "name": "stdout",
     "output_type": "stream",
     "text": [
      "INFO:tensorflow:Using default config.\n",
      "WARNING:tensorflow:Using temporary folder as model directory: /tmp/tmppixeht1q\n",
      "INFO:tensorflow:Using config: {'_task_type': 'worker', '_cluster_spec': <tensorflow.python.training.server_lib.ClusterSpec object at 0x7f832dafda20>, '_keep_checkpoint_max': 5, '_service': None, '_log_step_count_steps': 100, '_save_summary_steps': 100, '_task_id': 0, '_model_dir': '/tmp/tmppixeht1q', '_num_worker_replicas': 1, '_keep_checkpoint_every_n_hours': 10000, '_global_id_in_cluster': 0, '_is_chief': True, '_save_checkpoints_secs': 600, '_master': '', '_num_ps_replicas': 0, '_save_checkpoints_steps': None, '_evaluation_master': '', '_tf_random_seed': None, '_session_config': None}\n"
     ]
    }
   ],
   "source": [
    "# Build the Estimator\n",
    "model = tf.estimator.Estimator(model_fn)"
   ]
  },
  {
   "cell_type": "code",
   "execution_count": 45,
   "metadata": {},
   "outputs": [
    {
     "name": "stdout",
     "output_type": "stream",
     "text": [
      "INFO:tensorflow:Calling model_fn.\n",
      "INFO:tensorflow:Done calling model_fn.\n",
      "INFO:tensorflow:Create CheckpointSaverHook.\n",
      "INFO:tensorflow:Graph was finalized.\n",
      "INFO:tensorflow:Running local_init_op.\n",
      "INFO:tensorflow:Done running local_init_op.\n",
      "INFO:tensorflow:Saving checkpoints for 1 into /tmp/tmppixeht1q/model.ckpt.\n",
      "INFO:tensorflow:loss = 1.1493967, step = 1\n",
      "INFO:tensorflow:global_step/sec: 99.833\n",
      "INFO:tensorflow:loss = 0.80158275, step = 101 (1.003 sec)\n",
      "INFO:tensorflow:global_step/sec: 105.908\n",
      "INFO:tensorflow:loss = 0.7003159, step = 201 (0.946 sec)\n",
      "INFO:tensorflow:global_step/sec: 105.834\n",
      "INFO:tensorflow:loss = 0.64530087, step = 301 (0.943 sec)\n",
      "INFO:tensorflow:global_step/sec: 105.999\n",
      "INFO:tensorflow:loss = 0.5199734, step = 401 (0.943 sec)\n",
      "INFO:tensorflow:global_step/sec: 105.225\n",
      "INFO:tensorflow:loss = 0.52807134, step = 501 (0.950 sec)\n",
      "INFO:tensorflow:global_step/sec: 106.733\n",
      "INFO:tensorflow:loss = 0.5466591, step = 601 (0.937 sec)\n",
      "INFO:tensorflow:global_step/sec: 107.826\n",
      "INFO:tensorflow:loss = 0.48552462, step = 701 (0.927 sec)\n",
      "INFO:tensorflow:global_step/sec: 106.567\n",
      "INFO:tensorflow:loss = 0.4515306, step = 801 (0.939 sec)\n",
      "INFO:tensorflow:global_step/sec: 105.915\n",
      "INFO:tensorflow:loss = 0.54406184, step = 901 (0.944 sec)\n",
      "INFO:tensorflow:global_step/sec: 105.866\n",
      "INFO:tensorflow:loss = 0.42922562, step = 1001 (0.945 sec)\n",
      "INFO:tensorflow:global_step/sec: 104.926\n",
      "INFO:tensorflow:loss = 0.4562505, step = 1101 (0.953 sec)\n",
      "INFO:tensorflow:global_step/sec: 105.607\n",
      "INFO:tensorflow:loss = 0.46398088, step = 1201 (0.947 sec)\n",
      "INFO:tensorflow:global_step/sec: 106.849\n",
      "INFO:tensorflow:loss = 0.4048718, step = 1301 (0.936 sec)\n",
      "INFO:tensorflow:global_step/sec: 105.975\n",
      "INFO:tensorflow:loss = 0.42530453, step = 1401 (0.944 sec)\n",
      "INFO:tensorflow:global_step/sec: 104.953\n",
      "INFO:tensorflow:loss = 0.46094087, step = 1501 (0.953 sec)\n",
      "INFO:tensorflow:global_step/sec: 104.885\n",
      "INFO:tensorflow:loss = 0.385615, step = 1601 (0.956 sec)\n",
      "INFO:tensorflow:global_step/sec: 105.142\n",
      "INFO:tensorflow:loss = 0.37173867, step = 1701 (0.949 sec)\n",
      "INFO:tensorflow:global_step/sec: 106.837\n",
      "INFO:tensorflow:loss = 0.3546383, step = 1801 (0.936 sec)\n",
      "INFO:tensorflow:global_step/sec: 106.271\n",
      "INFO:tensorflow:loss = 0.38743126, step = 1901 (0.941 sec)\n",
      "INFO:tensorflow:global_step/sec: 105.281\n",
      "INFO:tensorflow:loss = 0.39397675, step = 2001 (0.954 sec)\n",
      "INFO:tensorflow:global_step/sec: 105.568\n",
      "INFO:tensorflow:loss = 0.36738858, step = 2101 (0.943 sec)\n",
      "INFO:tensorflow:global_step/sec: 105.234\n",
      "INFO:tensorflow:loss = 0.30409792, step = 2201 (0.953 sec)\n",
      "INFO:tensorflow:global_step/sec: 104.949\n",
      "INFO:tensorflow:loss = 0.3068849, step = 2301 (0.952 sec)\n",
      "INFO:tensorflow:global_step/sec: 105.853\n",
      "INFO:tensorflow:loss = 0.42723173, step = 2401 (0.943 sec)\n",
      "INFO:tensorflow:global_step/sec: 105.594\n",
      "INFO:tensorflow:loss = 0.33208674, step = 2501 (0.947 sec)\n",
      "INFO:tensorflow:global_step/sec: 105.469\n",
      "INFO:tensorflow:loss = 0.2306397, step = 2601 (0.949 sec)\n",
      "INFO:tensorflow:global_step/sec: 104.282\n",
      "INFO:tensorflow:loss = 0.35873947, step = 2701 (0.959 sec)\n",
      "INFO:tensorflow:global_step/sec: 105.482\n",
      "INFO:tensorflow:loss = 0.31466562, step = 2801 (0.948 sec)\n",
      "INFO:tensorflow:global_step/sec: 105.33\n",
      "INFO:tensorflow:loss = 0.31808445, step = 2901 (0.949 sec)\n",
      "INFO:tensorflow:global_step/sec: 105.788\n",
      "INFO:tensorflow:loss = 0.29158664, step = 3001 (0.945 sec)\n",
      "INFO:tensorflow:global_step/sec: 105.3\n",
      "INFO:tensorflow:loss = 0.25064185, step = 3101 (0.949 sec)\n",
      "INFO:tensorflow:global_step/sec: 105.427\n",
      "INFO:tensorflow:loss = 0.24534404, step = 3201 (0.949 sec)\n",
      "INFO:tensorflow:global_step/sec: 105.339\n",
      "INFO:tensorflow:loss = 0.19430375, step = 3301 (0.949 sec)\n",
      "INFO:tensorflow:global_step/sec: 104.849\n",
      "INFO:tensorflow:loss = 0.21474499, step = 3401 (0.954 sec)\n",
      "INFO:tensorflow:global_step/sec: 104.242\n",
      "INFO:tensorflow:loss = 0.24721047, step = 3501 (0.959 sec)\n",
      "INFO:tensorflow:global_step/sec: 103.551\n",
      "INFO:tensorflow:loss = 0.2615397, step = 3601 (0.968 sec)\n",
      "INFO:tensorflow:global_step/sec: 104.106\n",
      "INFO:tensorflow:loss = 0.2476247, step = 3701 (0.958 sec)\n",
      "INFO:tensorflow:global_step/sec: 105.227\n",
      "INFO:tensorflow:loss = 0.20460643, step = 3801 (0.950 sec)\n",
      "INFO:tensorflow:global_step/sec: 104.752\n",
      "INFO:tensorflow:loss = 0.15886208, step = 3901 (0.955 sec)\n",
      "INFO:tensorflow:global_step/sec: 105.459\n",
      "INFO:tensorflow:loss = 0.17916624, step = 4001 (0.948 sec)\n",
      "INFO:tensorflow:global_step/sec: 104.72\n",
      "INFO:tensorflow:loss = 0.23317645, step = 4101 (0.955 sec)\n",
      "INFO:tensorflow:global_step/sec: 104.015\n",
      "INFO:tensorflow:loss = 0.23186234, step = 4201 (0.962 sec)\n",
      "INFO:tensorflow:global_step/sec: 104.806\n",
      "INFO:tensorflow:loss = 0.2103719, step = 4301 (0.954 sec)\n",
      "INFO:tensorflow:global_step/sec: 105.82\n",
      "INFO:tensorflow:loss = 0.13303722, step = 4401 (0.945 sec)\n",
      "INFO:tensorflow:global_step/sec: 105.466\n",
      "INFO:tensorflow:loss = 0.12673776, step = 4501 (0.948 sec)\n",
      "INFO:tensorflow:global_step/sec: 105.376\n",
      "INFO:tensorflow:loss = 0.26908717, step = 4601 (0.953 sec)\n",
      "INFO:tensorflow:global_step/sec: 106.851\n",
      "INFO:tensorflow:loss = 0.17754821, step = 4701 (0.932 sec)\n",
      "INFO:tensorflow:global_step/sec: 104.935\n",
      "INFO:tensorflow:loss = 0.16583017, step = 4801 (0.953 sec)\n",
      "INFO:tensorflow:global_step/sec: 105.121\n",
      "INFO:tensorflow:loss = 0.18840489, step = 4901 (0.952 sec)\n",
      "INFO:tensorflow:global_step/sec: 106.094\n",
      "INFO:tensorflow:loss = 0.14627166, step = 5001 (0.942 sec)\n",
      "INFO:tensorflow:global_step/sec: 106.122\n",
      "INFO:tensorflow:loss = 0.17808294, step = 5101 (0.942 sec)\n",
      "INFO:tensorflow:global_step/sec: 105.913\n",
      "INFO:tensorflow:loss = 0.17786276, step = 5201 (0.944 sec)\n",
      "INFO:tensorflow:global_step/sec: 105.72\n",
      "INFO:tensorflow:loss = 0.15350145, step = 5301 (0.946 sec)\n",
      "INFO:tensorflow:global_step/sec: 106.384\n",
      "INFO:tensorflow:loss = 0.11214814, step = 5401 (0.940 sec)\n",
      "INFO:tensorflow:global_step/sec: 107.555\n",
      "INFO:tensorflow:loss = 0.11597214, step = 5501 (0.930 sec)\n",
      "INFO:tensorflow:global_step/sec: 105.853\n",
      "INFO:tensorflow:loss = 0.06959037, step = 5601 (0.945 sec)\n",
      "INFO:tensorflow:global_step/sec: 105.026\n",
      "INFO:tensorflow:loss = 0.18913174, step = 5701 (0.952 sec)\n",
      "INFO:tensorflow:global_step/sec: 103.454\n",
      "INFO:tensorflow:loss = 0.08032775, step = 5801 (0.970 sec)\n",
      "INFO:tensorflow:global_step/sec: 102.72\n",
      "INFO:tensorflow:loss = 0.18720928, step = 5901 (0.971 sec)\n",
      "INFO:tensorflow:global_step/sec: 102.899\n",
      "INFO:tensorflow:loss = 0.038989287, step = 6001 (0.971 sec)\n",
      "INFO:tensorflow:global_step/sec: 103.563\n",
      "INFO:tensorflow:loss = 0.052789498, step = 6101 (0.966 sec)\n",
      "INFO:tensorflow:global_step/sec: 103.067\n",
      "INFO:tensorflow:loss = 0.10578702, step = 6201 (0.970 sec)\n",
      "INFO:tensorflow:global_step/sec: 103.164\n",
      "INFO:tensorflow:loss = 0.019663442, step = 6301 (0.970 sec)\n",
      "INFO:tensorflow:global_step/sec: 103.377\n",
      "INFO:tensorflow:loss = 0.14452024, step = 6401 (0.967 sec)\n",
      "INFO:tensorflow:global_step/sec: 104.202\n",
      "INFO:tensorflow:loss = 0.1046731, step = 6501 (0.960 sec)\n",
      "INFO:tensorflow:global_step/sec: 105.259\n",
      "INFO:tensorflow:loss = 0.08079852, step = 6601 (0.950 sec)\n",
      "INFO:tensorflow:global_step/sec: 105.508\n",
      "INFO:tensorflow:loss = 0.06857237, step = 6701 (0.948 sec)\n",
      "INFO:tensorflow:global_step/sec: 104.564\n",
      "INFO:tensorflow:loss = 0.061955597, step = 6801 (0.957 sec)\n",
      "INFO:tensorflow:global_step/sec: 105.219\n",
      "INFO:tensorflow:loss = 0.14271939, step = 6901 (0.950 sec)\n",
      "INFO:tensorflow:global_step/sec: 104.779\n",
      "INFO:tensorflow:loss = 0.06607329, step = 7001 (0.954 sec)\n",
      "INFO:tensorflow:global_step/sec: 103.808\n",
      "INFO:tensorflow:loss = 0.09479542, step = 7101 (0.963 sec)\n",
      "INFO:tensorflow:global_step/sec: 105.056\n",
      "INFO:tensorflow:loss = 0.10641218, step = 7201 (0.955 sec)\n",
      "INFO:tensorflow:global_step/sec: 105.16\n",
      "INFO:tensorflow:loss = 0.0722374, step = 7301 (0.947 sec)\n",
      "INFO:tensorflow:global_step/sec: 104.444\n",
      "INFO:tensorflow:loss = 0.0473615, step = 7401 (0.958 sec)\n",
      "INFO:tensorflow:global_step/sec: 104.802\n",
      "INFO:tensorflow:loss = 0.06427205, step = 7501 (0.954 sec)\n",
      "INFO:tensorflow:global_step/sec: 104.884\n",
      "INFO:tensorflow:loss = 0.029075567, step = 7601 (0.953 sec)\n",
      "INFO:tensorflow:global_step/sec: 104.552\n",
      "INFO:tensorflow:loss = 0.05809117, step = 7701 (0.960 sec)\n",
      "INFO:tensorflow:global_step/sec: 104.661\n",
      "INFO:tensorflow:loss = 0.0556583, step = 7801 (0.956 sec)\n",
      "INFO:tensorflow:global_step/sec: 104.58\n",
      "INFO:tensorflow:loss = 0.061484493, step = 7901 (0.956 sec)\n",
      "INFO:tensorflow:Saving checkpoints for 8000 into /tmp/tmppixeht1q/model.ckpt.\n",
      "INFO:tensorflow:Loss for final step: 0.12028621.\n"
     ]
    },
    {
     "data": {
      "text/plain": [
       "<tensorflow.python.estimator.estimator.Estimator at 0x7f832dafd588>"
      ]
     },
     "execution_count": 45,
     "metadata": {},
     "output_type": "execute_result"
    }
   ],
   "source": [
    "# Define the input function for training\n",
    "input_fn = tf.estimator.inputs.numpy_input_fn(\n",
    "    x=x_mod, y=y_mod,\n",
    "    batch_size=batch_size, num_epochs=None, shuffle=True)\n",
    "# Train the Model\n",
    "model.train(input_fn, steps=num_steps)"
   ]
  },
  {
   "cell_type": "code",
   "execution_count": null,
   "metadata": {},
   "outputs": [],
   "source": []
  },
  {
   "cell_type": "code",
   "execution_count": null,
   "metadata": {},
   "outputs": [],
   "source": []
  }
 ],
 "metadata": {
  "kernelspec": {
   "display_name": "Python 3",
   "language": "python",
   "name": "python3"
  },
  "language_info": {
   "codemirror_mode": {
    "name": "ipython",
    "version": 3
   },
   "file_extension": ".py",
   "mimetype": "text/x-python",
   "name": "python",
   "nbconvert_exporter": "python",
   "pygments_lexer": "ipython3",
   "version": "3.5.5"
  }
 },
 "nbformat": 4,
 "nbformat_minor": 2
}
